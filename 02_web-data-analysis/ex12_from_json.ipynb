{
 "cells": [
  {
   "cell_type": "code",
   "execution_count": 2,
   "metadata": {},
   "outputs": [],
   "source": [
    "import json\n",
    "inst = '{ \"1\":\"guitar\" , \"2\":\"violin\", \"3\":\"piano\"} ' # json 문자열\n",
    " \n",
    "fromJson = #TODO\n",
    "print( #TODO)"
   ]
  },
  {
   "cell_type": "code",
   "execution_count": 1,
   "metadata": {},
   "outputs": [],
   "source": [
    "inst = '''[ { \"1\":\"guitar\" , \"2\":\"violin\", \"3\":\"piano\"} , \n",
    "            { \"1\":\"guitar\" , \"22\":\"violin\", \"3\":\"piano\"}  \n",
    "          ]''' # json 배열 문자열\n",
    " \n",
    "fromJson = #TODO\n",
    "print( #TODO( #TODO)) \n",
    "print( type( fromJson [0]) )\n",
    "print(  #TODO )"
   ]
  },
  {
   "cell_type": "code",
   "execution_count": null,
   "metadata": {},
   "outputs": [],
   "source": []
  }
 ],
 "metadata": {
  "kernelspec": {
   "display_name": "Python 3 (ipykernel)",
   "language": "python",
   "name": "python3"
  },
  "language_info": {
   "codemirror_mode": {
    "name": "ipython",
    "version": 3
   },
   "file_extension": ".py",
   "mimetype": "text/x-python",
   "name": "python",
   "nbconvert_exporter": "python",
   "pygments_lexer": "ipython3",
   "version": "3.10.9"
  }
 },
 "nbformat": 4,
 "nbformat_minor": 2
}
