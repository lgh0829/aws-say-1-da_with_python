{
 "cells": [
  {
   "cell_type": "code",
   "execution_count": 1,
   "metadata": {},
   "outputs": [
    {
     "name": "stdout",
     "output_type": "stream",
     "text": [
      "Requirement already satisfied: bs4 in /opt/anaconda3/lib/python3.12/site-packages (0.0.2)\n",
      "Requirement already satisfied: beautifulsoup4 in /opt/anaconda3/lib/python3.12/site-packages (from bs4) (4.12.3)\n",
      "Requirement already satisfied: soupsieve>1.2 in /opt/anaconda3/lib/python3.12/site-packages (from beautifulsoup4->bs4) (2.5)\n",
      "Note: you may need to restart the kernel to use updated packages.\n"
     ]
    }
   ],
   "source": [
    "pip install bs4"
   ]
  },
  {
   "cell_type": "code",
   "execution_count": 29,
   "metadata": {},
   "outputs": [
    {
     "name": "stdout",
     "output_type": "stream",
     "text": [
      "<html>\n",
      " <head>\n",
      "  <title>\n",
      "   web test\n",
      "  </title>\n",
      " </head>\n",
      " <body>\n",
      "  <p align=\"center\">\n",
      "   text content1\n",
      "  </p>\n",
      "  <p align=\"left\">\n",
      "   text content2\n",
      "  </p>\n",
      "  <p align=\"right\">\n",
      "   text content3\n",
      "  </p>\n",
      "  <img src=\"koala.jpg\"/>\n",
      " </body>\n",
      "</html>\n",
      "\n",
      "<html>\n",
      "<head>\n",
      "<title> web test  </title>\n",
      "</head>\n",
      "<body>\n",
      "<p align=\"center\"> text content1 </p>\n",
      "<p align=\"left\"> text content2 </p>\n",
      "<p align=\"right\"> text content3 </p>\n",
      "<img src=\"koala.jpg\"/>\n",
      "</body>\n",
      "</html>\n",
      "\n"
     ]
    }
   ],
   "source": [
    "html =  \"\"\" \n",
    "   <html> \n",
    "     <head> \n",
    "        <title> web test  </title> \n",
    "     </head>\n",
    "     <body>  \n",
    "        <p align=\"center\" > text content1 </p> \n",
    "        <p align=\"left\" > text content2 </p> \n",
    "        <p align=\"right\" > text content3 </p> \n",
    "        <img src=\"koala.jpg\"/> \n",
    "     </body> \n",
    "   </html> \n",
    "\"\"\"\n",
    "from bs4  import BeautifulSoup \n",
    "bs = BeautifulSoup(html)\n",
    "print(bs.prettify())  # html pretty 출력\n",
    "print(bs.extract())   # html 기본 출력"
   ]
  },
  {
   "cell_type": "code",
   "execution_count": 30,
   "metadata": {},
   "outputs": [
    {
     "name": "stdout",
     "output_type": "stream",
     "text": [
      "<head>\n",
      "<title> web test  </title>\n",
      "</head>\n",
      "***\n",
      "<p align=\"center\"> text content1 </p>\n",
      "***\n",
      "None\n"
     ]
    }
   ],
   "source": [
    "# 특정 태그 값만 파싱\n",
    "# find(”태그명”) 메서드\n",
    "print (bs.find(\"head\"))\n",
    "print (\"***\")\n",
    "print (bs.find(\"p\"))\n",
    "print (\"***\")\n",
    "print (bs.find(\"a\"))"
   ]
  },
  {
   "cell_type": "code",
   "execution_count": 4,
   "metadata": {},
   "outputs": [
    {
     "name": "stdout",
     "output_type": "stream",
     "text": [
      "<title> web test  </title>\n",
      "<img src=\"koala.jpg\"/>\n",
      "<p align=\"left\"> text content2 </p>\n"
     ]
    }
   ],
   "source": [
    "# 특정 태그, 특정 속성을 사용한 값만 파싱\n",
    "# find(”태그명”, 속성명=”값”) 메서드\n",
    "html =  \"\"\" \n",
    "   <html> \n",
    "     <head> \n",
    "        <title> web test  </title> \n",
    "     </head>\n",
    "     <body>  \n",
    "        <p align=\"center\" > text content1 </p> \n",
    "        <p align=\"left\" > text content2 </p> \n",
    "        <p align=\"right\" > text content3 </p> \n",
    "        <img src=\"koala.jpg\"/> \n",
    "     </body> \n",
    "   </html> \n",
    "    \"\"\"\n",
    "from bs4 import BeautifulSoup\n",
    "bs = BeautifulSoup(html)\n",
    "\n",
    "print (bs.find(\"title\"))\n",
    "print (bs.find(\"img\"))\n",
    "print (bs.find(\"p\", align=\"left\"))\n"
   ]
  },
  {
   "cell_type": "code",
   "execution_count": 16,
   "metadata": {},
   "outputs": [
    {
     "name": "stdout",
     "output_type": "stream",
     "text": [
      "headtag: <title> web test  </title>\n",
      "\n",
      "bodytag: <body>\n",
      "<p align=\"center\"> text content1 </p>\n",
      "<p align=\"left\"> text content2 </p>\n",
      "<p align=\"right\"> text content3 </p>\n",
      "<img src=\"koala.jpg\"/>\n",
      "</body>\n",
      "\n",
      "p_list: [' text content1 ', ' text content2 ', ' text content3 ']\n",
      "\n",
      "['web test', 'text content1', 'text content2', 'text content3']\n",
      "\n"
     ]
    }
   ],
   "source": [
    "\n",
    "# bodytag.find([\"p\",\"img\"]) 여러 태그에 대해 한꺼번에 찾는 메서드\n",
    "\n",
    "# 태그 안의 자식 태그를 단계적으로 파싱하는 방법\n",
    "headtag = bs.find('head')\n",
    "print(f\"headtag: {headtag.find(\"title\")}\\n\")\n",
    "\n",
    "bodytag = bs.find(\"body\")\n",
    "print(f\"bodytag: {bodytag}\\n\")\n",
    "\n",
    "p_list = [tag.text for tag in bodytag.find_all(\"p\")]\n",
    "print(f\"p_list: {p_list}\\n\")\n",
    "\n",
    "print(f\"{[tags.get_text(strip=True) for tags in bs.find_all(['p','a','title'])]}\\n\")\n",
    "\n",
    "import re\n",
    "\n",
    "\n",
    "    \n",
    "\n",
    "# print (headtag.find(\"title\"))\n",
    "# print (title) # <title> web test  </title>\n",
    "# print ( bodytag.find(\"a\") )     #None\n",
    "# print ( headtag.find([\"p\",\"a\",\"title\"]) )\n",
    "\n",
    "# bodytag = bs.find(\"body\")\n",
    "# list1 = bodytag.#TODO \n",
    "    \n",
    "# for  tag in #TODO  :\n",
    "#     print(tag)\n",
    "\n",
    "# import re\n",
    "# print ( bs.#TODO ( re.compile(\"^p\") ))  # p로 시작하는 모든 단어 "
   ]
  },
  {
   "cell_type": "code",
   "execution_count": null,
   "metadata": {},
   "outputs": [],
   "source": [
    "# 특정 태그, 속성에 해당하는 모든 값을 파싱\n",
    "# findall (”태그명”, 속성명=”값”)\n",
    "\n",
    "html =  \"\"\" \n",
    "   <html> \n",
    "     <head> \n",
    "        <title> web test  </title> \n",
    "     </head>\n",
    "     <body>  \n",
    "        <p align=\"center\" > text content1 </p> \n",
    "        <p align=\"left\" > text content2 </p> \n",
    "        <p align=\"right\" > text content3 </p> \n",
    "        <img src=\"koala.jpg\" width=500  /> \n",
    "     </body> \n",
    "   </html> \n",
    "    \"\"\"\n",
    "\n",
    "from bs4 import BeautifulSoup\n",
    "bs = BeautifulSoup(html, features=\"html.parser\")\n",
    "print (bs.#TODO )\n",
    "print (bs.#TODO )\n",
    "print (bs.find_all(#TODO \" text content1 \"))"
   ]
  },
  {
   "cell_type": "code",
   "execution_count": null,
   "metadata": {},
   "outputs": [],
   "source": [
    "import re\n",
    "print (bs.find_all(text=re.compile(\" text +\")))  "
   ]
  },
  {
   "cell_type": "code",
   "execution_count": null,
   "metadata": {},
   "outputs": [],
   "source": [
    "print (bs.#TODO) \n",
    "\n",
    "\n",
    "ptag = bs.find(\"p\")\n",
    "print(ptag)\n",
    "print(ptag.#TODO)"
   ]
  },
  {
   "cell_type": "code",
   "execution_count": null,
   "metadata": {},
   "outputs": [],
   "source": [
    "\n",
    "bodytag = bs.find(\"body\")\n",
    "print(bodytag.#TODO)  #첫번째 text data만\n",
    "for i in bodytag.#TODO :\n",
    "    print(i)"
   ]
  },
  {
   "cell_type": "code",
   "execution_count": 17,
   "metadata": {
    "scrolled": true
   },
   "outputs": [
    {
     "name": "stdout",
     "output_type": "stream",
     "text": [
      "[<p align=\"center\"> text content1 </p>]\n",
      "[<img src=\"koala.jpg\" width=\"500\"/>]\n",
      "[' text content1 ']\n",
      "[' text content1 ', ' text content2 ', ' text content3 ']\n",
      "[<p align=\"center\"> text content1 </p>, <p align=\"left\"> text content2 </p>]\n",
      "<p align=\"center\"> text content1 </p>\n",
      " text content1 \n",
      "None\n",
      "\n",
      "\n",
      " text content1 \n",
      "\n",
      "\n",
      " text content2 \n",
      "\n",
      "\n",
      " text content3 \n",
      "\n",
      "\n",
      "\n",
      "\n",
      "\n",
      " text content1 \n",
      " text content2 \n",
      " text content3 \n",
      "\n",
      "\n",
      "text content1text content2text content3\n",
      "text content1-text content2-text content3\n"
     ]
    }
   ],
   "source": [
    "print(bodytag.#TODO())\n",
    "print(bodytag.#TODO(strip=True))\n",
    "print(bodytag.#TODO('-', strip=True))"
   ]
  },
  {
   "cell_type": "code",
   "execution_count": 18,
   "metadata": {},
   "outputs": [
    {
     "name": "stdout",
     "output_type": "stream",
     "text": [
      "<p align=\"center\" class=\"ptag yellow\"> text content1 </p>\n",
      "['ptag', 'yellow']\n",
      "center\n",
      "yellow\n",
      "['ptag', 'white']\n",
      "P-TAG\n",
      "{'class': ['ptag', 'white'], 'id': 'P-TAG'}\n"
     ]
    }
   ],
   "source": [
    "html =  \"\"\" \n",
    "   <html> \n",
    "     <head> \n",
    "        <title> web test  </title> \n",
    "     </head>\n",
    "     <body>  \n",
    "        <p class=\"ptag yellow\" align=\"center\" > text content1 </p> \n",
    "        <p class=\"ptag red\" align=\"left\" > text content2 </p> \n",
    "        <p class=\"ptag blue\" align=\"right\" > text content3 </p> \n",
    "        <img src=\"koala.jpg\" width=500  />  \n",
    "        <a href=\"http://....\" > 뉴스제목</a>\n",
    "     </body> \n",
    "   </html> \n",
    "    \"\"\"\n",
    "from bs4 import BeautifulSoup\n",
    "bs = BeautifulSoup(html, features=\"html.parser\")\n",
    "print ( bs.#TODO) ) #속성명으로 class 사용 시 class_ \n",
    "\n",
    "\n",
    "p_tag = bs.find(\"p\")\n",
    "print ( #TODO  ) # [ptag ,yellow]\n",
    "print ( p_tag [\"align\"]  ) # center\n",
    "\n",
    "print( p_tag [\"class\"][1]  ) # yellow\n",
    "#TODO[1] = \"white\"  # 속성값 변경\n",
    "print ( p_tag [\"class\"]  )\n",
    "\n",
    "p_tag[\"id\"] = \"P-TAG\"\n",
    "print (p_tag[\"id\"])\n",
    "\n",
    "del p_tag[\"align\"]\n",
    "# print(  p_tag[\"align\"]  )  # 없는 속성값 불러오면 오류\n",
    "\n",
    "print (#TODO)\n",
    "\n",
    "#문제  a 태그의 href 속성 값을 출력하세요.  "
   ]
  },
  {
   "cell_type": "code",
   "execution_count": 19,
   "metadata": {},
   "outputs": [
    {
     "name": "stdout",
     "output_type": "stream",
     "text": [
      "\n",
      "\n",
      "<p align=\"center\" class=\"ptag yellow\"> text content1 </p>\n",
      "\n",
      "\n",
      "<p align=\"left\" class=\"ptag red\"> text content2 </p>\n",
      "\n",
      "\n",
      "<p align=\"right\" class=\"ptag blue\"> text content3 </p>\n",
      "\n",
      "\n",
      "<img src=\"koala.jpg\" width=\"500\"/>\n",
      "\n",
      "\n"
     ]
    }
   ],
   "source": [
    "html =  \"\"\" \n",
    "   <html> \n",
    "     <head> \n",
    "        <title> web test  </title> \n",
    "     </head>\n",
    "     <body>  \n",
    "        <p class=\"ptag yellow \" align=\"center\" > text content1 </p> \n",
    "        <p class=\"ptag red \" align=\"left\" > text content2 </p> \n",
    "        <p class=\"ptag blue \" align=\"right\" > text content3 </p> \n",
    "        <img src=\"koala.jpg\" width=500  /> \n",
    "     </body> \n",
    "   </html> \n",
    "    \"\"\"\n",
    "from bs4 import BeautifulSoup\n",
    "bs = BeautifulSoup(html, features=\"html.parser\")\n",
    "\n",
    "body_tag= #TODO\n",
    "for  i in #TODO  :\n",
    "    print(i)"
   ]
  },
  {
   "cell_type": "code",
   "execution_count": 13,
   "metadata": {},
   "outputs": [
    {
     "name": "stdout",
     "output_type": "stream",
     "text": [
      "Help on function get_text in module bs4.element:\n",
      "\n",
      "get_text(self, separator='', strip=False, types=<object object at 0x10433e800>)\n",
      "    Get all child strings of this PageElement, concatenated using the\n",
      "    given separator.\n",
      "\n",
      "    :param separator: Strings will be concatenated using this separator.\n",
      "\n",
      "    :param strip: If True, strings will be stripped before being\n",
      "        concatenated.\n",
      "\n",
      "    :param types: A tuple of NavigableString subclasses. Any\n",
      "        strings of a subclass not found in this list will be\n",
      "        ignored. Although there are exceptions, the default\n",
      "        behavior in most cases is to consider only NavigableString\n",
      "        and CData objects. That means no comments, processing\n",
      "        instructions, etc.\n",
      "\n",
      "    :return: A string.\n",
      "\n"
     ]
    }
   ],
   "source": [
    "help(BeautifulSoup.get_text)"
   ]
  },
  {
   "cell_type": "code",
   "execution_count": null,
   "metadata": {},
   "outputs": [],
   "source": []
  }
 ],
 "metadata": {
  "kernelspec": {
   "display_name": "Python 3 (ipykernel)",
   "language": "python",
   "name": "python3"
  },
  "language_info": {
   "codemirror_mode": {
    "name": "ipython",
    "version": 3
   },
   "file_extension": ".py",
   "mimetype": "text/x-python",
   "name": "python",
   "nbconvert_exporter": "python",
   "pygments_lexer": "ipython3",
   "version": "3.12.7"
  }
 },
 "nbformat": 4,
 "nbformat_minor": 4
}
