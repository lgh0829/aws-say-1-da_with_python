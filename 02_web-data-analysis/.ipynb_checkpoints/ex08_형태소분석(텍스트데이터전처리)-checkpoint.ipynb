{
 "cells": [
  {
   "cell_type": "code",
   "execution_count": 5,
   "metadata": {},
   "outputs": [
    {
     "name": "stdout",
     "output_type": "stream",
     "text": [
      "Requirement already satisfied: konlpy in /Users/jungin/anaconda3/lib/python3.10/site-packages (0.6.0)\n",
      "Requirement already satisfied: numpy>=1.6 in /Users/jungin/anaconda3/lib/python3.10/site-packages (from konlpy) (1.23.5)\n",
      "Requirement already satisfied: lxml>=4.1.0 in /Users/jungin/anaconda3/lib/python3.10/site-packages (from konlpy) (4.9.1)\n",
      "Requirement already satisfied: JPype1>=0.7.0 in /Users/jungin/anaconda3/lib/python3.10/site-packages (from konlpy) (1.4.1)\n",
      "Requirement already satisfied: packaging in /Users/jungin/anaconda3/lib/python3.10/site-packages (from JPype1>=0.7.0->konlpy) (22.0)\n",
      "Note: you may need to restart the kernel to use updated packages.\n"
     ]
    }
   ],
   "source": [
    "pip install konlpy"
   ]
  },
  {
   "cell_type": "code",
   "execution_count": 6,
   "metadata": {},
   "outputs": [
    {
     "name": "stdout",
     "output_type": "stream",
     "text": [
      "['명사', '만', '추출', '형태소', '분석']\n"
     ]
    }
   ],
   "source": [
    "from #TODO import #TODO\n",
    "a = #TODO() \n",
    "\n",
    "nouns = a.#TODO(\"%명사*만을 추출합니다. 형태소 분석입니다. \")\n",
    "print(nouns)"
   ]
  },
  {
   "cell_type": "code",
   "execution_count": null,
   "metadata": {},
   "outputs": [],
   "source": []
  }
 ],
 "metadata": {
  "kernelspec": {
   "display_name": "Python 3 (ipykernel)",
   "language": "python",
   "name": "python3"
  },
  "language_info": {
   "codemirror_mode": {
    "name": "ipython",
    "version": 3
   },
   "file_extension": ".py",
   "mimetype": "text/x-python",
   "name": "python",
   "nbconvert_exporter": "python",
   "pygments_lexer": "ipython3",
   "version": "3.10.9"
  }
 },
 "nbformat": 4,
 "nbformat_minor": 2
}
