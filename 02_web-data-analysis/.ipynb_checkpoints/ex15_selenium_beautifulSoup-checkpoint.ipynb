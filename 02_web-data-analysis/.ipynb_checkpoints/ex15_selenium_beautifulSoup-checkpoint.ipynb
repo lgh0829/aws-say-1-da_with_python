{
 "cells": [
  {
   "cell_type": "code",
   "execution_count": 12,
   "metadata": {},
   "outputs": [],
   "source": [
    "from selenium import webdriver\n",
    "# import chromedriver_autoinstaller\n",
    "\n",
    "# chromedriver_autoinstaller.install()  # Check if the current version of chromedriver exists\n",
    "#                                       # and if it doesn't exist, download it automatically,\n",
    "#                                       # then add chromedriver to path\n",
    "\n",
    "driver = webdriver.Chrome()\n",
    "# driver.get(\"https://www.naver.com/\")  \n",
    "driver.get(\"https://www.musinsa.com/\")\n",
    "\n",
    " \n",
    "from selenium.webdriver.common.by import By\n",
    "keyword_element = driver.find_element(By.ID, 'commonLayoutSearchForm')\n",
    "keyword_element.clear()\n",
    "keyword_element.send_keys(\"운동화\")\n"
   ]
  },
  {
   "cell_type": "code",
   "execution_count": 13,
   "metadata": {},
   "outputs": [],
   "source": [
    "button = driver.find_element(By.CLASS_NAME, 'sc-1ppcy5v-5')\n",
    "button.click()"
   ]
  },
  {
   "cell_type": "code",
   "execution_count": 14,
   "metadata": {},
   "outputs": [
    {
     "name": "stdout",
     "output_type": "stream",
     "text": [
      "<div class=\"shortcut-type-banner-v2__contents\">\n",
      "<a href=\"https://www.musinsa.com/app/campaign/index/hyundaicard_2308\" title=\"현대카드 무이자 할부 프로모션\">\n",
      "<img alt=\"현대카드 무이자 할부 프로모션\" src=\"https://image.msscdn.net/data/search/direct/pc/20230816/3417.jpg?v=112645\"/>\n",
      "</a>\n",
      "<a href=\"https://www.musinsa.com/app/plan/views/39853\" title=\"무신사 스탠다드 슬랙스 PRE-SALE 쿠폰 기획전\">\n",
      "<img alt=\"무신사 스탠다드 슬랙스 PRE-SALE 쿠폰 기획전\" src=\"https://image.msscdn.net/data/search/direct/pc/20230818/3421.jpg?v=163235\"/>\n",
      "</a>\n",
      "<a href=\"https://www.musinsa.com/app/plan/views/39971\" title=\"SPOTLIGHT EXCLUSIVE : Women BAG &amp; SHOES\">\n",
      "<img alt=\"SPOTLIGHT EXCLUSIVE : Women BAG &amp; SHOES\" src=\"https://image.msscdn.net/data/search/direct/pc/20230821/3422.jpg?v=123016\"/>\n",
      "</a>\n",
      "<a href=\"https://www.musinsa.com/app/campaign/index/WelcomeRaffle\" title=\"웰컴래플 2회차\">\n",
      "<img alt=\"웰컴래플 2회차\" src=\"https://image.msscdn.net/data/search/direct/pc/20230809/3405.jpg?v=170853\"/>\n",
      "</a>\n",
      "<a href=\"https://www.musinsa.com/cms/showcases/view/8126\" title=\"엠버서더 'RIIZE(라이즈)' 쇼케이스 공개\">\n",
      "<img alt=\"엠버서더 'RIIZE(라이즈)' 쇼케이스 공개\" src=\"https://image.msscdn.net/data/search/direct/pc/20230821/3423.jpg?v=090406\"/>\n",
      "</a>\n",
      "</div>\n"
     ]
    }
   ],
   "source": [
    "from bs4 import BeautifulSoup\n",
    "html = driver.page_source\n",
    "\n",
    "soup = BeautifulSoup(html, 'html.parser')\n",
    "\n",
    "\n",
    "## 프로모션 중인 페이지 링크 가져오기  \n",
    "raw_list = soup.find('div', class_=\"shortcut-type-banner-v2__contents\")\n",
    "print( raw_list ) "
   ]
  },
  {
   "cell_type": "code",
   "execution_count": 15,
   "metadata": {},
   "outputs": [
    {
     "name": "stdout",
     "output_type": "stream",
     "text": [
      "https://www.musinsa.com/app/campaign/index/hyundaicard_2308\n",
      "https://www.musinsa.com/app/plan/views/39853\n",
      "https://www.musinsa.com/app/plan/views/39971\n",
      "https://www.musinsa.com/app/campaign/index/WelcomeRaffle\n",
      "https://www.musinsa.com/cms/showcases/view/8126\n"
     ]
    }
   ],
   "source": [
    "## 프로모션 중인 페이지 링크 가져오기  \n",
    "a_list =  raw_list.find_all('a')\n",
    "for a in a_list : \n",
    "    print(a[\"href\"]) ## 프로모션 중인 페이지 링크 출력 "
   ]
  },
  {
   "cell_type": "code",
   "execution_count": null,
   "metadata": {},
   "outputs": [],
   "source": [
    "# 드라이버 종료\n",
    "# driver.quit()"
   ]
  }
 ],
 "metadata": {
  "kernelspec": {
   "display_name": "Python 3 (ipykernel)",
   "language": "python",
   "name": "python3"
  },
  "language_info": {
   "codemirror_mode": {
    "name": "ipython",
    "version": 3
   },
   "file_extension": ".py",
   "mimetype": "text/x-python",
   "name": "python",
   "nbconvert_exporter": "python",
   "pygments_lexer": "ipython3",
   "version": "3.10.9"
  }
 },
 "nbformat": 4,
 "nbformat_minor": 2
}
