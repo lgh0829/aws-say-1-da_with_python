{
 "cells": [
  {
   "cell_type": "code",
   "execution_count": 1,
   "metadata": {},
   "outputs": [],
   "source": [
    "import json\n",
    "inst = { 1:\"guitar\" , 2:\"violin\", 3:\"piano\"} \n",
    "\n",
    "to_json = #TODO\n",
    "print(type(to_json),to_json )"
   ]
  },
  {
   "cell_type": "code",
   "execution_count": 2,
   "metadata": {},
   "outputs": [],
   "source": [
    "to_json = #TODO\n",
    "print( to_json )"
   ]
  },
  {
   "cell_type": "code",
   "execution_count": 3,
   "metadata": {},
   "outputs": [],
   "source": [
    "inst =   [  { 1:\"guitar\" , 2:\"violin\", 3:\"piano\"} ,  \n",
    "          { 1:\"guitar\" , 2:\"violin\", 3:\"piano\"} ]    \n",
    "\n",
    "to_json = #TODO\n",
    "print(to_json )"
   ]
  },
  {
   "cell_type": "code",
   "execution_count": null,
   "metadata": {},
   "outputs": [],
   "source": []
  }
 ],
 "metadata": {
  "kernelspec": {
   "display_name": "Python 3 (ipykernel)",
   "language": "python",
   "name": "python3"
  },
  "language_info": {
   "codemirror_mode": {
    "name": "ipython",
    "version": 3
   },
   "file_extension": ".py",
   "mimetype": "text/x-python",
   "name": "python",
   "nbconvert_exporter": "python",
   "pygments_lexer": "ipython3",
   "version": "3.10.9"
  }
 },
 "nbformat": 4,
 "nbformat_minor": 2
}
