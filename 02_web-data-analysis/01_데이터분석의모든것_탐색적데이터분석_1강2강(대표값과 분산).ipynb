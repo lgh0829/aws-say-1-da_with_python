{
 "cells": [
  {
   "cell_type": "markdown",
   "id": "9ffc199f",
   "metadata": {
    "id": "9ffc199f"
   },
   "source": [
    "## 데이터 준비"
   ]
  },
  {
   "cell_type": "code",
   "execution_count": 1,
   "id": "c13cce15",
   "metadata": {
    "id": "c13cce15"
   },
   "outputs": [],
   "source": [
    "import pandas as pd\n",
    "import numpy as np"
   ]
  },
  {
   "cell_type": "code",
   "execution_count": 26,
   "id": "deaafa1c",
   "metadata": {
    "id": "deaafa1c"
   },
   "outputs": [],
   "source": [
    "A_salary   = pd.Series([25, 28, 50, 60, 30, 35, 40, 70, 40, 70, 40, 100, 30, 30 ])\n",
    "B_salary   = pd.Series([20, 40, 25, 25, 35, 25 ,20, 10, 55, 65, 100, 100, 150, 300])"
   ]
  },
  {
   "cell_type": "code",
   "execution_count": 6,
   "id": "c4614338",
   "metadata": {
    "id": "c4614338"
   },
   "outputs": [
    {
     "data": {
      "text/html": [
       "<div>\n",
       "<style scoped>\n",
       "    .dataframe tbody tr th:only-of-type {\n",
       "        vertical-align: middle;\n",
       "    }\n",
       "\n",
       "    .dataframe tbody tr th {\n",
       "        vertical-align: top;\n",
       "    }\n",
       "\n",
       "    .dataframe thead th {\n",
       "        text-align: right;\n",
       "    }\n",
       "</style>\n",
       "<table border=\"1\" class=\"dataframe\">\n",
       "  <thead>\n",
       "    <tr style=\"text-align: right;\">\n",
       "      <th></th>\n",
       "      <th>A_salary</th>\n",
       "      <th>B_salary</th>\n",
       "    </tr>\n",
       "  </thead>\n",
       "  <tbody>\n",
       "    <tr>\n",
       "      <th>0</th>\n",
       "      <td>25</td>\n",
       "      <td>20</td>\n",
       "    </tr>\n",
       "    <tr>\n",
       "      <th>1</th>\n",
       "      <td>28</td>\n",
       "      <td>40</td>\n",
       "    </tr>\n",
       "    <tr>\n",
       "      <th>2</th>\n",
       "      <td>50</td>\n",
       "      <td>25</td>\n",
       "    </tr>\n",
       "    <tr>\n",
       "      <th>3</th>\n",
       "      <td>60</td>\n",
       "      <td>25</td>\n",
       "    </tr>\n",
       "    <tr>\n",
       "      <th>4</th>\n",
       "      <td>30</td>\n",
       "      <td>35</td>\n",
       "    </tr>\n",
       "    <tr>\n",
       "      <th>5</th>\n",
       "      <td>35</td>\n",
       "      <td>25</td>\n",
       "    </tr>\n",
       "    <tr>\n",
       "      <th>6</th>\n",
       "      <td>40</td>\n",
       "      <td>20</td>\n",
       "    </tr>\n",
       "    <tr>\n",
       "      <th>7</th>\n",
       "      <td>70</td>\n",
       "      <td>10</td>\n",
       "    </tr>\n",
       "    <tr>\n",
       "      <th>8</th>\n",
       "      <td>40</td>\n",
       "      <td>55</td>\n",
       "    </tr>\n",
       "    <tr>\n",
       "      <th>9</th>\n",
       "      <td>70</td>\n",
       "      <td>65</td>\n",
       "    </tr>\n",
       "    <tr>\n",
       "      <th>10</th>\n",
       "      <td>40</td>\n",
       "      <td>100</td>\n",
       "    </tr>\n",
       "    <tr>\n",
       "      <th>11</th>\n",
       "      <td>100</td>\n",
       "      <td>100</td>\n",
       "    </tr>\n",
       "    <tr>\n",
       "      <th>12</th>\n",
       "      <td>30</td>\n",
       "      <td>150</td>\n",
       "    </tr>\n",
       "    <tr>\n",
       "      <th>13</th>\n",
       "      <td>30</td>\n",
       "      <td>300</td>\n",
       "    </tr>\n",
       "  </tbody>\n",
       "</table>\n",
       "</div>"
      ],
      "text/plain": [
       "    A_salary  B_salary\n",
       "0         25        20\n",
       "1         28        40\n",
       "2         50        25\n",
       "3         60        25\n",
       "4         30        35\n",
       "5         35        25\n",
       "6         40        20\n",
       "7         70        10\n",
       "8         40        55\n",
       "9         70        65\n",
       "10        40       100\n",
       "11       100       100\n",
       "12        30       150\n",
       "13        30       300"
      ]
     },
     "execution_count": 6,
     "metadata": {},
     "output_type": "execute_result"
    }
   ],
   "source": [
    "df = pd.DataFrame ( {'A_salary': A_salary,\n",
    "                     'B_salary' :B_salary  }\n",
    ")\n",
    "\n",
    "df"
   ]
  },
  {
   "cell_type": "markdown",
   "id": "54bacc3c",
   "metadata": {
    "id": "54bacc3c"
   },
   "source": [
    "## 대푯값 탐색"
   ]
  },
  {
   "cell_type": "markdown",
   "id": "291496b6",
   "metadata": {
    "id": "291496b6"
   },
   "source": [
    "#### 평균 - mean()  "
   ]
  },
  {
   "cell_type": "code",
   "execution_count": 7,
   "id": "97fe2a03",
   "metadata": {
    "id": "97fe2a03",
    "outputId": "accf408f-41a6-450a-aabf-f9cd54dc27f9",
    "scrolled": true
   },
   "outputs": [
    {
     "name": "stdout",
     "output_type": "stream",
     "text": [
      "A 기업 연봉평균 46.285714285714285   B 기업 연봉평균  69.28571428571429\n"
     ]
    }
   ],
   "source": [
    "print(\"A 기업 연봉평균\", A_salary.mean() , \"  B 기업 연봉평균 \", B_salary.mean() )"
   ]
  },
  {
   "cell_type": "code",
   "execution_count": 10,
   "id": "c8d282e7",
   "metadata": {
    "id": "c8d282e7",
    "outputId": "7087bf8b-b423-443b-c169-21302d2234bc"
   },
   "outputs": [
    {
     "name": "stdout",
     "output_type": "stream",
     "text": [
      "mean으로 계산: 46.285714285714285\n",
      "직접 계산: 46.285714285714285\n"
     ]
    }
   ],
   "source": [
    "print(f\"mean으로 계산: {A_salary.mean()}\")\n",
    "print(f\"직접 계산: {A_salary.sum()/A_salary.count()}\")"
   ]
  },
  {
   "cell_type": "code",
   "execution_count": 13,
   "id": "e560248a",
   "metadata": {
    "id": "e560248a",
    "outputId": "5c7175f7-aeb8-4b6d-97ea-961f81603c0b"
   },
   "outputs": [
    {
     "data": {
      "text/plain": [
       "A_salary    46.285714\n",
       "B_salary    69.285714\n",
       "dtype: float64"
      ]
     },
     "execution_count": 13,
     "metadata": {},
     "output_type": "execute_result"
    }
   ],
   "source": [
    "df.mean(axis=0)  #열별 평균"
   ]
  },
  {
   "cell_type": "code",
   "execution_count": 14,
   "id": "b58bc352",
   "metadata": {
    "id": "b58bc352"
   },
   "outputs": [],
   "source": [
    "A_salary  = pd.Series([np.nan , 25, 28, 50, 60, 30, 35, 40, 70, 40, 70, 40, 100, 30, 30 ])"
   ]
  },
  {
   "cell_type": "code",
   "execution_count": 15,
   "id": "ef779f05",
   "metadata": {
    "id": "ef779f05",
    "outputId": "38252c9d-8b1f-4328-f44c-3c55aae5ef44"
   },
   "outputs": [
    {
     "data": {
      "text/plain": [
       "46.285714285714285"
      ]
     },
     "execution_count": 15,
     "metadata": {},
     "output_type": "execute_result"
    }
   ],
   "source": [
    "A_salary.mean( skipna=True )  #열별 평균 .  결측치 제외"
   ]
  },
  {
   "cell_type": "markdown",
   "id": "77451caa",
   "metadata": {
    "id": "77451caa"
   },
   "source": [
    "#### 중앙값 - median()"
   ]
  },
  {
   "cell_type": "code",
   "execution_count": 16,
   "id": "3c7bbfd6",
   "metadata": {
    "id": "3c7bbfd6"
   },
   "outputs": [],
   "source": [
    "A_salary   = pd.Series([25, 28, 50, 60, 30, 35, 40, 70, 40, 70, 40, 100, 30, 30 ])\n",
    "B_salary   = pd.Series([20, 40, 25, 25, 35, 25 ,20, 10, 55, 65, 100, 100, 150, 300])"
   ]
  },
  {
   "cell_type": "code",
   "execution_count": 17,
   "id": "41fd5da1",
   "metadata": {
    "id": "41fd5da1",
    "outputId": "0fa677b4-be63-4b14-f122-a57454b25ed8",
    "scrolled": true
   },
   "outputs": [
    {
     "name": "stdout",
     "output_type": "stream",
     "text": [
      "A 기업 연봉 중앙값  40.0    B 기업 연봉 중앙값  37.5\n"
     ]
    }
   ],
   "source": [
    "print(\"A 기업 연봉 중앙값 \",  A_salary.median()  , \"   B 기업 연봉 중앙값 \", B_salary.median()  )"
   ]
  },
  {
   "cell_type": "code",
   "execution_count": 18,
   "id": "dd2e8ec7",
   "metadata": {
    "id": "dd2e8ec7",
    "outputId": "a06199e5-7007-4bff-88de-e57957576217"
   },
   "outputs": [
    {
     "data": {
      "text/plain": [
       "A_salary    40.0\n",
       "B_salary    37.5\n",
       "dtype: float64"
      ]
     },
     "execution_count": 18,
     "metadata": {},
     "output_type": "execute_result"
    }
   ],
   "source": [
    "df.median(axis=0)  #열별 중앙값"
   ]
  },
  {
   "cell_type": "markdown",
   "id": "7e8f430b",
   "metadata": {
    "id": "7e8f430b"
   },
   "source": [
    "## 분산도 탐색"
   ]
  },
  {
   "cell_type": "markdown",
   "id": "f8b9aacc",
   "metadata": {
    "id": "f8b9aacc"
   },
   "source": [
    "#### 범위 : 최대값 -  최소값"
   ]
  },
  {
   "cell_type": "code",
   "execution_count": 19,
   "id": "9fc671f5",
   "metadata": {
    "id": "9fc671f5",
    "outputId": "dc818057-585a-4f5b-ae2b-e909cbc70dc7"
   },
   "outputs": [
    {
     "data": {
      "text/plain": [
       "75"
      ]
     },
     "execution_count": 19,
     "metadata": {},
     "output_type": "execute_result"
    }
   ],
   "source": [
    "A_salary.max() - A_salary.min()"
   ]
  },
  {
   "cell_type": "code",
   "execution_count": 20,
   "id": "41a7c8c0",
   "metadata": {
    "id": "41a7c8c0",
    "outputId": "2b5be705-49cf-4a4e-9b8f-e483e95aa811"
   },
   "outputs": [
    {
     "data": {
      "text/plain": [
       "290"
      ]
     },
     "execution_count": 20,
     "metadata": {},
     "output_type": "execute_result"
    }
   ],
   "source": [
    "B_salary.max() - B_salary.min()"
   ]
  },
  {
   "cell_type": "markdown",
   "id": "071c672e",
   "metadata": {
    "id": "071c672e"
   },
   "source": [
    "#### 분산  var(),    표준편차  std()"
   ]
  },
  {
   "cell_type": "code",
   "execution_count": 21,
   "id": "5aecaf7c",
   "metadata": {
    "id": "5aecaf7c",
    "outputId": "5af9f1f4-8d71-4879-f050-0b0fde2f7ba5"
   },
   "outputs": [
    {
     "data": {
      "text/plain": [
       "21.556468140243165"
      ]
     },
     "execution_count": 21,
     "metadata": {},
     "output_type": "execute_result"
    }
   ],
   "source": [
    "A_salary.std()"
   ]
  },
  {
   "cell_type": "code",
   "execution_count": 22,
   "id": "f37f39c2",
   "metadata": {
    "id": "f37f39c2",
    "outputId": "7f9e471c-aed3-42a5-900a-10bb13a42ac5",
    "scrolled": true
   },
   "outputs": [
    {
     "data": {
      "text/plain": [
       "464.68131868131866"
      ]
     },
     "execution_count": 22,
     "metadata": {},
     "output_type": "execute_result"
    }
   ],
   "source": [
    "A_salary.var()"
   ]
  },
  {
   "cell_type": "code",
   "execution_count": 23,
   "id": "f942f20a",
   "metadata": {
    "id": "f942f20a",
    "outputId": "e28eb90f-60cc-42bc-8779-070386dbc8c8"
   },
   "outputs": [
    {
     "data": {
      "text/plain": [
       "77.53056823594814"
      ]
     },
     "execution_count": 23,
     "metadata": {},
     "output_type": "execute_result"
    }
   ],
   "source": [
    "B_salary.std()"
   ]
  },
  {
   "cell_type": "code",
   "execution_count": 24,
   "id": "fbe0ff87",
   "metadata": {
    "id": "fbe0ff87",
    "outputId": "91f3f8d1-1ab5-43ca-d507-3093586d7b4c",
    "scrolled": true
   },
   "outputs": [
    {
     "data": {
      "text/plain": [
       "6010.989010989011"
      ]
     },
     "execution_count": 24,
     "metadata": {},
     "output_type": "execute_result"
    }
   ],
   "source": [
    "B_salary.var()"
   ]
  },
  {
   "cell_type": "code",
   "execution_count": null,
   "id": "23bd71b3-2336-4128-a144-3e3ba1aeaef4",
   "metadata": {},
   "outputs": [],
   "source": []
  }
 ],
 "metadata": {
  "colab": {
   "provenance": []
  },
  "kernelspec": {
   "display_name": "Python 3 (ipykernel)",
   "language": "python",
   "name": "python3"
  },
  "language_info": {
   "codemirror_mode": {
    "name": "ipython",
    "version": 3
   },
   "file_extension": ".py",
   "mimetype": "text/x-python",
   "name": "python",
   "nbconvert_exporter": "python",
   "pygments_lexer": "ipython3",
   "version": "3.12.7"
  }
 },
 "nbformat": 4,
 "nbformat_minor": 5
}
