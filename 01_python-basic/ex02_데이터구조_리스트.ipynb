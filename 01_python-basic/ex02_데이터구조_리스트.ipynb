{
 "cells": [
  {
   "cell_type": "markdown",
   "metadata": {},
   "source": [
    "# 데이터구조"
   ]
  },
  {
   "cell_type": "markdown",
   "metadata": {},
   "source": [
    "### [ 리스트 ] "
   ]
  },
  {
   "cell_type": "code",
   "execution_count": 1,
   "metadata": {
    "scrolled": true
   },
   "outputs": [
    {
     "name": "stdout",
     "output_type": "stream",
     "text": [
      "['lee', 'hong', 'kim']\n",
      "['lee', 100, 'Seoul', 90]\n"
     ]
    },
    {
     "data": {
      "text/plain": [
       "list"
      ]
     },
     "execution_count": 1,
     "metadata": {},
     "output_type": "execute_result"
    }
   ],
   "source": [
    "member_list = [\"lee\",\"hong\",\"kim\" ] # 리스트는 [ ] 로 생성.  \n",
    "data_list = [\"lee\",100,\"Seoul\", 90 ]# 리스트는 모든 데이터타입을 담을 수 있음\n",
    "print( member_list )\n",
    "print( data_list )\n",
    "\n",
    "type( member_list ) # 데이터 타입 확인 "
   ]
  },
  {
   "cell_type": "code",
   "execution_count": 9,
   "metadata": {
    "scrolled": true
   },
   "outputs": [
    {
     "name": "stdout",
     "output_type": "stream",
     "text": [
      "3\n",
      "4\n"
     ]
    }
   ],
   "source": [
    "print( len(member_list ) ) # 리스트 길이 확인 \n",
    "print( len(data_list ) )"
   ]
  },
  {
   "cell_type": "markdown",
   "metadata": {},
   "source": [
    "#### ○ 리스트 인덱싱"
   ]
  },
  {
   "cell_type": "code",
   "execution_count": 13,
   "metadata": {},
   "outputs": [
    {
     "name": "stdout",
     "output_type": "stream",
     "text": [
      "lee hong kim\n",
      "lee 100 Seoul 90\n"
     ]
    }
   ],
   "source": [
    "# 인덱스는 0부터 시작. \n",
    "\n",
    "print(member_list[0],member_list[1],member_list[2])\n",
    "print(data_list[0],data_list[1],data_list[2],data_list[3])"
   ]
  },
  {
   "cell_type": "markdown",
   "metadata": {},
   "source": [
    "#### ○ 리스트  슬라이싱"
   ]
  },
  {
   "cell_type": "code",
   "execution_count": 33,
   "metadata": {},
   "outputs": [
    {
     "name": "stdout",
     "output_type": "stream",
     "text": [
      "['lee', 'hong', 'kim']\n",
      "['lee', 'hong']\n",
      "['hong']\n",
      "['lee', 'hong']\n",
      "['lee']\n"
     ]
    }
   ],
   "source": [
    "print( member_list[ : ]) # 처음부터 끝까지 \n",
    "print( member_list[ :2]) # 처음부터 2인덱스 바로 앞까지\n",
    "print( member_list[1:2]) # 1인덱스부터 2인덱스 바로 앞까지\n",
    "print( member_list[:-1]) # 처음부터 마지막 데이터 하나앞까지 \n",
    "print( member_list[:-2]) # 처음부터 마지막 데이터 두개앞까지 "
   ]
  },
  {
   "cell_type": "markdown",
   "metadata": {},
   "source": [
    "#### ○ 리스트에 데이터 추가"
   ]
  },
  {
   "cell_type": "code",
   "execution_count": 34,
   "metadata": {},
   "outputs": [
    {
     "name": "stdout",
     "output_type": "stream",
     "text": [
      "['lee', 'hong', 'kim', 'park']\n",
      "['lee', 'park', 'hong', 'kim', 'park']\n"
     ]
    }
   ],
   "source": [
    "member_list.append(\"park\")   # 끝에 추가 \n",
    "print( member_list )\n",
    "member_list.insert(1, \"park\")# 특정 위치에 추가 \n",
    "print( member_list )"
   ]
  },
  {
   "cell_type": "markdown",
   "metadata": {},
   "source": [
    "#### ○ 리스트에 데이터 삭제"
   ]
  },
  {
   "cell_type": "code",
   "execution_count": 35,
   "metadata": {},
   "outputs": [
    {
     "name": "stdout",
     "output_type": "stream",
     "text": [
      "['lee', 'hong', 'kim', 'park']\n",
      "['lee', 'hong', 'kim']\n"
     ]
    }
   ],
   "source": [
    "# 특정 데이터를 찾아서 삭제 \n",
    "member_list.remove(\"park\")\n",
    "print(member_list)\n",
    "member_list.remove(\"park\")  # 삭제할 데이터가 없으면 오류 \n",
    "print(member_list)"
   ]
  },
  {
   "cell_type": "code",
   "execution_count": 36,
   "metadata": {},
   "outputs": [],
   "source": [
    "# 특정 인덱스 위치의 데이터 삭제 \n",
    "del member_list[1]\n",
    "member_list"
   ]
  },
  {
   "cell_type": "markdown",
   "metadata": {},
   "source": [
    "#### ○ 리스트에 데이터 정렬"
   ]
  },
  {
   "cell_type": "code",
   "execution_count": 45,
   "metadata": {
    "scrolled": true
   },
   "outputs": [
    {
     "name": "stdout",
     "output_type": "stream",
     "text": [
      "['kim', 'lee']\n",
      "['lee', 'kim']\n",
      "Help on method_descriptor:\n",
      "\n",
      "sort(self, /, *, key=None, reverse=False)\n",
      "    Stable sort *IN PLACE*.\n",
      "\n"
     ]
    }
   ],
   "source": [
    "member_list.sort()  # 오름차순 정렬\n",
    "print(member_list) \n",
    "member_list.sort(reverse=True) # 내림차순 정렬 \n",
    "print(member_list)\n",
    "\n",
    "\n",
    "help(list.sort)  # 도움말  "
   ]
  },
  {
   "cell_type": "markdown",
   "metadata": {},
   "source": [
    "#### ○ 리스트에 데이터를 역순으로 "
   ]
  },
  {
   "cell_type": "code",
   "execution_count": 52,
   "metadata": {},
   "outputs": [
    {
     "name": "stdout",
     "output_type": "stream",
     "text": [
      "['lee', 'kim']\n",
      "['kim', 'lee']\n"
     ]
    }
   ],
   "source": [
    "print( member_list )\n",
    "member_list.reverse() \n",
    "print( member_list )"
   ]
  },
  {
   "cell_type": "markdown",
   "metadata": {},
   "source": [
    "#### ○ 리스트에 리스트 등 다른 데이터 구조도 저장 가능"
   ]
  },
  {
   "cell_type": "code",
   "execution_count": 2,
   "metadata": {},
   "outputs": [
    {
     "data": {
      "text/plain": [
       "['담보', '드라마', ['성동일', '하지원', '김희원', '박소이']]"
      ]
     },
     "execution_count": 2,
     "metadata": {},
     "output_type": "execute_result"
    }
   ],
   "source": [
    "# 리스트 내에 리스트 저장 \n",
    "memeber_data = [\"담보\", \"드라마\" ,[\"성동일\", \"하지원\", \"김희원\", \"박소이\"]]\n",
    "memeber_data "
   ]
  },
  {
   "cell_type": "code",
   "execution_count": 3,
   "metadata": {},
   "outputs": [
    {
     "name": "stdout",
     "output_type": "stream",
     "text": [
      "담보\n",
      "드라마\n",
      "['성동일', '하지원', '김희원', '박소이']\n"
     ]
    }
   ],
   "source": [
    "print(memeber_data[0])\n",
    "print(memeber_data[1])\n",
    "print(memeber_data[2])"
   ]
  },
  {
   "cell_type": "code",
   "execution_count": 4,
   "metadata": {},
   "outputs": [
    {
     "name": "stdout",
     "output_type": "stream",
     "text": [
      "성동일\n",
      "하지원\n",
      "김희원\n"
     ]
    }
   ],
   "source": [
    "print(memeber_data[2][0])\n",
    "print(memeber_data[2][1])\n",
    "print(memeber_data[2][2])"
   ]
  },
  {
   "cell_type": "code",
   "execution_count": 7,
   "metadata": {},
   "outputs": [
    {
     "name": "stdout",
     "output_type": "stream",
     "text": [
      "['담보', '드라마', {1, 2, 3}, [1, 2, 2, 3], (1, 2, 2, 3)]\n"
     ]
    }
   ],
   "source": [
    "# 리스트 내 list, tuple, set 저장\n",
    "test_data = [\"담보\", \"드라마\", {1, 2, 2, 3}, [1,2,2,3], (1,2,2,3)]\n",
    "\n",
    "print(test_data)\n"
   ]
  }
 ],
 "metadata": {
  "kernelspec": {
   "display_name": "Python 3 (ipykernel)",
   "language": "python",
   "name": "python3"
  },
  "language_info": {
   "codemirror_mode": {
    "name": "ipython",
    "version": 3
   },
   "file_extension": ".py",
   "mimetype": "text/x-python",
   "name": "python",
   "nbconvert_exporter": "python",
   "pygments_lexer": "ipython3",
   "version": "3.12.7"
  }
 },
 "nbformat": 4,
 "nbformat_minor": 4
}
