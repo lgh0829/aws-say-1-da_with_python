{
 "cells": [
  {
   "cell_type": "markdown",
   "metadata": {},
   "source": [
    "# 클래스"
   ]
  },
  {
   "cell_type": "markdown",
   "metadata": {},
   "source": [
    "#### ○ 상속 개념 이해하기"
   ]
  },
  {
   "cell_type": "code",
   "execution_count": 6,
   "metadata": {},
   "outputs": [],
   "source": [
    "class animal :\n",
    "    age = 0\n",
    "    def intro(self):\n",
    "        print(\"나는 동물입니다.\")\n",
    "\n",
    "class lion( animal ) :  #상속    lion is a animal.   하위클래스 is a 상위클래스\n",
    "    def hello(self):\n",
    "        print(\"제 나이는 %d 세입니다. \" %self.age)\n",
    "\n",
    "j = lion()"
   ]
  },
  {
   "cell_type": "code",
   "execution_count": 8,
   "metadata": {
    "scrolled": true
   },
   "outputs": [
    {
     "name": "stdout",
     "output_type": "stream",
     "text": [
      "나는 동물입니다.\n",
      "제 나이는 0 세입니다. \n"
     ]
    }
   ],
   "source": [
    "j.intro()\n",
    "j.hello()"
   ]
  },
  {
   "cell_type": "code",
   "execution_count": 9,
   "metadata": {},
   "outputs": [
    {
     "name": "stdout",
     "output_type": "stream",
     "text": [
      "제 나이는 10 세입니다. \n"
     ]
    }
   ],
   "source": [
    "j.age = 10\n",
    "j.hello()"
   ]
  }
 ],
 "metadata": {
  "kernelspec": {
   "display_name": "Python 3",
   "language": "python",
   "name": "python3"
  },
  "language_info": {
   "codemirror_mode": {
    "name": "ipython",
    "version": 3
   },
   "file_extension": ".py",
   "mimetype": "text/x-python",
   "name": "python",
   "nbconvert_exporter": "python",
   "pygments_lexer": "ipython3",
   "version": "3.7.3"
  }
 },
 "nbformat": 4,
 "nbformat_minor": 2
}
