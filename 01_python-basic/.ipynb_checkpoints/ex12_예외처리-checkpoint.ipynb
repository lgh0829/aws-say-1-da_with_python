{
 "cells": [
  {
   "cell_type": "markdown",
   "metadata": {},
   "source": [
    "# 예외처리"
   ]
  },
  {
   "cell_type": "code",
   "execution_count": 1,
   "metadata": {},
   "outputs": [
    {
     "name": "stdout",
     "output_type": "stream",
     "text": [
      "숫자로 입력하세요 a\n",
      "숫자가 아니네요.\n",
      "정상 종료\n"
     ]
    }
   ],
   "source": [
    "try :\n",
    "    num = int (  input(\"숫자로 입력하세요 \"))\n",
    "except ValueError :\n",
    "    print(\"숫자가 아니네요.\")\n",
    "\n",
    "print(\"정상 종료\")"
   ]
  },
  {
   "cell_type": "code",
   "execution_count": 2,
   "metadata": {},
   "outputs": [
    {
     "name": "stdout",
     "output_type": "stream",
     "text": [
      "0으로 나눌 수 없습니다. \n",
      "종료\n"
     ]
    }
   ],
   "source": [
    "try :\n",
    "    no1= 10\n",
    "    no2 = 0\n",
    "    print ( no1/no2 )  # 0으로 나눌 수 없어서 예외\n",
    "    print(  1  )  # 이전에 예외가 발생되어 실행 안됨\n",
    "except (ZeroDivisionError, ValueError) :\n",
    "    print(\"0으로 나눌 수 없습니다. \")\n",
    "\n",
    "print(\"종료\")"
   ]
  },
  {
   "cell_type": "code",
   "execution_count": 3,
   "metadata": {},
   "outputs": [
    {
     "name": "stdout",
     "output_type": "stream",
     "text": [
      "숫자를 입력하세요 0\n",
      "0으로 나눌 수 없습니다 \n"
     ]
    }
   ],
   "source": [
    "try:\n",
    "    no1  =  10\n",
    "    no2  = int  ( input(\"숫자를 입력하세요 \"))\n",
    "    print ( no1 / no2 )\n",
    "except ZeroDivisionError :\n",
    "    print(\"0으로 나눌 수 없습니다 \")\n",
    "except ValueError :\n",
    "    print(\" 숫자가 아닙니다.  \")\n"
   ]
  },
  {
   "cell_type": "code",
   "execution_count": 4,
   "metadata": {},
   "outputs": [
    {
     "name": "stdout",
     "output_type": "stream",
     "text": [
      "숫자를 입력하세요0\n",
      "0\n",
      "항상 수행됩니다. \n"
     ]
    }
   ],
   "source": [
    "try :\n",
    "    num = int ( input(\"숫자를 입력하세요\")   )\n",
    "except ValueError :  #try 블락안에서 ValueError 예외가 발생되었을 때만 실행\n",
    "    print (\" 숫자가 아닙니다. \")\n",
    "else:  #try 블락안에서  예외가 발생되지 않고 정상 수행되었을 때만 실행\n",
    "    print(num)\n",
    "finally:\n",
    "    print(\"항상 수행됩니다. \") # #try 블락안에서  예외가 발생되던 되지 않던 수행."
   ]
  }
 ],
 "metadata": {
  "kernelspec": {
   "display_name": "Python 3",
   "language": "python",
   "name": "python3"
  },
  "language_info": {
   "codemirror_mode": {
    "name": "ipython",
    "version": 3
   },
   "file_extension": ".py",
   "mimetype": "text/x-python",
   "name": "python",
   "nbconvert_exporter": "python",
   "pygments_lexer": "ipython3",
   "version": "3.7.3"
  }
 },
 "nbformat": 4,
 "nbformat_minor": 2
}
