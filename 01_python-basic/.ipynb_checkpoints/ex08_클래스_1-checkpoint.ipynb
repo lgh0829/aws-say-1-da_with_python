{
 "cells": [
  {
   "cell_type": "markdown",
   "metadata": {},
   "source": [
    "# 클래스 "
   ]
  },
  {
   "cell_type": "markdown",
   "metadata": {},
   "source": [
    "#### ○ class와 object 개념 이해하기 (pdf 설명 참고)"
   ]
  },
  {
   "cell_type": "code",
   "execution_count": 4,
   "metadata": {},
   "outputs": [],
   "source": [
    "class Car() :  \n",
    "    carId = 0                  # 자동차등록번호 \n",
    "    carOwnerName = \"\"    # 차주인 이름 \n",
    "    currentSpeed = 0       # 현재 자동차 속도\n",
    "\n",
    "\n",
    "\n",
    "# Car 클래스는 Car 객체(인스턴스) 생성 틀  "
   ]
  },
  {
   "cell_type": "code",
   "execution_count": 5,
   "metadata": {},
   "outputs": [
    {
     "name": "stdout",
     "output_type": "stream",
     "text": [
      "0  0\n",
      "0  0\n"
     ]
    }
   ],
   "source": [
    "c1 = Car() #객체  Object \n",
    "c2 = Car() #객체  Object \n",
    "\n",
    "print(c1.carId, c1.carOwnerName, c1.currentSpeed)\n",
    "print(c2.carId, c2.carOwnerName, c2.currentSpeed)"
   ]
  },
  {
   "cell_type": "code",
   "execution_count": 6,
   "metadata": {},
   "outputs": [
    {
     "name": "stdout",
     "output_type": "stream",
     "text": [
      "1 lee 10\n",
      "2 Smith 20\n"
     ]
    }
   ],
   "source": [
    "c1.carId = 1 \n",
    "c1.carOwnerName = \"lee\" \n",
    "c1.currentSpeed = 10\n",
    "\n",
    "c2.carId = 2 \n",
    "c2.carOwnerName = \"Smith\" \n",
    "c2.currentSpeed = 20 \n",
    "\n",
    "print(c1.carId, c1.carOwnerName, c1.currentSpeed)\n",
    "print(c2.carId, c2.carOwnerName, c2.currentSpeed)"
   ]
  },
  {
   "cell_type": "code",
   "execution_count": null,
   "metadata": {},
   "outputs": [],
   "source": []
  }
 ],
 "metadata": {
  "kernelspec": {
   "display_name": "Python 3",
   "language": "python",
   "name": "python3"
  },
  "language_info": {
   "codemirror_mode": {
    "name": "ipython",
    "version": 3
   },
   "file_extension": ".py",
   "mimetype": "text/x-python",
   "name": "python",
   "nbconvert_exporter": "python",
   "pygments_lexer": "ipython3",
   "version": "3.7.3"
  }
 },
 "nbformat": 4,
 "nbformat_minor": 2
}
