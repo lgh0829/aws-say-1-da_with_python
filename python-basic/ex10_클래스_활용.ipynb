{
 "cells": [
  {
   "cell_type": "markdown",
   "metadata": {},
   "source": [
    "리스트에 객체 저장 "
   ]
  },
  {
   "cell_type": "code",
   "execution_count": 15,
   "metadata": {},
   "outputs": [],
   "source": [
    "class Emp :\n",
    "    name =\"홍길동\" \n",
    "    dept =\"기획실\"\n",
    "    def print(self):\n",
    "        print(self.name, self.dept)\n",
    "        "
   ]
  },
  {
   "cell_type": "code",
   "execution_count": null,
   "metadata": {},
   "outputs": [],
   "source": [
    "a = Emp()\n",
    "b = Emp() ; b.name=\"하연희\" ; b.dept=\"구현팀\""
   ]
  },
  {
   "cell_type": "code",
   "execution_count": 16,
   "metadata": {},
   "outputs": [
    {
     "name": "stdout",
     "output_type": "stream",
     "text": [
      "홍길동 기획실\n",
      "하연희 구현팀\n",
      "홍길동 기획실\n",
      "하연희 구현팀\n"
     ]
    }
   ],
   "source": [
    "employees =[a, b]\n",
    "employees.append(a)\n",
    "employees.append(b)\n",
    "\n",
    "for i in employees :\n",
    "    i.print()"
   ]
  },
  {
   "cell_type": "markdown",
   "metadata": {},
   "source": [
    "딕셔너리에 객체 저장"
   ]
  },
  {
   "cell_type": "code",
   "execution_count": 9,
   "metadata": {},
   "outputs": [
    {
     "name": "stdout",
     "output_type": "stream",
     "text": [
      "<__main__.Emp object at 0x000001182AAF50F0>\n"
     ]
    }
   ],
   "source": [
    "dic ={\"홍길동\" : a ,\n",
    "      \"하연희\" : b } \n",
    "\n",
    "\n",
    "print( dic[\"홍길동\" ] ) "
   ]
  },
  {
   "cell_type": "code",
   "execution_count": 10,
   "metadata": {},
   "outputs": [
    {
     "name": "stdout",
     "output_type": "stream",
     "text": [
      "홍길동\n",
      "기획실\n"
     ]
    }
   ],
   "source": [
    "print(dic[\"홍길동\" ].name) \n",
    "print(dic[\"홍길동\" ].dept) "
   ]
  },
  {
   "cell_type": "code",
   "execution_count": 13,
   "metadata": {},
   "outputs": [
    {
     "name": "stdout",
     "output_type": "stream",
     "text": [
      "홍길동\n",
      "기획실\n"
     ]
    }
   ],
   "source": [
    "obj = dic[\"홍길동\" ]\n",
    "print(obj.name )\n",
    "print(obj.dept )"
   ]
  },
  {
   "cell_type": "code",
   "execution_count": null,
   "metadata": {},
   "outputs": [],
   "source": [
    "for i in dic :   #딕셔너리의 키값이 하나씩 i 전달\n",
    "    print(i,   dic[i].dept   ,  dic[i].name)"
   ]
  }
 ],
 "metadata": {
  "kernelspec": {
   "display_name": "Python 3",
   "language": "python",
   "name": "python3"
  },
  "language_info": {
   "codemirror_mode": {
    "name": "ipython",
    "version": 3
   },
   "file_extension": ".py",
   "mimetype": "text/x-python",
   "name": "python",
   "nbconvert_exporter": "python",
   "pygments_lexer": "ipython3",
   "version": "3.7.3"
  }
 },
 "nbformat": 4,
 "nbformat_minor": 2
}
