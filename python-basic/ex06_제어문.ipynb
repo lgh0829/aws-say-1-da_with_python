{
 "cells": [
  {
   "cell_type": "markdown",
   "metadata": {},
   "source": [
    "# 제어문"
   ]
  },
  {
   "cell_type": "markdown",
   "metadata": {},
   "source": [
    "### [ 조건문 if ] "
   ]
  },
  {
   "cell_type": "code",
   "execution_count": 9,
   "metadata": {},
   "outputs": [],
   "source": [
    "score = 85 \n",
    "if score > 90 : \n",
    "    print(\"pass\")"
   ]
  },
  {
   "cell_type": "code",
   "execution_count": 10,
   "metadata": {},
   "outputs": [
    {
     "name": "stdout",
     "output_type": "stream",
     "text": [
      "fail\n"
     ]
    }
   ],
   "source": [
    "if score > 90 : \n",
    "    print(\"pass\")\n",
    "else : \n",
    "    print(\"fail\")"
   ]
  },
  {
   "cell_type": "code",
   "execution_count": 15,
   "metadata": {},
   "outputs": [
    {
     "name": "stdout",
     "output_type": "stream",
     "text": [
      "B\n"
     ]
    }
   ],
   "source": [
    "score = 85 \n",
    "grade = \"\"\n",
    "if 0 <=  score <= 60 : \n",
    "    grade = \"F\" \n",
    "elif 60 < score <= 70 : \n",
    "    grade = \"D\" \n",
    "elif 70 <  score <= 80 : \n",
    "    grade = \"C\" \n",
    "elif 80 < score <= 90 : \n",
    "    grade = \"B\" \n",
    "elif 90 < score <= 100 : \n",
    "    grade = \"A\" \n",
    "else :\n",
    "    print(\"점수 입력이 잘 못되었음\") \n",
    "    \n",
    "print( grade )"
   ]
  },
  {
   "cell_type": "code",
   "execution_count": 16,
   "metadata": {},
   "outputs": [
    {
     "name": "stdout",
     "output_type": "stream",
     "text": [
      "B\n"
     ]
    }
   ],
   "source": [
    "score = 85 \n",
    "if 0 <=  score and score <= 60 : \n",
    "    print(\"F\")\n",
    "elif 60 < score and score <= 70 : \n",
    "    print(\"D\")\n",
    "elif 70 <  score and score <= 80 : \n",
    "    print(\"C\")\n",
    "elif 80 < score and score <= 90 : \n",
    "    print(\"B\")\n",
    "elif 90 < score and score <= 100 : \n",
    "    print(\"A\")\n",
    "else :\n",
    "    print(\"점수 입력이 잘 못되었음\")"
   ]
  },
  {
   "cell_type": "code",
   "execution_count": 17,
   "metadata": {},
   "outputs": [
    {
     "name": "stdout",
     "output_type": "stream",
     "text": [
      "pass\n"
     ]
    }
   ],
   "source": [
    "if grade==\"A\" or grade==\"B\" :\n",
    "    print(\"pass\") \n"
   ]
  },
  {
   "cell_type": "markdown",
   "metadata": {},
   "source": [
    "### [ 반복문 for ] "
   ]
  },
  {
   "cell_type": "code",
   "execution_count": 18,
   "metadata": {},
   "outputs": [
    {
     "name": "stdout",
     "output_type": "stream",
     "text": [
      "1\n",
      "2\n",
      "3\n",
      "4\n"
     ]
    }
   ],
   "source": [
    "for i in range (1,5) :\n",
    "    print(i) "
   ]
  },
  {
   "cell_type": "code",
   "execution_count": 21,
   "metadata": {},
   "outputs": [
    {
     "name": "stdout",
     "output_type": "stream",
     "text": [
      "15\n"
     ]
    }
   ],
   "source": [
    "sum = 0\n",
    "for i in range (1,6) :\n",
    "    sum += i \n",
    "print (sum)"
   ]
  },
  {
   "cell_type": "code",
   "execution_count": 22,
   "metadata": {
    "scrolled": true
   },
   "outputs": [
    {
     "name": "stdout",
     "output_type": "stream",
     "text": [
      "1\n",
      "3\n"
     ]
    }
   ],
   "source": [
    "for i in range (1,5,2) :\n",
    "    print(i) "
   ]
  },
  {
   "cell_type": "markdown",
   "metadata": {},
   "source": [
    "#### for 이용하여 리스트의 모든 데이터 꺼내기"
   ]
  },
  {
   "cell_type": "code",
   "execution_count": 1,
   "metadata": {},
   "outputs": [
    {
     "name": "stdout",
     "output_type": "stream",
     "text": [
      "cafelatte\n",
      "americano\n",
      "espresso\n"
     ]
    }
   ],
   "source": [
    "coffee = [\"cafelatte\",\"americano\",\"espresso\"]\n",
    "for n in coffee :\n",
    "    print(n) "
   ]
  },
  {
   "cell_type": "markdown",
   "metadata": {},
   "source": [
    "#### for 이용하여 투플의 모든 데이터 꺼내기"
   ]
  },
  {
   "cell_type": "code",
   "execution_count": 4,
   "metadata": {},
   "outputs": [
    {
     "name": "stdout",
     "output_type": "stream",
     "text": [
      "cafelatte\n",
      "americano\n",
      "espresso\n"
     ]
    }
   ],
   "source": [
    "coffee = ( \"cafelatte\",\"americano\",\"espresso\" )\n",
    "for n in coffee :\n",
    "    print(n) "
   ]
  },
  {
   "cell_type": "code",
   "execution_count": 4,
   "metadata": {
    "scrolled": true
   },
   "outputs": [
    {
     "name": "stdout",
     "output_type": "stream",
     "text": [
      " 메뉴는 cafelatte 입니다. \n",
      " 메뉴는 americano 입니다. \n",
      " 메뉴는 espresso 입니다. \n"
     ]
    }
   ],
   "source": [
    "order_message=\" 메뉴는 %s 입니다. \" \n",
    "\n",
    "coffee = ( \"cafelatte\",\"americano\",\"espresso\" )\n",
    "for n in coffee :\n",
    "    print(order_message % n) "
   ]
  },
  {
   "cell_type": "markdown",
   "metadata": {},
   "source": [
    "#### for 이용하여 딕셔너리의 모든 데이터 꺼내기"
   ]
  },
  {
   "cell_type": "code",
   "execution_count": 9,
   "metadata": {},
   "outputs": [
    {
     "name": "stdout",
     "output_type": "stream",
     "text": [
      "cafelatte\n",
      "americano\n",
      "espresso\n"
     ]
    }
   ],
   "source": [
    "coffee = { \"cafelatte\" : 3000,\n",
    "           \"americano\" : 2500,\n",
    "           \"espresso\" : 4000 }\n",
    "for n in coffee :    #딕셔너리의 키값이 하나씩 n에 전달됨\n",
    "    print(n) "
   ]
  },
  {
   "cell_type": "code",
   "execution_count": 8,
   "metadata": {
    "scrolled": true
   },
   "outputs": [
    {
     "name": "stdout",
     "output_type": "stream",
     "text": [
      "3000\n",
      "2500\n",
      "4000\n"
     ]
    }
   ],
   "source": [
    "for n in coffee :\n",
    "    print(coffee[n]) "
   ]
  },
  {
   "cell_type": "markdown",
   "metadata": {},
   "source": [
    "### [ 반복문 while ] "
   ]
  },
  {
   "cell_type": "code",
   "execution_count": 1,
   "metadata": {},
   "outputs": [
    {
     "name": "stdout",
     "output_type": "stream",
     "text": [
      "0\n",
      "1\n",
      "2\n",
      "3\n",
      "4\n"
     ]
    }
   ],
   "source": [
    "n = 0 \n",
    "while n < 5 :\n",
    "    print (n)\n",
    "    n += 1 "
   ]
  },
  {
   "cell_type": "markdown",
   "metadata": {},
   "source": [
    "### [ break ] "
   ]
  },
  {
   "cell_type": "code",
   "execution_count": 2,
   "metadata": {},
   "outputs": [
    {
     "name": "stdout",
     "output_type": "stream",
     "text": [
      "0\n",
      "1\n"
     ]
    }
   ],
   "source": [
    "n = 0 \n",
    "while n < 5 :\n",
    "    print (n)\n",
    "    n += 1 \n",
    "    if n == 2 :\n",
    "        break;"
   ]
  },
  {
   "cell_type": "markdown",
   "metadata": {},
   "source": [
    "### [ continue ] "
   ]
  },
  {
   "cell_type": "code",
   "execution_count": 5,
   "metadata": {},
   "outputs": [
    {
     "name": "stdout",
     "output_type": "stream",
     "text": [
      "0\n",
      "*\n",
      "1\n",
      "2\n",
      "*\n",
      "3\n",
      "*\n",
      "4\n",
      "*\n"
     ]
    }
   ],
   "source": [
    "n = 0 \n",
    "while n < 5 :\n",
    "    print (n)\n",
    "    n += 1 \n",
    "    if n == 2 :\n",
    "        continue;\n",
    "    print(\"*\")"
   ]
  }
 ],
 "metadata": {
  "kernelspec": {
   "display_name": "Python 3 (ipykernel)",
   "language": "python",
   "name": "python3"
  },
  "language_info": {
   "codemirror_mode": {
    "name": "ipython",
    "version": 3
   },
   "file_extension": ".py",
   "mimetype": "text/x-python",
   "name": "python",
   "nbconvert_exporter": "python",
   "pygments_lexer": "ipython3",
   "version": "3.12.7"
  }
 },
 "nbformat": 4,
 "nbformat_minor": 4
}
