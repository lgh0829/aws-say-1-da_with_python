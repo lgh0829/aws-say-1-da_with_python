{
 "cells": [
  {
   "cell_type": "markdown",
   "metadata": {},
   "source": [
    "# 데이터구조"
   ]
  },
  {
   "cell_type": "markdown",
   "metadata": {},
   "source": [
    "### [ 딕셔너리 ] "
   ]
  },
  {
   "cell_type": "markdown",
   "metadata": {},
   "source": [
    "딕셔너리는 { } 로 생성 "
   ]
  },
  {
   "cell_type": "markdown",
   "metadata": {},
   "source": [
    "{ '키1' : '값'  , '키2' : '값'  , '키3' : '값'  , '키4' : '값'  } 와 같이 키와 값쌍으로 저장 "
   ]
  },
  {
   "cell_type": "code",
   "execution_count": 35,
   "metadata": {
    "scrolled": true
   },
   "outputs": [
    {
     "name": "stdout",
     "output_type": "stream",
     "text": [
      "{'lee': 100, 'hong': 70, 'kim': 90}\n"
     ]
    },
    {
     "data": {
      "text/plain": [
       "dict"
      ]
     },
     "execution_count": 35,
     "metadata": {},
     "output_type": "execute_result"
    }
   ],
   "source": [
    "member_list = {  \"lee\":100,       # 딕셔너리는 모든 데이터타입을 담을 수 있음\n",
    "                 \"hong\":70,\n",
    "                 \"kim\":90  }   \n",
    "\n",
    "print( member_list )\n",
    "\n",
    "type( member_list )  # 데이터 타입 확인 "
   ]
  },
  {
   "cell_type": "code",
   "execution_count": 36,
   "metadata": {
    "scrolled": true
   },
   "outputs": [
    {
     "name": "stdout",
     "output_type": "stream",
     "text": [
      "3\n"
     ]
    }
   ],
   "source": [
    "print( len(member_list ) )         # 딕셔너리 길이 확인 "
   ]
  },
  {
   "cell_type": "markdown",
   "metadata": {},
   "source": [
    "#### ○ 딕셔너리에서 키로 데이터 조회"
   ]
  },
  {
   "cell_type": "code",
   "execution_count": 37,
   "metadata": {},
   "outputs": [
    {
     "name": "stdout",
     "output_type": "stream",
     "text": [
      "100\n"
     ]
    }
   ],
   "source": [
    "print(member_list[\"lee\"]) "
   ]
  },
  {
   "cell_type": "markdown",
   "metadata": {},
   "source": [
    "#### ○딕셔너리에 데이터 추가 "
   ]
  },
  {
   "cell_type": "code",
   "execution_count": 38,
   "metadata": {},
   "outputs": [
    {
     "data": {
      "text/plain": [
       "{'lee': 100, 'hong': 70, 'kim': 90, 'park': 70}"
      ]
     },
     "execution_count": 38,
     "metadata": {},
     "output_type": "execute_result"
    }
   ],
   "source": [
    "member_list[\"park\" ] = 70   # \"park\" 이라는 키가 존재하면 갱신, 그렇지 않으면 추가 \n",
    "member_list                   "
   ]
  },
  {
   "cell_type": "markdown",
   "metadata": {},
   "source": [
    "#### ○딕셔너리에 데이터 갱신"
   ]
  },
  {
   "cell_type": "code",
   "execution_count": 39,
   "metadata": {},
   "outputs": [
    {
     "data": {
      "text/plain": [
       "{'lee': 100, 'hong': 70, 'kim': 90, 'park': 80}"
      ]
     },
     "execution_count": 39,
     "metadata": {},
     "output_type": "execute_result"
    }
   ],
   "source": [
    "member_list[\"park\" ] = 80   # \"park\" 이라는 키가 존재하면 갱신, 그렇지 않으면 추가 \n",
    "member_list"
   ]
  },
  {
   "cell_type": "markdown",
   "metadata": {},
   "source": [
    "#### ○ 딕셔너리에서 데이터 삭제"
   ]
  },
  {
   "cell_type": "code",
   "execution_count": 40,
   "metadata": {},
   "outputs": [
    {
     "name": "stdout",
     "output_type": "stream",
     "text": [
      "{'lee': 100, 'hong': 70, 'kim': 90}\n"
     ]
    }
   ],
   "source": [
    "del member_list[\"park\"]    # 해당 키에 대한 데이터가 없으면 오류 \n",
    "print(member_list)"
   ]
  },
  {
   "cell_type": "markdown",
   "metadata": {},
   "source": [
    "#### ○ 딕셔너리의 모든 키와 값 출력 "
   ]
  },
  {
   "cell_type": "code",
   "execution_count": 41,
   "metadata": {
    "scrolled": true
   },
   "outputs": [
    {
     "name": "stdout",
     "output_type": "stream",
     "text": [
      "{'lee': 100, 'hong': 70, 'kim': 90}\n",
      "dict_keys(['lee', 'hong', 'kim'])\n",
      "dict_values([100, 70, 90])\n"
     ]
    }
   ],
   "source": [
    "print(member_list) # 키와 값쌍으로 모두 출력 \n",
    "print(member_list.keys())   # 키만 모두 출력\n",
    "print(member_list.values()) # 값만 모두 출력 "
   ]
  },
  {
   "cell_type": "markdown",
   "metadata": {},
   "source": [
    "#### ○ 딕셔너리에 키가 존재하는 지 확인"
   ]
  },
  {
   "cell_type": "code",
   "execution_count": 42,
   "metadata": {},
   "outputs": [
    {
     "name": "stdout",
     "output_type": "stream",
     "text": [
      "True\n",
      "False\n"
     ]
    }
   ],
   "source": [
    "print( 'lee' in  member_list )\n",
    "print( 'Pa가' in  member_list )"
   ]
  },
  {
   "cell_type": "markdown",
   "metadata": {},
   "source": [
    "#### ○ 비어 있는 딕셔너리인 지 확인"
   ]
  },
  {
   "cell_type": "code",
   "execution_count": 43,
   "metadata": {},
   "outputs": [
    {
     "name": "stdout",
     "output_type": "stream",
     "text": [
      "True\n"
     ]
    }
   ],
   "source": [
    "print(bool( member_list )) # 딕셔너리가 비어있으면 False"
   ]
  },
  {
   "cell_type": "code",
   "execution_count": 44,
   "metadata": {},
   "outputs": [
    {
     "name": "stdout",
     "output_type": "stream",
     "text": [
      "False\n"
     ]
    }
   ],
   "source": [
    "data_list = { }\n",
    "print(bool( data_list ))  # 딕셔너리가 비어있으면 False"
   ]
  }
 ],
 "metadata": {
  "kernelspec": {
   "display_name": "Python 3 (ipykernel)",
   "language": "python",
   "name": "python3"
  },
  "language_info": {
   "codemirror_mode": {
    "name": "ipython",
    "version": 3
   },
   "file_extension": ".py",
   "mimetype": "text/x-python",
   "name": "python",
   "nbconvert_exporter": "python",
   "pygments_lexer": "ipython3",
   "version": "3.12.7"
  }
 },
 "nbformat": 4,
 "nbformat_minor": 4
}
