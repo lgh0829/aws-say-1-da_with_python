{
 "cells": [
  {
   "cell_type": "markdown",
   "metadata": {
    "id": "xjNr0K2AEZpx"
   },
   "source": [
    "# 데이터 타입과 변수"
   ]
  },
  {
   "cell_type": "markdown",
   "metadata": {
    "id": "ELVHrBSpEZpy"
   },
   "source": [
    "### [ 변수 ]"
   ]
  },
  {
   "cell_type": "markdown",
   "metadata": {
    "id": "I8l4AJtuEZpy"
   },
   "source": [
    "#### ○ 변수이름 규칙\n",
    "  • 변수이름의 첫글자는 반드시 영문자 또는 언더스코어( _ ) 어이야 한다. 숫자나 특수문자로 시작하면 안된다.  \n",
    "  • 영문자의 대소문자를 구분한다.   \n",
    "  • 예약어는 사용할 수 없다."
   ]
  },
  {
   "cell_type": "code",
   "execution_count": null,
   "metadata": {
    "id": "G1jgBjUaEZpz",
    "outputId": "4a723c9e-379c-4d58-fa34-ec36979a81e1"
   },
   "outputs": [
    {
     "ename": "SyntaxError",
     "evalue": "invalid character in identifier (<ipython-input-1-6787bb99a1f7>, line 8)",
     "output_type": "error",
     "traceback": [
      "\u001b[1;36m  File \u001b[1;32m\"<ipython-input-1-6787bb99a1f7>\"\u001b[1;36m, line \u001b[1;32m8\u001b[0m\n\u001b[1;33m    name = “Leeji”\u001b[0m\n\u001b[1;37m                 ^\u001b[0m\n\u001b[1;31mSyntaxError\u001b[0m\u001b[1;31m:\u001b[0m invalid character in identifier\n"
     ]
    }
   ],
   "source": [
    "#1) 변수이름은 score  변수값은 10\n",
    "score = 10\n",
    "\n",
    "#2) 변수이름은 qty  변수값은 200\n",
    "qty = 200\n",
    "\n",
    "#3) 변수이름은 name 변수값은 “Leeji”  또는 ‘Leeji’\n",
    "name = \"Leeji\""
   ]
  },
  {
   "cell_type": "markdown",
   "metadata": {
    "id": "TFZRwr2eEZp0"
   },
   "source": [
    "#### ○ 문장 규칙\n",
    "기본적으로 한 줄이 한 문장.   \n",
    "한 줄에 여러 문장 작성 시 세미콜론( ; )으로 한 문장의 끝을 표시\n",
    "\n",
    "#### ○ 블록 규칙\n",
    "들여쓰기로 결정됨"
   ]
  },
  {
   "cell_type": "markdown",
   "metadata": {
    "id": "SyDkGjD2EZp0"
   },
   "source": [
    "### [ 연산자 ]  "
   ]
  },
  {
   "cell_type": "markdown",
   "metadata": {
    "id": "X0Scm_qEEZp1"
   },
   "source": [
    "산술연산자"
   ]
  },
  {
   "cell_type": "code",
   "execution_count": null,
   "metadata": {
    "id": "U2r3kajREZp1",
    "outputId": "c5b918dd-ae29-4fd0-86d0-0d56146ee321",
    "scrolled": true
   },
   "outputs": [
    {
     "name": "stdout",
     "output_type": "stream",
     "text": [
      "35\n",
      "5\n",
      "300\n",
      "1.3333333333333333\n",
      "1\n",
      "5\n",
      "400\n"
     ]
    }
   ],
   "source": [
    "a = 20 #대입연산자\n",
    "b = 15 #대입연산자\n",
    "result = a + b ; print( result )   # 덧셈연산자\n",
    "result = a - b ; print( result )   # 뺄셈연산자\n",
    "result = a * b ; print( result )   # 곱셈연산자\n",
    "result = a / b ; print( result )   # 나눗셈연산자\n",
    "result = a // b ; print( result )  # 나누기(몫)연산자\n",
    "result = a % b ; print( result )   # 나눈 나머지연산자\n",
    "result = a ** 2 ; print( result )  # 제곱연산자"
   ]
  },
  {
   "cell_type": "markdown",
   "metadata": {
    "id": "BuPyprtBEZp1"
   },
   "source": [
    "비교연산자"
   ]
  },
  {
   "cell_type": "code",
   "execution_count": null,
   "metadata": {
    "id": "L97WygxeEZp2",
    "outputId": "a1f11520-3edc-4eaf-a5ba-18550fe2122f",
    "scrolled": true
   },
   "outputs": [
    {
     "name": "stdout",
     "output_type": "stream",
     "text": [
      "True\n",
      "True\n",
      "False\n",
      "False\n",
      "False\n",
      "True\n"
     ]
    }
   ],
   "source": [
    "data = 50\n",
    "score = 100\n",
    "print( data < score )\n",
    "print( data <= score )\n",
    "print( data > score )\n",
    "print( data >= score )\n",
    "print( data == score ) # 같으면 True\n",
    "print( data != score ) # 다르면 True"
   ]
  },
  {
   "cell_type": "markdown",
   "metadata": {
    "id": "l6yNQvA7EZp2"
   },
   "source": [
    "논리연산자"
   ]
  },
  {
   "cell_type": "code",
   "execution_count": null,
   "metadata": {
    "id": "0bB7TT_5EZp2",
    "outputId": "474884cb-9cc5-4b55-b699-81d6d8452f5e"
   },
   "outputs": [
    {
     "name": "stdout",
     "output_type": "stream",
     "text": [
      "True\n",
      "True\n",
      "True\n",
      "False\n"
     ]
    }
   ],
   "source": [
    "print( score >= 0  and  score <= 100 )  # 양쪽 모두 참인 경우 True\n",
    "print( 0  <=   score <= 100 )\n",
    "\n",
    "print( score >= 0  or  score <= 100 )   # 양쪽 중 하나라도 참인 경우 True\n",
    "print( not score >= 0 )                 # 참이면 False ,거짓이면 True"
   ]
  },
  {
   "cell_type": "markdown",
   "metadata": {
    "id": "aSSS_KQ5EZp2"
   },
   "source": [
    "### [ 데이터타입 ]  "
   ]
  },
  {
   "cell_type": "markdown",
   "metadata": {
    "id": "lnVzfiF2EZp2"
   },
   "source": [
    "#### ○ 숫자 데이터타입\n",
    "정수형, 실수형"
   ]
  },
  {
   "cell_type": "code",
   "execution_count": 1,
   "metadata": {
    "id": "CUGJzsA8EZp3",
    "outputId": "20d35103-ea39-44c7-da8f-c8a274946632"
   },
   "outputs": [
    {
     "data": {
      "text/plain": [
       "int"
      ]
     },
     "execution_count": 1,
     "metadata": {},
     "output_type": "execute_result"
    }
   ],
   "source": [
    "i = 10  # 정수형\n",
    "type(i) # 데이터 타입 확인"
   ]
  },
  {
   "cell_type": "code",
   "execution_count": 4,
   "metadata": {
    "id": "dpSiXT8WEZp3",
    "outputId": "389bbeb7-0f88-4de3-8ee4-078d3371e458"
   },
   "outputs": [
    {
     "data": {
      "text/plain": [
       "float"
      ]
     },
     "execution_count": 4,
     "metadata": {},
     "output_type": "execute_result"
    }
   ],
   "source": [
    "j = 10.5 # 실수형\n",
    "type(j)  # 데이터 타입 확인"
   ]
  },
  {
   "cell_type": "markdown",
   "metadata": {
    "id": "zi6RlygkEZp3"
   },
   "source": [
    "#### ○ 문자 데이터타입"
   ]
  },
  {
   "cell_type": "code",
   "execution_count": 5,
   "metadata": {
    "id": "5nDE1P2VEZp3",
    "outputId": "26095fac-f4ab-40d6-b3b4-45e659985575"
   },
   "outputs": [
    {
     "name": "stdout",
     "output_type": "stream",
     "text": [
      "<class 'str'>\n",
      "여행의 이유  ::  김영하\n",
      "여행-일상-여행의 고리를 잇는,\n",
      "아홉 개의 매혹적인 이야기\n",
      "test\n",
      "test\n",
      "string\n",
      "test\n",
      "6\n"
     ]
    }
   ],
   "source": [
    "# 문자열은 \" \"  또는 ' '로 감싼다.\n",
    "title =\"여행의 이유\"\n",
    "author = '김영하'\n",
    "\n",
    "print( type(title) ) # 데이터 타입 확인\n",
    "\n",
    "# 여러줄 문자열\n",
    "message=\"\"\"여행-일상-여행의 고리를 잇는,\n",
    "아홉 개의 매혹적인 이야기\"\"\"\n",
    "\n",
    "print(title, \" :: \" , author)\n",
    "print(message )\n",
    "\n",
    "# 문자열 길이\n",
    "print( len(title)  )"
   ]
  },
  {
   "cell_type": "markdown",
   "metadata": {
    "id": "J14pjRlbEZp3"
   },
   "source": [
    "#### ○ 문자 인덱싱"
   ]
  },
  {
   "cell_type": "code",
   "execution_count": 6,
   "metadata": {
    "id": "HONWb60oEZp3",
    "outputId": "50896c82-b468-4b2b-b277-18a99bc820d1",
    "scrolled": true
   },
   "outputs": [
    {
     "name": "stdout",
     "output_type": "stream",
     "text": [
      "여 행 의   이 유\n",
      "행-일상-여행의 고리를 잇는,\n",
      "아홉\n"
     ]
    }
   ],
   "source": [
    "# 인덱스는 0부터 시작.\n",
    "\n",
    "print(title[0],title[1],title[2],title[3],title[4],title[5] )"
   ]
  },
  {
   "cell_type": "markdown",
   "metadata": {
    "id": "bufYh2n0EZp3"
   },
   "source": [
    "#### ○ 문자 슬라이싱"
   ]
  },
  {
   "cell_type": "code",
   "execution_count": null,
   "metadata": {
    "id": "l8CyFhMJEZp3",
    "outputId": "85a32a4e-9249-47a0-e332-c2147361d694"
   },
   "outputs": [
    {
     "name": "stdout",
     "output_type": "stream",
     "text": [
      "여행의 이유\n",
      "행의 이유\n",
      "의 이유\n",
      " 이유\n",
      "이유\n"
     ]
    }
   ],
   "source": [
    "print(title[:])  # 처음부터 끝까지\n",
    "print(title[1:]) # 1인덱스부터 끝까지\n",
    "print(title[2:]) # 2인덱스부터 끝까지\n",
    "print(title[3:]) # 3인덱스부터 끝까지\n",
    "print(title[4:]) # 4인덱스부터 끝까지"
   ]
  },
  {
   "cell_type": "code",
   "execution_count": null,
   "metadata": {
    "id": "WDMC19eWEZp3",
    "outputId": "c81249d8-5cee-4eac-8a39-08af04a344ff"
   },
   "outputs": [
    {
     "name": "stdout",
     "output_type": "stream",
     "text": [
      "여행의 이유\n",
      "여행의 이\n",
      "여행의 이\n",
      "여행의 \n",
      "이유\n"
     ]
    }
   ],
   "source": [
    "print(title[:6])  # 처음부터 6인덱스 바로 앞까지\n",
    "print(title[:5])  # 처음부터 5인덱스 바로 앞까지\n",
    "print(title[:-1]) # 처음부터 마지막 글자 바로 앞까지\n",
    "print(title[:-2]) # 처음부터 마지막 글자 두개앞까지\n",
    "print(title[4:6]) # 4인덱스부터 6인덱스 바로 앞까지"
   ]
  },
  {
   "cell_type": "markdown",
   "metadata": {
    "id": "amvom8LQEZp4"
   },
   "source": [
    "#### ○ Meta Character\n",
    "\\n   줄바꿈   \n",
    "\\t  탭문자     "
   ]
  },
  {
   "cell_type": "code",
   "execution_count": null,
   "metadata": {
    "id": "WIFQ53xoEZp4",
    "outputId": "b421852b-7c15-4505-8704-bb643f91e711"
   },
   "outputs": [
    {
     "name": "stdout",
     "output_type": "stream",
     "text": [
      "줄을 바꿈\n",
      "TAB문자\t\\\n"
     ]
    }
   ],
   "source": [
    "print(\"줄을 바꿈\\nTAB문자\\t\\\\\")"
   ]
  },
  {
   "cell_type": "markdown",
   "metadata": {
    "id": "wYFTt_e2EZp4"
   },
   "source": [
    "#### ○ 문자열함수    "
   ]
  },
  {
   "cell_type": "code",
   "execution_count": 3,
   "metadata": {
    "colab": {
     "base_uri": "https://localhost:8080/"
    },
    "executionInfo": {
     "elapsed": 5,
     "status": "ok",
     "timestamp": 1744882012806,
     "user": {
      "displayName": "Jungin Lee",
      "userId": "15449047399293082265"
     },
     "user_tz": -540
    },
    "id": "g9FK2LcwEZp4",
    "outputId": "7f5498fe-ff1b-4207-f6a7-239c180ee160",
    "scrolled": true
   },
   "outputs": [
    {
     "name": "stdout",
     "output_type": "stream",
     "text": [
      "HELLO\n",
      "hello\n"
     ]
    }
   ],
   "source": [
    "message = \"Hello\"\n",
    "print ( message.upper() ) # 대문자로 바꿈\n",
    "print ( message.lower() ) # 소문자로 바꿈"
   ]
  },
  {
   "cell_type": "code",
   "execution_count": null,
   "metadata": {
    "id": "jA5VQNkpEZp4",
    "outputId": "00c4ff1c-14b7-43d6-892f-ccf1ddc0b858",
    "scrolled": true
   },
   "outputs": [
    {
     "name": "stdout",
     "output_type": "stream",
     "text": [
      "Hello\n"
     ]
    }
   ],
   "source": [
    "# 단, message변수의 내용을 바꾸는 것이 아니라, 새로운 것을 만들어서 반환하는 것임.\n",
    "# 즉, message변수의 내용은 바뀌지 않았다.\n",
    "print(message)"
   ]
  },
  {
   "cell_type": "code",
   "execution_count": 4,
   "metadata": {
    "colab": {
     "base_uri": "https://localhost:8080/"
    },
    "executionInfo": {
     "elapsed": 5,
     "status": "ok",
     "timestamp": 1744882014220,
     "user": {
      "displayName": "Jungin Lee",
      "userId": "15449047399293082265"
     },
     "user_tz": -540
    },
    "id": "EkTGEPgNEZp4",
    "outputId": "848c9c27-edc4-49d3-de14-f2c26f446623"
   },
   "outputs": [
    {
     "name": "stdout",
     "output_type": "stream",
     "text": [
      "HELLO\n"
     ]
    }
   ],
   "source": [
    "# message 변수의 내용을 변경하려면 다음과 같이 message 변수에  할당.\n",
    "message = message.upper()\n",
    "print(message)"
   ]
  },
  {
   "cell_type": "code",
   "execution_count": 5,
   "metadata": {
    "colab": {
     "base_uri": "https://localhost:8080/",
     "height": 233
    },
    "executionInfo": {
     "elapsed": 17,
     "status": "error",
     "timestamp": 1744882015789,
     "user": {
      "displayName": "Jungin Lee",
      "userId": "15449047399293082265"
     },
     "user_tz": -540
    },
    "id": "9MmtnNAzEZp4",
    "outputId": "1bf9d3fe-c61a-46e1-8c78-0d104317df44"
   },
   "outputs": [
    {
     "name": "stdout",
     "output_type": "stream",
     "text": [
      "2\n",
      "2\n",
      "1\n"
     ]
    },
    {
     "ename": "ValueError",
     "evalue": "substring not found",
     "output_type": "error",
     "traceback": [
      "\u001b[0;31m---------------------------------------------------------------------------\u001b[0m",
      "\u001b[0;31mValueError\u001b[0m                                Traceback (most recent call last)",
      "\u001b[0;32m<ipython-input-5-f09d81842e47>\u001b[0m in \u001b[0;36m<cell line: 0>\u001b[0;34m()\u001b[0m\n\u001b[1;32m      2\u001b[0m \u001b[0mprint\u001b[0m \u001b[0;34m(\u001b[0m \u001b[0mmessage\u001b[0m\u001b[0;34m.\u001b[0m\u001b[0mindex\u001b[0m\u001b[0;34m(\u001b[0m\u001b[0;34m'L'\u001b[0m\u001b[0;34m)\u001b[0m  \u001b[0;34m)\u001b[0m\u001b[0;31m# 특정문자('l') 가 위치한 인덱스, 단 없으면 에러.\u001b[0m\u001b[0;34m\u001b[0m\u001b[0;34m\u001b[0m\u001b[0m\n\u001b[1;32m      3\u001b[0m \u001b[0mprint\u001b[0m \u001b[0;34m(\u001b[0m \u001b[0mmessage\u001b[0m\u001b[0;34m.\u001b[0m\u001b[0mcount\u001b[0m\u001b[0;34m(\u001b[0m\u001b[0;34m'L'\u001b[0m\u001b[0;34m,\u001b[0m\u001b[0;36m3\u001b[0m \u001b[0;34m)\u001b[0m\u001b[0;34m)\u001b[0m  \u001b[0;31m# 특정문자('l') 갯수를 셈. 단 3인덱스 부터\u001b[0m\u001b[0;34m\u001b[0m\u001b[0;34m\u001b[0m\u001b[0m\n\u001b[0;32m----> 4\u001b[0;31m \u001b[0mprint\u001b[0m \u001b[0;34m(\u001b[0m \u001b[0mmessage\u001b[0m\u001b[0;34m.\u001b[0m\u001b[0mindex\u001b[0m\u001b[0;34m(\u001b[0m\u001b[0;34m'z'\u001b[0m\u001b[0;34m)\u001b[0m  \u001b[0;34m)\u001b[0m \u001b[0;31m# 특정문자('z') 가 위치한 인덱스. 단 없으면 에러.\u001b[0m\u001b[0;34m\u001b[0m\u001b[0;34m\u001b[0m\u001b[0m\n\u001b[0m",
      "\u001b[0;31mValueError\u001b[0m: substring not found"
     ]
    }
   ],
   "source": [
    "print ( message.count('L') ) # 특정문자('l') 갯수를 셈. 없으면 0\n",
    "print ( message.index('L')  )# 특정문자('l') 가 위치한 인덱스, 단 없으면 에러.\n",
    "print ( message.count('L',3 ))  # 특정문자('l') 갯수를 셈. 단 3인덱스 부터\n",
    "print ( message.index('z')  ) # 특정문자('z') 가 위치한 인덱스. 단 없으면 에러."
   ]
  },
  {
   "cell_type": "code",
   "execution_count": 7,
   "metadata": {
    "id": "aiP3sI-rEZp4"
   },
   "outputs": [
    {
     "name": "stdout",
     "output_type": "stream",
     "text": [
      " Hello LEEJI \n",
      "Hello LEEJI\n",
      " Hello KIMJI \n",
      "['', 'Hello', 'LEEJI', '']\n",
      "['99', '10', '11']\n"
     ]
    }
   ],
   "source": [
    "message = \" Hello LEEJI \"\n",
    "print ( message )\n",
    "print ( message.strip() ) # 좌우 공백제거\n",
    "print ( message.replace(\"LEEJI\",\"KIMJI\") ) #문자열 변경\n",
    "\n",
    "print ( message.split(' ') )\n",
    "data = \"99:10:11\"\n",
    "print ( data.split(':') ) # 스플릿 기준이 되는 문자는 결과 포함되 않음"
   ]
  },
  {
   "cell_type": "markdown",
   "metadata": {
    "id": "U_wrHkGJEZp4"
   },
   "source": [
    "#### ○ 불린 데이터타입"
   ]
  },
  {
   "cell_type": "code",
   "execution_count": null,
   "metadata": {
    "id": "p4jyJEfMEZp4",
    "scrolled": true
   },
   "outputs": [],
   "source": [
    "answer = True\n",
    "print(answer)\n",
    "answer = False\n",
    "print(answer)\n",
    "answer = (10 == 10)\n",
    "print(answer)\n",
    "answer = (10 != 10)\n",
    "print(answer)\n",
    "print( type(answer) )  # 데이터 타입 확인"
   ]
  },
  {
   "cell_type": "markdown",
   "metadata": {
    "id": "gqDAFSE3EZp4"
   },
   "source": [
    "### [ 키보드 입력 ]  "
   ]
  },
  {
   "cell_type": "code",
   "execution_count": 8,
   "metadata": {
    "id": "3XOy6eDAEZp5",
    "scrolled": true
   },
   "outputs": [
    {
     "name": "stdin",
     "output_type": "stream",
     "text": [
      "이름을 입력하세요\n",
      " 홍길동\n"
     ]
    }
   ],
   "source": [
    "name = input(\"이름을 입력하세요\\n\")"
   ]
  },
  {
   "cell_type": "code",
   "execution_count": null,
   "metadata": {},
   "outputs": [],
   "source": []
  },
  {
   "cell_type": "code",
   "execution_count": 9,
   "metadata": {
    "id": "y5rduCTpEZp5"
   },
   "outputs": [
    {
     "name": "stdin",
     "output_type": "stream",
     "text": [
      "영어 점수를 입력하세요\n",
      " 100\n"
     ]
    }
   ],
   "source": [
    "english_score = input(\"영어 점수를 입력하세요\\n\")"
   ]
  },
  {
   "cell_type": "code",
   "execution_count": 10,
   "metadata": {
    "id": "jO8kVzB0EZp5"
   },
   "outputs": [
    {
     "name": "stdin",
     "output_type": "stream",
     "text": [
      "과학 점수를 입력하세요\n",
      " 80\n"
     ]
    }
   ],
   "source": [
    "science_score = input(\"과학 점수를 입력하세요\\n\")"
   ]
  },
  {
   "cell_type": "code",
   "execution_count": 11,
   "metadata": {
    "id": "qMszPDn-EZp5"
   },
   "outputs": [
    {
     "name": "stdin",
     "output_type": "stream",
     "text": [
      "수학 점수를 입력하세요\n",
      " 30\n"
     ]
    }
   ],
   "source": [
    "math_score = input(\"수학 점수를 입력하세요\\n\")"
   ]
  },
  {
   "cell_type": "code",
   "execution_count": null,
   "metadata": {},
   "outputs": [],
   "source": []
  },
  {
   "cell_type": "code",
   "execution_count": 15,
   "metadata": {},
   "outputs": [
    {
     "name": "stdout",
     "output_type": "stream",
     "text": [
      "홍길동\n",
      "100\n",
      "80\n",
      "30\n"
     ]
    }
   ],
   "source": [
    "print(name)\n",
    "print(english_score)\n",
    "print(science_score)\n",
    "print(math_score)"
   ]
  },
  {
   "cell_type": "markdown",
   "metadata": {
    "id": "BOnVCpwGEZp5"
   },
   "source": [
    "### [ 데이터타입 변환 ]  "
   ]
  },
  {
   "cell_type": "markdown",
   "metadata": {
    "id": "G-zHCGA_EZp-"
   },
   "source": [
    "#### ○ 숫자로 타입변환  "
   ]
  },
  {
   "cell_type": "code",
   "execution_count": null,
   "metadata": {
    "id": "OJln13GwEZp-"
   },
   "outputs": [],
   "source": [
    "# 산술연산을 하려면 숫자 데이터타입으로 타입변환을 해야 함.\n",
    "\n",
    "english_score = int (english_score)  # 정수로 타입 변환\n",
    "science_score = float (science_score)# 실수로 타입 변환\n",
    "math_score = float (math_score)# 실수로 타입 변환\n",
    "\n",
    "avg = (english_score+science_score+math_score)/3\n",
    "avg"
   ]
  },
  {
   "cell_type": "markdown",
   "metadata": {
    "id": "Ug_9Lg3YEZp-"
   },
   "source": [
    "#### ○ 문자열로 타입변환  "
   ]
  },
  {
   "cell_type": "code",
   "execution_count": null,
   "metadata": {
    "id": "NNiaZgvPEZp-"
   },
   "outputs": [],
   "source": [
    "num = 10\n",
    "print ( str(num) + \"번\" )"
   ]
  },
  {
   "cell_type": "markdown",
   "metadata": {
    "id": "hcIgs9hWEZp_"
   },
   "source": [
    "#### ○ 불린으로 타입변환  "
   ]
  },
  {
   "cell_type": "code",
   "execution_count": null,
   "metadata": {
    "id": "0hovAynAEZp_"
   },
   "outputs": [],
   "source": [
    "print ( bool(num) )\n",
    "print ( bool(0) , bool(-1)  )  #숫자 0만 False,  나머지 모두 True"
   ]
  },
  {
   "cell_type": "markdown",
   "metadata": {
    "id": "048pa4R9EZp_"
   },
   "source": [
    "### [ 출력 ]  \n",
    "#### ○ 출력 포멧\n",
    "%d   정수\n",
    "%f   실수\n",
    "%s   문자열"
   ]
  },
  {
   "cell_type": "code",
   "execution_count": null,
   "metadata": {
    "id": "Z9jmJYwJEZp_"
   },
   "outputs": [],
   "source": [
    "# 출력 포멧 갯수와  % 뒤에 나오는 숫자(또는 문자)의 개수가 같아야 함\n",
    "print(\" 이름 : %s , 평균점수 : %f\" % (name, avg  ))"
   ]
  },
  {
   "cell_type": "code",
   "execution_count": null,
   "metadata": {
    "id": "ou3XQOKaEZp_"
   },
   "outputs": [],
   "source": [
    "# %5s   -->  문자열을 5자리로 출력\n",
    "# %5.2f -->  실수를 전체 5자리. 소수점이하 2자리로 출력\n",
    "print(\" 이름 : %5s , 평균점수 : %5.2f\" % (name, avg  ))"
   ]
  },
  {
   "cell_type": "code",
   "execution_count": null,
   "metadata": {
    "id": "K5HarTTIEZp_",
    "scrolled": true
   },
   "outputs": [],
   "source": [
    "# {0:4s} --> 4자리 문자열, 0번째 데이터인(name)\n",
    "# {1:5f} --> 전체 5자리 소수점이하 2자리 실수, 1번째 데이터인(avg)\n",
    "message = \"{0:4s}학생의 평균점수는 {1:5.2f} 입니다.\".format(name,avg)\n",
    "print(message)\n",
    "\n",
    "# {1:4s} --> 4자리 문자열 1번째 데이터인(name)\n",
    "# {0:5f} --> 전체 5자리 소수점이하 2자리 실수. 0번째 데이터인(avg)\n",
    "message = \"{1:4s}학생의 평균점수는 {0:5.2f} 입니다.\".format(avg,name)\n",
    "print(message)"
   ]
  },
  {
   "cell_type": "code",
   "execution_count": null,
   "metadata": {
    "id": "Vp918v1SEZp_"
   },
   "outputs": [],
   "source": [
    "dash = \"-\"\n",
    "print(dash * 50)  # 문자열 * 숫자 는 문자열을 숫자만큼 반복"
   ]
  }
 ],
 "metadata": {
  "colab": {
   "provenance": []
  },
  "kernelspec": {
   "display_name": "Python 3 (ipykernel)",
   "language": "python",
   "name": "python3"
  },
  "language_info": {
   "codemirror_mode": {
    "name": "ipython",
    "version": 3
   },
   "file_extension": ".py",
   "mimetype": "text/x-python",
   "name": "python",
   "nbconvert_exporter": "python",
   "pygments_lexer": "ipython3",
   "version": "3.12.7"
  }
 },
 "nbformat": 4,
 "nbformat_minor": 4
}
