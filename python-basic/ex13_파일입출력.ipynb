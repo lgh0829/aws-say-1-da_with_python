{
 "cells": [
  {
   "cell_type": "markdown",
   "metadata": {},
   "source": [
    "# 파일 입출력"
   ]
  },
  {
   "cell_type": "code",
   "execution_count": 4,
   "metadata": {},
   "outputs": [
    {
     "name": "stdout",
     "output_type": "stream",
     "text": [
      "A:\\01_파이썬을기반으로한머신러닝\\source\n"
     ]
    }
   ],
   "source": [
    "import os\n",
    "print (os.getcwd())  # 현재 워킹 디렉토리 확인"
   ]
  },
  {
   "cell_type": "markdown",
   "metadata": {},
   "source": [
    "#### 파일쓰기(텍스트 파일)"
   ]
  },
  {
   "cell_type": "code",
   "execution_count": 6,
   "metadata": {},
   "outputs": [],
   "source": [
    "f = open(\"test.txt\", \"w\") \n",
    "# 쓰기 모드로 파읽 오픈 (기존에 파일 존재하면 삭제하고 새로 생성) \n",
    "\n",
    "f.write(\" 텍스트 파일을 새로 만들고 텍스트를 씁니다.\\n\")\n",
    "f.write(\" 텍스트 파일을 새로 만들고 텍스트를 씁니다.\\n\")\n",
    "f.close()"
   ]
  },
  {
   "cell_type": "code",
   "execution_count": 2,
   "metadata": {},
   "outputs": [],
   "source": [
    "f = open(\"test.txt\", \"a\")  \n",
    "# 쓰기 모드로 파읽 오픈 (기존에 파일 존재하면 append) \n",
    "\n",
    "f.write(\" 코드를 추가 합니다.\")\n",
    "f.close()"
   ]
  },
  {
   "cell_type": "markdown",
   "metadata": {},
   "source": [
    "#### 파일쓰기(텍스트 파일)  - 인코딩 지정"
   ]
  },
  {
   "cell_type": "code",
   "execution_count": 19,
   "metadata": {},
   "outputs": [],
   "source": [
    "f = open(\"test.txt\", \"w\" , encoding=\"utf-8\") \n",
    "# 쓰기 모드로 파읽 오픈 (기존에 파일 존재하면 삭제하고 새로 생성) \n",
    "\n",
    "f.write(\" 텍스트 파일을 새로 만들고 텍스트를 씁니다.\\n\")\n",
    "f.write(\" 텍스트 파일을 새로 만들고 텍스트를 씁니다.\\n\")\n",
    "f.close()"
   ]
  },
  {
   "cell_type": "markdown",
   "metadata": {},
   "source": [
    "####  with 절로 파일 오픈  \n",
    "with 블럭이 끝나면 오픈되었던 파일이 자동으로  close 됨"
   ]
  },
  {
   "cell_type": "code",
   "execution_count": 20,
   "metadata": {},
   "outputs": [],
   "source": [
    "with open(\"test.txt\",\"a\", encoding=\"utf-8\")   as  test  :  # 자동 close 됩니다.\n",
    "    test.write(\"테스트1 입니다. \\n\")\n",
    "    test.write(\"테스트2 입니다. \\n\") "
   ]
  },
  {
   "cell_type": "markdown",
   "metadata": {},
   "source": [
    "#### 파일읽기(텍스트 파일)  "
   ]
  },
  {
   "cell_type": "code",
   "execution_count": 28,
   "metadata": {},
   "outputs": [
    {
     "name": "stdout",
     "output_type": "stream",
     "text": [
      " 텍스트 파일을 새로 만들고 텍스트를 씁니다.\n",
      "\n",
      " 텍스트 파일을 새로 만들고 텍스트를 씁니다.\n",
      "\n"
     ]
    }
   ],
   "source": [
    "f = open(\"test.txt\",\"r\", encoding=\"utf-8\") \n",
    "print (  f.readline() )   # 한 줄 읽음 \n",
    "print (  f.readline() )   # 한 줄 읽음  \n",
    "f.close()"
   ]
  },
  {
   "cell_type": "code",
   "execution_count": 29,
   "metadata": {},
   "outputs": [
    {
     "name": "stdout",
     "output_type": "stream",
     "text": [
      " 텍스트 파일을 새로 만들고 텍스트를 씁니다.\n",
      " 텍스트 파일을 새로 만들고 텍스트를 씁니다.\n",
      "테스트1 입니다. \n",
      "테스트2 입니다. \n",
      "\n"
     ]
    }
   ],
   "source": [
    "f = open(\"test.txt\",\"r\", encoding=\"utf-8\")  \n",
    "print (f.read())        # 모두 읽음 "
   ]
  },
  {
   "cell_type": "code",
   "execution_count": 30,
   "metadata": {},
   "outputs": [],
   "source": [
    "line = f.readlines()   # 모두 읽음 \n",
    "\n",
    "for i in line :\n",
    "    print (i)   "
   ]
  },
  {
   "cell_type": "markdown",
   "metadata": {},
   "source": [
    "#### 파일(바이너리 파일) "
   ]
  },
  {
   "cell_type": "code",
   "execution_count": 32,
   "metadata": {},
   "outputs": [],
   "source": [
    "f1 = open(\"googlelogo.png\",\"rb\")\n",
    "f2 = open(\"googlelogo2.png\",\"wb\")\n",
    "f2.write(  f1.read()   )   # 복사 \n",
    "f1.close()\n",
    "f2.close()"
   ]
  }
 ],
 "metadata": {
  "kernelspec": {
   "display_name": "Python 3",
   "language": "python",
   "name": "python3"
  },
  "language_info": {
   "codemirror_mode": {
    "name": "ipython",
    "version": 3
   },
   "file_extension": ".py",
   "mimetype": "text/x-python",
   "name": "python",
   "nbconvert_exporter": "python",
   "pygments_lexer": "ipython3",
   "version": "3.8.3"
  }
 },
 "nbformat": 4,
 "nbformat_minor": 2
}
