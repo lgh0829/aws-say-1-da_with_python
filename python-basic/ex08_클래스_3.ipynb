{
 "cells": [
  {
   "cell_type": "markdown",
   "metadata": {},
   "source": [
    "# 클래스"
   ]
  },
  {
   "cell_type": "markdown",
   "metadata": {},
   "source": [
    "#### ○ class와 object, constructor, method 개념 이해하기 (pdf 설명 참고)"
   ]
  },
  {
   "cell_type": "code",
   "execution_count": 1,
   "metadata": {},
   "outputs": [],
   "source": [
    "class Car() :  \n",
    "    carId = 0            # 자동차등록번호 \n",
    "    carOwnerName = \"\"    # 차주인 이름 \n",
    "    currentSpeed = 0     # 현재 자동차 속도 \n",
    "\n",
    "    #constructor \n",
    "    def __init__(self, id  , ownerName  ) :\n",
    "        self.carId = id\n",
    "        self.carOwnerName = ownerName  \n",
    "        \n",
    "    #method  #클래스 안 함수(즉, 객체에 생성되는 함수)를 method라고 부름 \n",
    "             #클래스 안 함수는 반드시 self 가 반드시 첫번째 parameter로 있어야\n",
    "    def printInfo(self) :\n",
    "        print(self.carId, self.carOwnerName, self.currentSpeed)\n",
    "        \n",
    "    def getCarOwnerName(self) :\n",
    "        return self.carOwnerName \n",
    "    \n",
    "    def setSpeed(self, s) :\n",
    "        self.currentSpeed = s "
   ]
  },
  {
   "cell_type": "code",
   "execution_count": 2,
   "metadata": {},
   "outputs": [
    {
     "name": "stdout",
     "output_type": "stream",
     "text": [
      "1 lee 0\n",
      "2 Smith 0\n"
     ]
    }
   ],
   "source": [
    "c1 = Car(1,\"lee\") \n",
    "c2 = Car(2,\"Smith\") \n",
    "\n",
    "c1.printInfo()\n",
    "c2.printInfo()"
   ]
  },
  {
   "cell_type": "code",
   "execution_count": 3,
   "metadata": {},
   "outputs": [
    {
     "name": "stdout",
     "output_type": "stream",
     "text": [
      "1 lee 11111\n",
      "2 Smith 22222\n"
     ]
    }
   ],
   "source": [
    "c1.setSpeed(11111)\n",
    "c2.setSpeed(22222)\n",
    "\n",
    "c1.printInfo()\n",
    "c2.printInfo()"
   ]
  },
  {
   "cell_type": "code",
   "execution_count": 4,
   "metadata": {},
   "outputs": [
    {
     "name": "stdout",
     "output_type": "stream",
     "text": [
      "lee\n"
     ]
    }
   ],
   "source": [
    "print(c1.getCarOwnerName())"
   ]
  },
  {
   "cell_type": "code",
   "execution_count": null,
   "metadata": {},
   "outputs": [],
   "source": []
  }
 ],
 "metadata": {
  "kernelspec": {
   "display_name": "Python 3",
   "language": "python",
   "name": "python3"
  },
  "language_info": {
   "codemirror_mode": {
    "name": "ipython",
    "version": 3
   },
   "file_extension": ".py",
   "mimetype": "text/x-python",
   "name": "python",
   "nbconvert_exporter": "python",
   "pygments_lexer": "ipython3",
   "version": "3.7.3"
  }
 },
 "nbformat": 4,
 "nbformat_minor": 2
}
