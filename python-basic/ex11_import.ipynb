{
 "cells": [
  {
   "cell_type": "markdown",
   "metadata": {},
   "source": [
    "# 모듈"
   ]
  },
  {
   "cell_type": "markdown",
   "metadata": {},
   "source": [
    "#### 외부파일( import"
   ]
  },
  {
   "cell_type": "code",
   "execution_count": 2,
   "metadata": {
    "scrolled": true
   },
   "outputs": [
    {
     "name": "stdout",
     "output_type": "stream",
     "text": [
      "모듈 실습\n",
      "안녕하세요\n"
     ]
    }
   ],
   "source": [
    "import ex11_module   # ex11_module.py 파일 불러옴 \n",
    "ex11_module.hello()   # ex11_module.py 파일의 hello 함수 호출 \n",
    "ex11_module.hi()      # ex11_module.py 파일의 hi 함수 호출 "
   ]
  },
  {
   "cell_type": "code",
   "execution_count": 3,
   "metadata": {},
   "outputs": [
    {
     "name": "stdout",
     "output_type": "stream",
     "text": [
      "모듈 실습\n",
      "안녕하세요\n"
     ]
    }
   ],
   "source": [
    "import ex11_module  as m  \n",
    "m.hello()  \n",
    "m.hi()  "
   ]
  },
  {
   "cell_type": "code",
   "execution_count": 1,
   "metadata": {},
   "outputs": [
    {
     "name": "stdout",
     "output_type": "stream",
     "text": [
      "모듈 실습\n",
      "안녕하세요\n"
     ]
    }
   ],
   "source": [
    "from ex11_module import hello , hi\n",
    "hello() \n",
    "hi()"
   ]
  }
 ],
 "metadata": {
  "kernelspec": {
   "display_name": "Python 3",
   "language": "python",
   "name": "python3"
  },
  "language_info": {
   "codemirror_mode": {
    "name": "ipython",
    "version": 3
   },
   "file_extension": ".py",
   "mimetype": "text/x-python",
   "name": "python",
   "nbconvert_exporter": "python",
   "pygments_lexer": "ipython3",
   "version": "3.7.3"
  }
 },
 "nbformat": 4,
 "nbformat_minor": 2
}
