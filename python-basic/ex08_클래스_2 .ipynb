{
 "cells": [
  {
   "cell_type": "markdown",
   "metadata": {},
   "source": [
    "# 클래스"
   ]
  },
  {
   "cell_type": "markdown",
   "metadata": {},
   "source": [
    "#### ○ class와 object, constructor 개념 이해하기 (pdf 설명 참고)"
   ]
  },
  {
   "cell_type": "code",
   "execution_count": 2,
   "metadata": {},
   "outputs": [],
   "source": [
    "class Car() :  \n",
    "    carId = 0            # 자동차등록번호 \n",
    "    carOwnerName = \"\"    # 차주인 이름 \n",
    "    currentSpeed = 0     # 현재 자동차 속도 \n",
    "\n",
    "    #constructor    # 생성자 함수는 반드시 함수 이름이 __init__  \n",
    "    def __init__(self, id  , ownerName  ) :\n",
    "        self.carId = id\n",
    "        self.carOwnerName = ownerName "
   ]
  },
  {
   "cell_type": "code",
   "execution_count": 3,
   "metadata": {},
   "outputs": [
    {
     "name": "stdout",
     "output_type": "stream",
     "text": [
      "1 lee 0\n",
      "2 Smith 0\n"
     ]
    }
   ],
   "source": [
    "c1 = Car(1,\"lee\")   #객체 Object instance\n",
    "c2 = Car(2,\"Smith\") #객체 Object instance\n",
    "\n",
    "print(c1.carId, c1.carOwnerName, c1.currentSpeed)\n",
    "print(c2.carId, c2.carOwnerName, c2.currentSpeed)"
   ]
  },
  {
   "cell_type": "code",
   "execution_count": 4,
   "metadata": {},
   "outputs": [
    {
     "name": "stdout",
     "output_type": "stream",
     "text": [
      "1 lee 10\n",
      "3 kim 20\n"
     ]
    }
   ],
   "source": [
    "c1.currentSpeed = 10 \n",
    "\n",
    "c2.carId = 3 \n",
    "c2.carOwnerName = \"kim\" \n",
    "c2.currentSpeed = 20 \n",
    "\n",
    "print(c1.carId, c1.carOwnerName, c1.currentSpeed)\n",
    "print(c2.carId, c2.carOwnerName, c2.currentSpeed)"
   ]
  },
  {
   "cell_type": "code",
   "execution_count": null,
   "metadata": {},
   "outputs": [],
   "source": []
  }
 ],
 "metadata": {
  "kernelspec": {
   "display_name": "Python 3",
   "language": "python",
   "name": "python3"
  },
  "language_info": {
   "codemirror_mode": {
    "name": "ipython",
    "version": 3
   },
   "file_extension": ".py",
   "mimetype": "text/x-python",
   "name": "python",
   "nbconvert_exporter": "python",
   "pygments_lexer": "ipython3",
   "version": "3.7.3"
  }
 },
 "nbformat": 4,
 "nbformat_minor": 2
}
