{
 "cells": [
  {
   "cell_type": "markdown",
   "id": "af834961",
   "metadata": {
    "id": "af834961"
   },
   "source": [
    "# 데이터분석의 모든 것_통계학기반 데이터분석 1강"
   ]
  },
  {
   "cell_type": "markdown",
   "id": "ce932143",
   "metadata": {
    "id": "ce932143"
   },
   "source": [
    "### [실습1] t-검정 | 일표본 검증"
   ]
  },
  {
   "cell_type": "code",
   "execution_count": 18,
   "id": "c20c7b13",
   "metadata": {
    "id": "c20c7b13"
   },
   "outputs": [
    {
     "name": "stdout",
     "output_type": "stream",
     "text": [
      "The history saving thread hit an unexpected error (OperationalError('attempt to write a readonly database')).History will not be written to the database.\n"
     ]
    }
   ],
   "source": [
    "import numpy as np\n",
    "from scipy import stats"
   ]
  },
  {
   "cell_type": "markdown",
   "id": "333fc970",
   "metadata": {
    "id": "333fc970"
   },
   "source": [
    "#### 일표본 t-test:\n",
    "모집단의 알려진 평균과 표본의 평균을 비교하는 검정입니다."
   ]
  },
  {
   "cell_type": "code",
   "execution_count": 4,
   "id": "3d3064ab",
   "metadata": {
    "id": "3d3064ab",
    "outputId": "a8030b8d-b23a-4387-cf99-f3921f344c0c"
   },
   "outputs": [
    {
     "data": {
      "text/plain": [
       "154.3"
      ]
     },
     "execution_count": 4,
     "metadata": {},
     "output_type": "execute_result"
    }
   ],
   "source": [
    "# 데이터 준비\n",
    "tree1_random = np.random.choice(400, size = 10, replace=True)\n",
    "               # 0~399 수 중에서 랜덤으로 10개 추출. replace= False <--복원추출\n",
    "tree1_random\n",
    "tree1_random.mean()"
   ]
  },
  {
   "cell_type": "code",
   "execution_count": 11,
   "id": "aae7a18a",
   "metadata": {
    "id": "aae7a18a"
   },
   "outputs": [
    {
     "name": "stdout",
     "output_type": "stream",
     "text": [
      "TtestResult(statistic=-6.16359289403978, pvalue=0.0001659773431623286, df=9)\n"
     ]
    }
   ],
   "source": [
    "# 귀무가설: 평균이 400이다   (모집단의 평균400과 샘플의 평균의 차이가 0이다.)\n",
    "# 대립가설: 평균이 400이 아니다.\n",
    "\n",
    "# 일표본 t-test\n",
    "print(stats.ttest_1samp(tree1_random, 400, alternative='two-sided'))\n",
    "## alternative 옵션은 귀무가설에 대한 대립가설의 방향을 명시함\n",
    "## - two-sided: 양측검정, default 옵션\n",
    "## - less: 단측검정 - 왼쪽\n",
    "## - greater: 단측검정 - 오른쪽"
   ]
  },
  {
   "cell_type": "code",
   "execution_count": null,
   "id": "30219e3c",
   "metadata": {
    "id": "30219e3c"
   },
   "outputs": [],
   "source": [
    "# 해석\n",
    "# pvalue=0.0054  이므로  0.05보다 작으므로 귀무가설 기각. 대립가설 채택"
   ]
  },
  {
   "cell_type": "code",
   "execution_count": 6,
   "id": "6ee9f238-f4d1-4241-92c0-535dca19f452",
   "metadata": {},
   "outputs": [
    {
     "name": "stdout",
     "output_type": "stream",
     "text": [
      "Help on function ttest_1samp in module scipy.stats._stats_py:\n",
      "\n",
      "ttest_1samp(a, popmean, axis=0, nan_policy='propagate', alternative='two-sided', *, keepdims=False)\n",
      "    Calculate the T-test for the mean of ONE group of scores.\n",
      "\n",
      "    This is a test for the null hypothesis that the expected value\n",
      "    (mean) of a sample of independent observations `a` is equal to the given\n",
      "    population mean, `popmean`.\n",
      "\n",
      "    Parameters\n",
      "    ----------\n",
      "    a : array_like\n",
      "        Sample observations.\n",
      "    popmean : float or array_like\n",
      "        Expected value in null hypothesis. If array_like, then its length along\n",
      "        `axis` must equal 1, and it must otherwise be broadcastable with `a`.\n",
      "    axis : int or None, default: 0\n",
      "        If an int, the axis of the input along which to compute the statistic.\n",
      "        The statistic of each axis-slice (e.g. row) of the input will appear in a\n",
      "        corresponding element of the output.\n",
      "        If ``None``, the input will be raveled before computing the statistic.\n",
      "    nan_policy : {'propagate', 'omit', 'raise'}\n",
      "        Defines how to handle input NaNs.\n",
      "\n",
      "        - ``propagate``: if a NaN is present in the axis slice (e.g. row) along\n",
      "          which the  statistic is computed, the corresponding entry of the output\n",
      "          will be NaN.\n",
      "        - ``omit``: NaNs will be omitted when performing the calculation.\n",
      "          If insufficient data remains in the axis slice along which the\n",
      "          statistic is computed, the corresponding entry of the output will be\n",
      "          NaN.\n",
      "        - ``raise``: if a NaN is present, a ``ValueError`` will be raised.\n",
      "    alternative : {'two-sided', 'less', 'greater'}, optional\n",
      "        Defines the alternative hypothesis.\n",
      "        The following options are available (default is 'two-sided'):\n",
      "\n",
      "        * 'two-sided': the mean of the underlying distribution of the sample\n",
      "          is different than the given population mean (`popmean`)\n",
      "        * 'less': the mean of the underlying distribution of the sample is\n",
      "          less than the given population mean (`popmean`)\n",
      "        * 'greater': the mean of the underlying distribution of the sample is\n",
      "          greater than the given population mean (`popmean`)\n",
      "    keepdims : bool, default: False\n",
      "        If this is set to True, the axes which are reduced are left\n",
      "        in the result as dimensions with size one. With this option,\n",
      "        the result will broadcast correctly against the input array.\n",
      "\n",
      "    Returns\n",
      "    -------\n",
      "    result : `~scipy.stats._result_classes.TtestResult`\n",
      "        An object with the following attributes:\n",
      "\n",
      "        statistic : float or array\n",
      "            The t-statistic.\n",
      "        pvalue : float or array\n",
      "            The p-value associated with the given alternative.\n",
      "        df : float or array\n",
      "            The number of degrees of freedom used in calculation of the\n",
      "            t-statistic; this is one less than the size of the sample\n",
      "            (``a.shape[axis]``).\n",
      "\n",
      "            .. versionadded:: 1.10.0\n",
      "\n",
      "        The object also has the following method:\n",
      "\n",
      "        confidence_interval(confidence_level=0.95)\n",
      "            Computes a confidence interval around the population\n",
      "            mean for the given confidence level.\n",
      "            The confidence interval is returned in a ``namedtuple`` with\n",
      "            fields `low` and `high`.\n",
      "\n",
      "            .. versionadded:: 1.10.0\n",
      "\n",
      "    Notes\n",
      "    -----\n",
      "    The statistic is calculated as ``(np.mean(a) - popmean)/se``, where\n",
      "    ``se`` is the standard error. Therefore, the statistic will be positive\n",
      "    when the sample mean is greater than the population mean and negative when\n",
      "    the sample mean is less than the population mean.\n",
      "\n",
      "    Beginning in SciPy 1.9, ``np.matrix`` inputs (not recommended for new\n",
      "    code) are converted to ``np.ndarray`` before the calculation is performed. In\n",
      "    this case, the output will be a scalar or ``np.ndarray`` of appropriate shape\n",
      "    rather than a 2D ``np.matrix``. Similarly, while masked elements of masked\n",
      "    arrays are ignored, the output will be a scalar or ``np.ndarray`` rather than a\n",
      "    masked array with ``mask=False``.\n",
      "\n",
      "    Examples\n",
      "    --------\n",
      "    Suppose we wish to test the null hypothesis that the mean of a population\n",
      "    is equal to 0.5. We choose a confidence level of 99%; that is, we will\n",
      "    reject the null hypothesis in favor of the alternative if the p-value is\n",
      "    less than 0.01.\n",
      "\n",
      "    When testing random variates from the standard uniform distribution, which\n",
      "    has a mean of 0.5, we expect the data to be consistent with the null\n",
      "    hypothesis most of the time.\n",
      "\n",
      "    >>> import numpy as np\n",
      "    >>> from scipy import stats\n",
      "    >>> rng = np.random.default_rng()\n",
      "    >>> rvs = stats.uniform.rvs(size=50, random_state=rng)\n",
      "    >>> stats.ttest_1samp(rvs, popmean=0.5)\n",
      "    TtestResult(statistic=2.456308468440, pvalue=0.017628209047638, df=49)\n",
      "\n",
      "    As expected, the p-value of 0.017 is not below our threshold of 0.01, so\n",
      "    we cannot reject the null hypothesis.\n",
      "\n",
      "    When testing data from the standard *normal* distribution, which has a mean\n",
      "    of 0, we would expect the null hypothesis to be rejected.\n",
      "\n",
      "    >>> rvs = stats.norm.rvs(size=50, random_state=rng)\n",
      "    >>> stats.ttest_1samp(rvs, popmean=0.5)\n",
      "    TtestResult(statistic=-7.433605518875, pvalue=1.416760157221e-09, df=49)\n",
      "\n",
      "    Indeed, the p-value is lower than our threshold of 0.01, so we reject the\n",
      "    null hypothesis in favor of the default \"two-sided\" alternative: the mean\n",
      "    of the population is *not* equal to 0.5.\n",
      "\n",
      "    However, suppose we were to test the null hypothesis against the\n",
      "    one-sided alternative that the mean of the population is *greater* than\n",
      "    0.5. Since the mean of the standard normal is less than 0.5, we would not\n",
      "    expect the null hypothesis to be rejected.\n",
      "\n",
      "    >>> stats.ttest_1samp(rvs, popmean=0.5, alternative='greater')\n",
      "    TtestResult(statistic=-7.433605518875, pvalue=0.99999999929, df=49)\n",
      "\n",
      "    Unsurprisingly, with a p-value greater than our threshold, we would not\n",
      "    reject the null hypothesis.\n",
      "\n",
      "    Note that when working with a confidence level of 99%, a true null\n",
      "    hypothesis will be rejected approximately 1% of the time.\n",
      "\n",
      "    >>> rvs = stats.uniform.rvs(size=(100, 50), random_state=rng)\n",
      "    >>> res = stats.ttest_1samp(rvs, popmean=0.5, axis=1)\n",
      "    >>> np.sum(res.pvalue < 0.01)\n",
      "    1\n",
      "\n",
      "    Indeed, even though all 100 samples above were drawn from the standard\n",
      "    uniform distribution, which *does* have a population mean of 0.5, we would\n",
      "    mistakenly reject the null hypothesis for one of them.\n",
      "\n",
      "    `ttest_1samp` can also compute a confidence interval around the population\n",
      "    mean.\n",
      "\n",
      "    >>> rvs = stats.norm.rvs(size=50, random_state=rng)\n",
      "    >>> res = stats.ttest_1samp(rvs, popmean=0)\n",
      "    >>> ci = res.confidence_interval(confidence_level=0.95)\n",
      "    >>> ci\n",
      "    ConfidenceInterval(low=-0.3193887540880017, high=0.2898583388980972)\n",
      "\n",
      "    The bounds of the 95% confidence interval are the\n",
      "    minimum and maximum values of the parameter `popmean` for which the\n",
      "    p-value of the test would be 0.05.\n",
      "\n",
      "    >>> res = stats.ttest_1samp(rvs, popmean=ci.low)\n",
      "    >>> np.testing.assert_allclose(res.pvalue, 0.05)\n",
      "    >>> res = stats.ttest_1samp(rvs, popmean=ci.high)\n",
      "    >>> np.testing.assert_allclose(res.pvalue, 0.05)\n",
      "\n",
      "    Under certain assumptions about the population from which a sample\n",
      "    is drawn, the confidence interval with confidence level 95% is expected\n",
      "    to contain the true population mean in 95% of sample replications.\n",
      "\n",
      "    >>> rvs = stats.norm.rvs(size=(50, 1000), loc=1, random_state=rng)\n",
      "    >>> res = stats.ttest_1samp(rvs, popmean=0)\n",
      "    >>> ci = res.confidence_interval()\n",
      "    >>> contains_pop_mean = (ci.low < 1) & (ci.high > 1)\n",
      "    >>> contains_pop_mean.sum()\n",
      "    953\n",
      "\n"
     ]
    }
   ],
   "source": [
    "help(stats.ttest_1samp)"
   ]
  },
  {
   "cell_type": "markdown",
   "id": "95678a4d",
   "metadata": {
    "id": "95678a4d"
   },
   "source": [
    "### [실습2] t-검정 | 독립 이표본 (independent) 검증"
   ]
  },
  {
   "cell_type": "markdown",
   "id": "0b59f956",
   "metadata": {
    "id": "0b59f956"
   },
   "source": [
    "두 집단이 서로 다른 모집단에서 추출된, 독립된 두 집단의 평균의 차이를 검정하는 것"
   ]
  },
  {
   "cell_type": "code",
   "execution_count": 12,
   "id": "7ae8044e",
   "metadata": {
    "id": "7ae8044e"
   },
   "outputs": [],
   "source": [
    "### 데이터 준비\n",
    "\"\"\"서울지역 12세 남학생들의 몸무게와 부산지역 12세 남학생 들의 몸무게를 측정했다. 다른 집단에서 각각 표본을 추출하였으므로 독립이표본이다.\n",
    "두 집단의 몸무게 차이가 있는지,그 차이가 유의미한 차이가 t-검정을 해보자.\n",
    "\"\"\"\n",
    "Seoul = [43.12, 40.94, 42.36, 50.64, 50, 43.49, 43.72, 40.19, 46.6, 43.75,\n",
    "         42.31, 44.7, 43.39, 33.08, 40.67, 49.5, 34.14, 40.61, 35.21, 37.91]\n",
    "Busan = [41.74, 42.35, 40.62, 28.64, 49.64, 40.94, 43.25, 40.3, 56.03,43.77,\n",
    "         51.3, 44.26, 42.6, 32.19, 39.72, 49.2, 33.03, 40.45, 36.03, 38.1]"
   ]
  },
  {
   "cell_type": "code",
   "execution_count": 14,
   "id": "1c588f14",
   "metadata": {
    "id": "1c588f14"
   },
   "outputs": [
    {
     "name": "stdout",
     "output_type": "stream",
     "text": [
      "TtestResult(statistic=0.3332423096643642, pvalue=0.7407831552749102, df=38.0)\n"
     ]
    }
   ],
   "source": [
    "# 귀무가설: 두 집단의 평균의 차이가 0이다.\n",
    "# 대립가설: 두 집단의 평균의 차이가 0이 아니다.\n",
    "\n",
    "### 독립 이표본 (independent) t-test\n",
    "tTestResult = stats.ttest_ind(Seoul, Busan)\n",
    "\n",
    "print(tTestResult)"
   ]
  },
  {
   "cell_type": "code",
   "execution_count": null,
   "id": "3024209b",
   "metadata": {
    "id": "3024209b"
   },
   "outputs": [],
   "source": [
    "# 해석\n",
    "# 검정 결과 p-value는 0.7409이다.\n",
    "# p-value가 0.05보다 작지 않으므로 귀무가설은 채택하고, 대립가설이 기각된다.\n",
    "# 즉, 두 집단의 몸무게 차이는 유의미하지 않다."
   ]
  },
  {
   "cell_type": "code",
   "execution_count": 17,
   "id": "f343d885-be3e-4dc8-b3da-fbc6d7e7c7bb",
   "metadata": {},
   "outputs": [
    {
     "name": "stdout",
     "output_type": "stream",
     "text": [
      "Help on function ttest_ind in module scipy.stats._stats_py:\n",
      "\n",
      "ttest_ind(a, b, axis=0, equal_var=True, nan_policy='propagate', permutations=None, random_state=None, alternative='two-sided', trim=0, *, keepdims=False)\n",
      "    Calculate the T-test for the means of *two independent* samples of scores.\n",
      "\n",
      "    This is a test for the null hypothesis that 2 independent samples\n",
      "    have identical average (expected) values. This test assumes that the\n",
      "    populations have identical variances by default.\n",
      "\n",
      "    Parameters\n",
      "    ----------\n",
      "    a, b : array_like\n",
      "        The arrays must have the same shape, except in the dimension\n",
      "        corresponding to `axis` (the first, by default).\n",
      "    axis : int or None, default: 0\n",
      "        If an int, the axis of the input along which to compute the statistic.\n",
      "        The statistic of each axis-slice (e.g. row) of the input will appear in a\n",
      "        corresponding element of the output.\n",
      "        If ``None``, the input will be raveled before computing the statistic.\n",
      "    equal_var : bool, optional\n",
      "        If True (default), perform a standard independent 2 sample test\n",
      "        that assumes equal population variances [1]_.\n",
      "        If False, perform Welch's t-test, which does not assume equal\n",
      "        population variance [2]_.\n",
      "\n",
      "        .. versionadded:: 0.11.0\n",
      "    nan_policy : {'propagate', 'omit', 'raise'}\n",
      "        Defines how to handle input NaNs.\n",
      "\n",
      "        - ``propagate``: if a NaN is present in the axis slice (e.g. row) along\n",
      "          which the  statistic is computed, the corresponding entry of the output\n",
      "          will be NaN.\n",
      "        - ``omit``: NaNs will be omitted when performing the calculation.\n",
      "          If insufficient data remains in the axis slice along which the\n",
      "          statistic is computed, the corresponding entry of the output will be\n",
      "          NaN.\n",
      "        - ``raise``: if a NaN is present, a ``ValueError`` will be raised.\n",
      "    permutations : non-negative int, np.inf, or None (default), optional\n",
      "        If 0 or None (default), use the t-distribution to calculate p-values.\n",
      "        Otherwise, `permutations` is  the number of random permutations that\n",
      "        will be used to estimate p-values using a permutation test. If\n",
      "        `permutations` equals or exceeds the number of distinct partitions of\n",
      "        the pooled data, an exact test is performed instead (i.e. each\n",
      "        distinct partition is used exactly once). See Notes for details.\n",
      "\n",
      "        .. versionadded:: 1.7.0\n",
      "    random_state : {None, int, `numpy.random.Generator`,\n",
      "            `numpy.random.RandomState`}, optional\n",
      "\n",
      "        If `seed` is None (or `np.random`), the `numpy.random.RandomState`\n",
      "        singleton is used.\n",
      "        If `seed` is an int, a new ``RandomState`` instance is used,\n",
      "        seeded with `seed`.\n",
      "        If `seed` is already a ``Generator`` or ``RandomState`` instance then\n",
      "        that instance is used.\n",
      "\n",
      "        Pseudorandom number generator state used to generate permutations\n",
      "        (used only when `permutations` is not None).\n",
      "\n",
      "        .. versionadded:: 1.7.0\n",
      "    alternative : {'two-sided', 'less', 'greater'}, optional\n",
      "        Defines the alternative hypothesis.\n",
      "        The following options are available (default is 'two-sided'):\n",
      "\n",
      "        * 'two-sided': the means of the distributions underlying the samples\n",
      "          are unequal.\n",
      "        * 'less': the mean of the distribution underlying the first sample\n",
      "          is less than the mean of the distribution underlying the second\n",
      "          sample.\n",
      "        * 'greater': the mean of the distribution underlying the first\n",
      "          sample is greater than the mean of the distribution underlying\n",
      "          the second sample.\n",
      "\n",
      "        .. versionadded:: 1.6.0\n",
      "    trim : float, optional\n",
      "        If nonzero, performs a trimmed (Yuen's) t-test.\n",
      "        Defines the fraction of elements to be trimmed from each end of the\n",
      "        input samples. If 0 (default), no elements will be trimmed from either\n",
      "        side. The number of trimmed elements from each tail is the floor of the\n",
      "        trim times the number of elements. Valid range is [0, .5).\n",
      "\n",
      "        .. versionadded:: 1.7\n",
      "    keepdims : bool, default: False\n",
      "        If this is set to True, the axes which are reduced are left\n",
      "        in the result as dimensions with size one. With this option,\n",
      "        the result will broadcast correctly against the input array.\n",
      "\n",
      "    Returns\n",
      "    -------\n",
      "    result : `~scipy.stats._result_classes.TtestResult`\n",
      "        An object with the following attributes:\n",
      "\n",
      "        statistic : float or ndarray\n",
      "            The t-statistic.\n",
      "        pvalue : float or ndarray\n",
      "            The p-value associated with the given alternative.\n",
      "        df : float or ndarray\n",
      "            The number of degrees of freedom used in calculation of the\n",
      "            t-statistic. This is always NaN for a permutation t-test.\n",
      "\n",
      "            .. versionadded:: 1.11.0\n",
      "\n",
      "        The object also has the following method:\n",
      "\n",
      "        confidence_interval(confidence_level=0.95)\n",
      "            Computes a confidence interval around the difference in\n",
      "            population means for the given confidence level.\n",
      "            The confidence interval is returned in a ``namedtuple`` with\n",
      "            fields ``low`` and ``high``.\n",
      "            When a permutation t-test is performed, the confidence interval\n",
      "            is not computed, and fields ``low`` and ``high`` contain NaN.\n",
      "\n",
      "            .. versionadded:: 1.11.0\n",
      "\n",
      "    Notes\n",
      "    -----\n",
      "    Suppose we observe two independent samples, e.g. flower petal lengths, and\n",
      "    we are considering whether the two samples were drawn from the same\n",
      "    population (e.g. the same species of flower or two species with similar\n",
      "    petal characteristics) or two different populations.\n",
      "\n",
      "    The t-test quantifies the difference between the arithmetic means\n",
      "    of the two samples. The p-value quantifies the probability of observing\n",
      "    as or more extreme values assuming the null hypothesis, that the\n",
      "    samples are drawn from populations with the same population means, is true.\n",
      "    A p-value larger than a chosen threshold (e.g. 5% or 1%) indicates that\n",
      "    our observation is not so unlikely to have occurred by chance. Therefore,\n",
      "    we do not reject the null hypothesis of equal population means.\n",
      "    If the p-value is smaller than our threshold, then we have evidence\n",
      "    against the null hypothesis of equal population means.\n",
      "\n",
      "    By default, the p-value is determined by comparing the t-statistic of the\n",
      "    observed data against a theoretical t-distribution.\n",
      "    When ``1 < permutations < binom(n, k)``, where\n",
      "\n",
      "    * ``k`` is the number of observations in `a`,\n",
      "    * ``n`` is the total number of observations in `a` and `b`, and\n",
      "    * ``binom(n, k)`` is the binomial coefficient (``n`` choose ``k``),\n",
      "\n",
      "    the data are pooled (concatenated), randomly assigned to either group `a`\n",
      "    or `b`, and the t-statistic is calculated. This process is performed\n",
      "    repeatedly (`permutation` times), generating a distribution of the\n",
      "    t-statistic under the null hypothesis, and the t-statistic of the observed\n",
      "    data is compared to this distribution to determine the p-value.\n",
      "    Specifically, the p-value reported is the \"achieved significance level\"\n",
      "    (ASL) as defined in 4.4 of [3]_. Note that there are other ways of\n",
      "    estimating p-values using randomized permutation tests; for other\n",
      "    options, see the more general `permutation_test`.\n",
      "\n",
      "    When ``permutations >= binom(n, k)``, an exact test is performed: the data\n",
      "    are partitioned between the groups in each distinct way exactly once.\n",
      "\n",
      "    The permutation test can be computationally expensive and not necessarily\n",
      "    more accurate than the analytical test, but it does not make strong\n",
      "    assumptions about the shape of the underlying distribution.\n",
      "\n",
      "    Use of trimming is commonly referred to as the trimmed t-test. At times\n",
      "    called Yuen's t-test, this is an extension of Welch's t-test, with the\n",
      "    difference being the use of winsorized means in calculation of the variance\n",
      "    and the trimmed sample size in calculation of the statistic. Trimming is\n",
      "    recommended if the underlying distribution is long-tailed or contaminated\n",
      "    with outliers [4]_.\n",
      "\n",
      "    The statistic is calculated as ``(np.mean(a) - np.mean(b))/se``, where\n",
      "    ``se`` is the standard error. Therefore, the statistic will be positive\n",
      "    when the sample mean of `a` is greater than the sample mean of `b` and\n",
      "    negative when the sample mean of `a` is less than the sample mean of\n",
      "    `b`.\n",
      "\n",
      "    Beginning in SciPy 1.9, ``np.matrix`` inputs (not recommended for new\n",
      "    code) are converted to ``np.ndarray`` before the calculation is performed. In\n",
      "    this case, the output will be a scalar or ``np.ndarray`` of appropriate shape\n",
      "    rather than a 2D ``np.matrix``. Similarly, while masked elements of masked\n",
      "    arrays are ignored, the output will be a scalar or ``np.ndarray`` rather than a\n",
      "    masked array with ``mask=False``.\n",
      "\n",
      "    References\n",
      "    ----------\n",
      "    .. [1] https://en.wikipedia.org/wiki/T-test#Independent_two-sample_t-test\n",
      "\n",
      "    .. [2] https://en.wikipedia.org/wiki/Welch%27s_t-test\n",
      "\n",
      "    .. [3] B. Efron and T. Hastie. Computer Age Statistical Inference. (2016).\n",
      "\n",
      "    .. [4] Yuen, Karen K. \"The Two-Sample Trimmed t for Unequal Population\n",
      "           Variances.\" Biometrika, vol. 61, no. 1, 1974, pp. 165-170. JSTOR,\n",
      "           www.jstor.org/stable/2334299. Accessed 30 Mar. 2021.\n",
      "\n",
      "    .. [5] Yuen, Karen K., and W. J. Dixon. \"The Approximate Behaviour and\n",
      "           Performance of the Two-Sample Trimmed t.\" Biometrika, vol. 60,\n",
      "           no. 2, 1973, pp. 369-374. JSTOR, www.jstor.org/stable/2334550.\n",
      "           Accessed 30 Mar. 2021.\n",
      "\n",
      "    Examples\n",
      "    --------\n",
      "    >>> import numpy as np\n",
      "    >>> from scipy import stats\n",
      "    >>> rng = np.random.default_rng()\n",
      "\n",
      "    Test with sample with identical means:\n",
      "\n",
      "    >>> rvs1 = stats.norm.rvs(loc=5, scale=10, size=500, random_state=rng)\n",
      "    >>> rvs2 = stats.norm.rvs(loc=5, scale=10, size=500, random_state=rng)\n",
      "    >>> stats.ttest_ind(rvs1, rvs2)\n",
      "    Ttest_indResult(statistic=-0.4390847099199348, pvalue=0.6606952038870015)\n",
      "    >>> stats.ttest_ind(rvs1, rvs2, equal_var=False)\n",
      "    Ttest_indResult(statistic=-0.4390847099199348, pvalue=0.6606952553131064)\n",
      "\n",
      "    `ttest_ind` underestimates p for unequal variances:\n",
      "\n",
      "    >>> rvs3 = stats.norm.rvs(loc=5, scale=20, size=500, random_state=rng)\n",
      "    >>> stats.ttest_ind(rvs1, rvs3)\n",
      "    Ttest_indResult(statistic=-1.6370984482905417, pvalue=0.1019251574705033)\n",
      "    >>> stats.ttest_ind(rvs1, rvs3, equal_var=False)\n",
      "    Ttest_indResult(statistic=-1.637098448290542, pvalue=0.10202110497954867)\n",
      "\n",
      "    When ``n1 != n2``, the equal variance t-statistic is no longer equal to the\n",
      "    unequal variance t-statistic:\n",
      "\n",
      "    >>> rvs4 = stats.norm.rvs(loc=5, scale=20, size=100, random_state=rng)\n",
      "    >>> stats.ttest_ind(rvs1, rvs4)\n",
      "    Ttest_indResult(statistic=-1.9481646859513422, pvalue=0.05186270935842703)\n",
      "    >>> stats.ttest_ind(rvs1, rvs4, equal_var=False)\n",
      "    Ttest_indResult(statistic=-1.3146566100751664, pvalue=0.1913495266513811)\n",
      "\n",
      "    T-test with different means, variance, and n:\n",
      "\n",
      "    >>> rvs5 = stats.norm.rvs(loc=8, scale=20, size=100, random_state=rng)\n",
      "    >>> stats.ttest_ind(rvs1, rvs5)\n",
      "    Ttest_indResult(statistic=-2.8415950600298774, pvalue=0.0046418707568707885)\n",
      "    >>> stats.ttest_ind(rvs1, rvs5, equal_var=False)\n",
      "    Ttest_indResult(statistic=-1.8686598649188084, pvalue=0.06434714193919686)\n",
      "\n",
      "    When performing a permutation test, more permutations typically yields\n",
      "    more accurate results. Use a ``np.random.Generator`` to ensure\n",
      "    reproducibility:\n",
      "\n",
      "    >>> stats.ttest_ind(rvs1, rvs5, permutations=10000,\n",
      "    ...                 random_state=rng)\n",
      "    Ttest_indResult(statistic=-2.8415950600298774, pvalue=0.0052994700529947)\n",
      "\n",
      "    Take these two samples, one of which has an extreme tail.\n",
      "\n",
      "    >>> a = (56, 128.6, 12, 123.8, 64.34, 78, 763.3)\n",
      "    >>> b = (1.1, 2.9, 4.2)\n",
      "\n",
      "    Use the `trim` keyword to perform a trimmed (Yuen) t-test. For example,\n",
      "    using 20% trimming, ``trim=.2``, the test will reduce the impact of one\n",
      "    (``np.floor(trim*len(a))``) element from each tail of sample `a`. It will\n",
      "    have no effect on sample `b` because ``np.floor(trim*len(b))`` is 0.\n",
      "\n",
      "    >>> stats.ttest_ind(a, b, trim=.2)\n",
      "    Ttest_indResult(statistic=3.4463884028073513,\n",
      "                    pvalue=0.01369338726499547)\n",
      "\n"
     ]
    }
   ],
   "source": [
    "help(stats.ttest_ind)"
   ]
  },
  {
   "cell_type": "markdown",
   "id": "1e3f3b4e",
   "metadata": {
    "id": "1e3f3b4e"
   },
   "source": [
    "### [실습3] t-검정 | 대응 이표본 검증     \n",
    "두 집단이 서로 같은 모집단에서 추출된 대응된 두 집단의 평균의 차이를 검정하는 것"
   ]
  },
  {
   "cell_type": "code",
   "execution_count": 15,
   "id": "3970287a",
   "metadata": {
    "id": "3970287a",
    "outputId": "dc5f38a3-1d0b-4358-f404-f29ee04f4bcc"
   },
   "outputs": [
    {
     "name": "stdout",
     "output_type": "stream",
     "text": [
      "[68.1217268183162, 56.94121793174962, 57.359141238682724, 54.63515688921915, 64.3270381466234, 48.492306515598585, 68.7240588210824, 56.19396549552449, 61.59519548028549, 58.75314812261295, 67.31053968522487, 49.69929645251173, 58.38791397993246, 58.07972822665792, 65.66884721167719, 54.500543663429845, 59.13785896224782, 55.61070791039314, 60.21106873357797, 62.914076068579114] \n",
      " [65.94098797171107, 57.67544499710449, 57.819839215935254, 54.63788246116392, 64.84275566541605, 47.34427263203588, 67.86790793112998, 54.58033393455883, 60.64923115285458, 58.78881770728494, 65.70631311881824, 48.80793606499072, 57.001583230054315, 56.517144665313666, 64.13055954741337, 53.94173367626836, 57.224973536332286, 55.315321289307555, 61.60772730564428, 63.218635763189475]\n"
     ]
    }
   ],
   "source": [
    "# 데이터 준비\n",
    "\n",
    "np.random.seed(1)   # to get consistent result\n",
    "\n",
    "# before treatment : mean 60, standard deviation 5\n",
    "beforeWeights = [60 + np.random.normal(0, 5) for _ in range(20)]\n",
    "# 다이어트약 임상 시험 대상자들의 몸무게\n",
    "\n",
    "# after treatment : mean 0.99-fold decrease, standard deviation 0.02\n",
    "afterWeights = [w * np.random.normal(0.99, 0.02) for w in beforeWeights]\n",
    "# 다이어트약 복용 후, 임상 시험 대상자들의 몸무게\n",
    "\n",
    "print( beforeWeights, '\\n' ,afterWeights )"
   ]
  },
  {
   "cell_type": "code",
   "execution_count": 16,
   "id": "e9682d1b",
   "metadata": {
    "id": "e9682d1b"
   },
   "outputs": [
    {
     "name": "stdout",
     "output_type": "stream",
     "text": [
      "TtestResult(statistic=0.36758757315272717, pvalue=0.7152202690623072, df=38.0)\n"
     ]
    }
   ],
   "source": [
    "# 귀무가설: beforeWeights와 afterWeights의 평균 차이가 0이다.\n",
    "# 대립가설: beforeWeights와 afterWeights의 평균 차이가 0이 아니다.\n",
    "\n",
    "#  대응 이표본  t-test  (default : 양측검정)\n",
    "tTestResult = stats.ttest_rel(beforeWeights, afterWeights)\n",
    "print(tTestResult)"
   ]
  },
  {
   "cell_type": "code",
   "execution_count": null,
   "id": "248a0d19",
   "metadata": {
    "id": "248a0d19"
   },
   "outputs": [],
   "source": [
    "# 해석\n",
    "# p-value < 0.05에서 귀무 가설을 기각한다.\n",
    "# 즉, 다이어트 약 복용 전/후에 체중 차이는 유의미하다고 할 수 있다"
   ]
  },
  {
   "cell_type": "code",
   "execution_count": null,
   "id": "1e4f389a",
   "metadata": {
    "id": "1e4f389a"
   },
   "outputs": [],
   "source": [
    "## 참고\n",
    "## 이 예제는 단측검정이 더 적합하다.\n",
    "\n",
    "# 귀무가설: beforeWeights와 afterWeights의 차이가 0보다 작다\n",
    "# 대립가설: beforeWeights와 afterWeights의 차이가 0보다 크다\n",
    "\n",
    "#  대응 이표본  t-test  (단측검정)\n",
    "tTestResult = stats.ttest_rel(beforeWeights, afterWeights, alternative=\"greater\")\n",
    "print(tTestResult)"
   ]
  },
  {
   "cell_type": "markdown",
   "id": "36d40b95",
   "metadata": {
    "id": "36d40b95"
   },
   "source": [
    "### [실습4] F-검정 | 일원분산분석(One-way ANOVA)"
   ]
  },
  {
   "cell_type": "code",
   "execution_count": 19,
   "id": "d8c0accd",
   "metadata": {
    "id": "d8c0accd"
   },
   "outputs": [],
   "source": [
    "import pandas as pd\n",
    "import matplotlib.pyplot as plt\n",
    "import numpy as np"
   ]
  },
  {
   "cell_type": "code",
   "execution_count": null,
   "id": "3de0a4ef",
   "metadata": {
    "id": "3de0a4ef"
   },
   "outputs": [],
   "source": [
    "# 분산분석에는 여러 종류가 있지만,\n",
    "# 여기서는 일원분산분석(One-way ANOVA)과 이원분산분석(Two-way ANOVA)를 알아보겠다.\n",
    "# 1) 일원분산분석(One-way ANOVA)\n",
    "#  종속변인은 1개이며, 독립변인의 집단도 1개인 경우다.\n",
    "#  한 가지 변수의 변화가 결과 변수에 미치는 영향을 보기 위해 사용된다.\n",
    "# 파이썬에서 One-way ANOVA 분석은 scipy.stats이나 statsmodel 라이브러리를 이용해서 할 수 있다.\n",
    "# statsmodel 라이브러리가 좀 더 많고 규격화된 정보를 제공한다.\n",
    "\n",
    "# 예제) 22명의 심장 우회 수술을 받은 환자를 다음의 3가지 그룹으로 나누었다.\n",
    "#  Group I  : 50% 아산화 질소(nitrous oxide)와 50%의 산소(oxygen) 혼합물을 24시간 동안 흡입한 환자\n",
    "#  Group II : 50% 아산화 질소와 50% 산소 혼합물을 수술 받는 동안만 흡입한 환자\n",
    "#  Group III : 아산화 질소 없이 오직 35-50%의 산소만 24시간 동안 처리한 환자\n",
    "#  그런 다음 적혈구의 엽산 수치를 24시간 이후에 측정하였다."
   ]
  },
  {
   "cell_type": "code",
   "execution_count": 20,
   "id": "53f77f38",
   "metadata": {
    "id": "53f77f38",
    "outputId": "52c525fd-d8b3-4ed7-8bec-ae9ad7302460"
   },
   "outputs": [
    {
     "name": "stdout",
     "output_type": "stream",
     "text": [
      "[array([243., 251., 275., 291., 347., 354., 380., 392.]), array([206., 210., 226., 249., 255., 273., 285., 295., 309.]), array([241., 258., 270., 293., 328.])]\n"
     ]
    },
    {
     "data": {
      "image/png": "[encoded data removed]",
      "text/plain": [
       "<Figure size 640x480 with 1 Axes>"
      ]
     },
     "metadata": {},
     "output_type": "display_data"
    }
   ],
   "source": [
    "#  데이터 준비\n",
    "import urllib  # url로 데이터 얻어오기\n",
    "url = 'https://raw.githubusercontent.com/thomas-haslwanter/statsintro_python/master/ipynb/Data/data_altman/altman_910.txt'\n",
    "data = np.genfromtxt(urllib.request.urlopen(url), delimiter=',')\n",
    "\n",
    "# Sort them into groups, according to column 1\n",
    "group1 = data[data[: ,1 ]==1 ,0]\n",
    "group2 = data[data[: ,1 ]==2 ,0]\n",
    "group3 = data[data[: ,1 ]==3 ,0]\n",
    "\n",
    "# matplotlib plotting\n",
    "plot_data = [group1, group2, group3]\n",
    "print(plot_data)\n",
    "ax = plt.boxplot(plot_data)\n",
    "plt.show()"
   ]
  },
  {
   "cell_type": "code",
   "execution_count": null,
   "id": "6c0a8ace",
   "metadata": {
    "id": "6c0a8ace"
   },
   "outputs": [],
   "source": [
    "# Boxplot에서 볼 수 있듯이, 평균값의 차이가 실제로 의미가 있는 차이인지,\n",
    "# 분산이 커서 그런 것인지 애매한 상황이다.\n",
    "# 이런 상황에서 분산분석을 통해 통계적 유의성을 알아 볼 수 있다.\n",
    "# Scipy.stats으로 일원분산분석 : 아래와 같은 코드로 분산분석을 할 수 있다.\n"
   ]
  },
  {
   "cell_type": "code",
   "execution_count": 32,
   "id": "0b959bfa-d81e-4417-bbce-01f08c3947dc",
   "metadata": {},
   "outputs": [
    {
     "name": "stdout",
     "output_type": "stream",
     "text": [
      "Help on function f_oneway in module scipy.stats._stats_py:\n",
      "\n",
      "f_oneway(*samples, axis=0, nan_policy='propagate', keepdims=False)\n",
      "    Perform one-way ANOVA.\n",
      "\n",
      "    The one-way ANOVA tests the null hypothesis that two or more groups have\n",
      "    the same population mean.  The test is applied to samples from two or\n",
      "    more groups, possibly with differing sizes.\n",
      "\n",
      "    Parameters\n",
      "    ----------\n",
      "    sample1, sample2, ... : array_like\n",
      "        The sample measurements for each group.  There must be at least\n",
      "        two arguments.  If the arrays are multidimensional, then all the\n",
      "        dimensions of the array must be the same except for `axis`.\n",
      "    axis : int or None, default: 0\n",
      "        If an int, the axis of the input along which to compute the statistic.\n",
      "        The statistic of each axis-slice (e.g. row) of the input will appear in a\n",
      "        corresponding element of the output.\n",
      "        If ``None``, the input will be raveled before computing the statistic.\n",
      "    nan_policy : {'propagate', 'omit', 'raise'}\n",
      "        Defines how to handle input NaNs.\n",
      "\n",
      "        - ``propagate``: if a NaN is present in the axis slice (e.g. row) along\n",
      "          which the  statistic is computed, the corresponding entry of the output\n",
      "          will be NaN.\n",
      "        - ``omit``: NaNs will be omitted when performing the calculation.\n",
      "          If insufficient data remains in the axis slice along which the\n",
      "          statistic is computed, the corresponding entry of the output will be\n",
      "          NaN.\n",
      "        - ``raise``: if a NaN is present, a ``ValueError`` will be raised.\n",
      "    keepdims : bool, default: False\n",
      "        If this is set to True, the axes which are reduced are left\n",
      "        in the result as dimensions with size one. With this option,\n",
      "        the result will broadcast correctly against the input array.\n",
      "\n",
      "    Returns\n",
      "    -------\n",
      "    statistic : float\n",
      "        The computed F statistic of the test.\n",
      "    pvalue : float\n",
      "        The associated p-value from the F distribution.\n",
      "\n",
      "    Warns\n",
      "    -----\n",
      "    `~scipy.stats.ConstantInputWarning`\n",
      "        Raised if all values within each of the input arrays are identical.\n",
      "        In this case the F statistic is either infinite or isn't defined,\n",
      "        so ``np.inf`` or ``np.nan`` is returned.\n",
      "    `~scipy.stats.DegenerateDataWarning`\n",
      "        Raised if the length of any input array is 0, or if all the input\n",
      "        arrays have length 1.  ``np.nan`` is returned for the F statistic\n",
      "        and the p-value in these cases.\n",
      "\n",
      "    Notes\n",
      "    -----\n",
      "    The ANOVA test has important assumptions that must be satisfied in order\n",
      "    for the associated p-value to be valid.\n",
      "\n",
      "    1. The samples are independent.\n",
      "    2. Each sample is from a normally distributed population.\n",
      "    3. The population standard deviations of the groups are all equal.  This\n",
      "       property is known as homoscedasticity.\n",
      "\n",
      "    If these assumptions are not true for a given set of data, it may still\n",
      "    be possible to use the Kruskal-Wallis H-test (`scipy.stats.kruskal`) or\n",
      "    the Alexander-Govern test (`scipy.stats.alexandergovern`) although with\n",
      "    some loss of power.\n",
      "\n",
      "    The length of each group must be at least one, and there must be at\n",
      "    least one group with length greater than one.  If these conditions\n",
      "    are not satisfied, a warning is generated and (``np.nan``, ``np.nan``)\n",
      "    is returned.\n",
      "\n",
      "    If all values in each group are identical, and there exist at least two\n",
      "    groups with different values, the function generates a warning and\n",
      "    returns (``np.inf``, 0).\n",
      "\n",
      "    If all values in all groups are the same, function generates a warning\n",
      "    and returns (``np.nan``, ``np.nan``).\n",
      "\n",
      "    The algorithm is from Heiman [2]_, pp.394-7.\n",
      "\n",
      "    Beginning in SciPy 1.9, ``np.matrix`` inputs (not recommended for new\n",
      "    code) are converted to ``np.ndarray`` before the calculation is performed. In\n",
      "    this case, the output will be a scalar or ``np.ndarray`` of appropriate shape\n",
      "    rather than a 2D ``np.matrix``. Similarly, while masked elements of masked\n",
      "    arrays are ignored, the output will be a scalar or ``np.ndarray`` rather than a\n",
      "    masked array with ``mask=False``.\n",
      "\n",
      "    References\n",
      "    ----------\n",
      "    .. [1] R. Lowry, \"Concepts and Applications of Inferential Statistics\",\n",
      "           Chapter 14, 2014, http://vassarstats.net/textbook/\n",
      "\n",
      "    .. [2] G.W. Heiman, \"Understanding research methods and statistics: An\n",
      "           integrated introduction for psychology\", Houghton, Mifflin and\n",
      "           Company, 2001.\n",
      "\n",
      "    .. [3] G.H. McDonald, \"Handbook of Biological Statistics\", One-way ANOVA.\n",
      "           http://www.biostathandbook.com/onewayanova.html\n",
      "\n",
      "    Examples\n",
      "    --------\n",
      "    >>> import numpy as np\n",
      "    >>> from scipy.stats import f_oneway\n",
      "\n",
      "    Here are some data [3]_ on a shell measurement (the length of the anterior\n",
      "    adductor muscle scar, standardized by dividing by length) in the mussel\n",
      "    Mytilus trossulus from five locations: Tillamook, Oregon; Newport, Oregon;\n",
      "    Petersburg, Alaska; Magadan, Russia; and Tvarminne, Finland, taken from a\n",
      "    much larger data set used in McDonald et al. (1991).\n",
      "\n",
      "    >>> tillamook = [0.0571, 0.0813, 0.0831, 0.0976, 0.0817, 0.0859, 0.0735,\n",
      "    ...              0.0659, 0.0923, 0.0836]\n",
      "    >>> newport = [0.0873, 0.0662, 0.0672, 0.0819, 0.0749, 0.0649, 0.0835,\n",
      "    ...            0.0725]\n",
      "    >>> petersburg = [0.0974, 0.1352, 0.0817, 0.1016, 0.0968, 0.1064, 0.105]\n",
      "    >>> magadan = [0.1033, 0.0915, 0.0781, 0.0685, 0.0677, 0.0697, 0.0764,\n",
      "    ...            0.0689]\n",
      "    >>> tvarminne = [0.0703, 0.1026, 0.0956, 0.0973, 0.1039, 0.1045]\n",
      "    >>> f_oneway(tillamook, newport, petersburg, magadan, tvarminne)\n",
      "    F_onewayResult(statistic=7.121019471642447, pvalue=0.0002812242314534544)\n",
      "\n",
      "    `f_oneway` accepts multidimensional input arrays.  When the inputs\n",
      "    are multidimensional and `axis` is not given, the test is performed\n",
      "    along the first axis of the input arrays.  For the following data, the\n",
      "    test is performed three times, once for each column.\n",
      "\n",
      "    >>> a = np.array([[9.87, 9.03, 6.81],\n",
      "    ...               [7.18, 8.35, 7.00],\n",
      "    ...               [8.39, 7.58, 7.68],\n",
      "    ...               [7.45, 6.33, 9.35],\n",
      "    ...               [6.41, 7.10, 9.33],\n",
      "    ...               [8.00, 8.24, 8.44]])\n",
      "    >>> b = np.array([[6.35, 7.30, 7.16],\n",
      "    ...               [6.65, 6.68, 7.63],\n",
      "    ...               [5.72, 7.73, 6.72],\n",
      "    ...               [7.01, 9.19, 7.41],\n",
      "    ...               [7.75, 7.87, 8.30],\n",
      "    ...               [6.90, 7.97, 6.97]])\n",
      "    >>> c = np.array([[3.31, 8.77, 1.01],\n",
      "    ...               [8.25, 3.24, 3.62],\n",
      "    ...               [6.32, 8.81, 5.19],\n",
      "    ...               [7.48, 8.83, 8.91],\n",
      "    ...               [8.59, 6.01, 6.07],\n",
      "    ...               [3.07, 9.72, 7.48]])\n",
      "    >>> F, p = f_oneway(a, b, c)\n",
      "    >>> F\n",
      "    array([1.75676344, 0.03701228, 3.76439349])\n",
      "    >>> p\n",
      "    array([0.20630784, 0.96375203, 0.04733157])\n",
      "\n"
     ]
    }
   ],
   "source": [
    "help(stats.f_oneway)"
   ]
  },
  {
   "cell_type": "code",
   "execution_count": 22,
   "id": "086feb66",
   "metadata": {
    "id": "086feb66"
   },
   "outputs": [
    {
     "name": "stdout",
     "output_type": "stream",
     "text": [
      "Altman 910 데이터의 일원분산분석 결과 : F=3.7, p=0.04359\n",
      "귀무가설 기각. 대립가설 채택\n",
      "p-value 값이 유의수준 보다 작음으로 인해 세 그룹의 적혈구의 엽산 수치가 통계적으로 유의미하게 차이가 남.\n"
     ]
    }
   ],
   "source": [
    "# 일원 분산 분석\n",
    "\n",
    "# 귀무가설 : 세 그룹의 적혈구의 엽산 수치의 차이가 없다.\n",
    "# 대립가설 : 세 그룹의 적혈구의 엽산 수치의 차이가 있다.\n",
    "\n",
    "import scipy.stats as stats\n",
    "f_statistic, pval = stats.f_oneway(group1, group2, group3)\n",
    "print('Altman 910 데이터의 일원분산분석 결과 : F={0:.1f}, p={1:.5f}'.format(f_statistic, pval))  # F=3.7, p=0.04359\n",
    "\n",
    "# 해석\n",
    "if pval < 0.05:\n",
    "    print(\"귀무가설 기각. 대립가설 채택\")\n",
    "    print('p-value 값이 유의수준 보다 작음으로 인해 세 그룹의 적혈구의 엽산 수치가 통계적으로 유의미하게 차이가 남.')"
   ]
  },
  {
   "cell_type": "code",
   "execution_count": 26,
   "id": "861da349",
   "metadata": {
    "id": "861da349"
   },
   "outputs": [
    {
     "name": "stdout",
     "output_type": "stream",
     "text": [
      "                df        sum_sq      mean_sq         F    PR(>F)\n",
      "C(treatment)   2.0  15515.766414  7757.883207  3.711336  0.043589\n",
      "Residual      19.0  39716.097222  2090.320906       NaN       NaN\n"
     ]
    }
   ],
   "source": [
    "# 일원 분산 분석\n",
    "\n",
    "# 이번에는 pandas와 statsmodels 라이브러리를 사용해서 분산분석을 수행.\n",
    "# Statsmodel을 사용한 일원분산분석\n",
    "import statsmodels.formula.api as smf\n",
    "import statsmodels.api as sm\n",
    "\n",
    "df = pd.DataFrame(data, columns=['value', 'treatment'])\n",
    "\n",
    "# the \"C\" indicates categorical data, C는 범주형 변수\n",
    "model = smf.ols('value ~ C(treatment)', df).fit()\n",
    "print(sm.stats.anova_lm(model))\n",
    "# statsmodels 을 사용하면 간편하게 결과를 얻을 수 있다."
   ]
  },
  {
   "cell_type": "code",
   "execution_count": null,
   "id": "8190872b",
   "metadata": {
    "id": "8190872b"
   },
   "outputs": [],
   "source": [
    "## 문제 :\n",
    "## iris.csv 파일을 읽고, 붓꽃의 품종(Name)별로 SepalWidth 가\n",
    "## 통계학적으로 유의하게 차이가 나는지 일분분산분석하세요."
   ]
  },
  {
   "cell_type": "code",
   "execution_count": null,
   "id": "748c8491",
   "metadata": {
    "id": "748c8491"
   },
   "outputs": [],
   "source": [
    " # 답\n",
    "\n"
   ]
  },
  {
   "cell_type": "markdown",
   "id": "f87bd3c3",
   "metadata": {
    "id": "f87bd3c3"
   },
   "source": [
    "### [실습5] f-검정 | 이원분산분석(One-way ANOVA)"
   ]
  },
  {
   "cell_type": "code",
   "execution_count": null,
   "id": "78f6a1b4",
   "metadata": {
    "id": "78f6a1b4"
   },
   "outputs": [],
   "source": [
    "# 2) 이원분산분석(two-way ANOVA)  ---------------------------\n",
    "# 독립변인의 수가 두 개 이상일 때 집단 간 차이가 유의한지를 검증하는 데 사용한다.\n",
    "# 상호작용효과(Interaction effect), 한 변수의 변화가 결과에 미치는 영향이\n",
    "# 다른 변수의 수준에 따라 달라지는지를 확인하기 위해 사용된다.\n",
    "# 예제 데이터 설명\n",
    "# 태아의 머리 둘레 측정 데이터다. 4명의 관측자가 3명의 태아를 대상으로 측정함.\n",
    "# 이를 통해서 초음파로 태아의 머리 둘레측정 데이터가 재현성이 있는지를 조사함."
   ]
  },
  {
   "cell_type": "code",
   "execution_count": 27,
   "id": "460e3744",
   "metadata": {
    "id": "460e3744",
    "outputId": "fed6b0ec-252b-44d8-d613-6ed21059d96a"
   },
   "outputs": [
    {
     "name": "stdout",
     "output_type": "stream",
     "text": [
      "    head_size  fetus  observer\n",
      "31       12.7    3.0       3.0\n",
      "32       12.5    3.0       3.0\n",
      "33       13.0    3.0       4.0\n",
      "34       12.9    3.0       4.0\n",
      "35       13.8    3.0       4.0\n"
     ]
    },
    {
     "data": {
      "image/png": "[encoded data removed]",
      "text/plain": [
       "<Figure size 640x480 with 1 Axes>"
      ]
     },
     "metadata": {},
     "output_type": "display_data"
    }
   ],
   "source": [
    "# 데이터 준비\n",
    "\n",
    "url_base = 'https://raw.githubusercontent.com/thomas-haslwanter/statsintro_python/master/ipynb/Data/data_altman/'\n",
    "url = url_base + 'altman_12_6.txt'\n",
    "data = np.genfromtxt(urllib.request.urlopen(url), delimiter=',')\n",
    "\n",
    "# Bring them in dataframe-format\n",
    "df = pd.DataFrame(data, columns=['head_size', 'fetus', 'observer'])\n",
    "print(df.tail())\n",
    "\n",
    "#     head_size  fetus  observer\n",
    "# 31       12.7    3.0       3.0\n",
    "# 32       12.5    3.0       3.0\n",
    "# 33       13.0    3.0       4.0\n",
    "# 34       12.9    3.0       4.0\n",
    "# 35       13.8    3.0       4.0\n",
    "\n",
    "# 태아별 머리 둘레 plot 만들기\n",
    "df.boxplot(column = 'head_size', by='fetus' , grid = False)\n",
    "plt.show()"
   ]
  },
  {
   "cell_type": "code",
   "execution_count": 31,
   "id": "7c46ee7c",
   "metadata": {
    "id": "7c46ee7c"
   },
   "outputs": [
    {
     "name": "stdout",
     "output_type": "stream",
     "text": [
      "                        df      sum_sq     mean_sq            F        PR(>F)\n",
      "C(fetus)               2.0  324.008889  162.004444  2113.101449  1.051039e-27\n",
      "C(observer)            3.0    1.198611    0.399537     5.211353  6.497055e-03\n",
      "C(fetus):C(observer)   6.0    0.562222    0.093704     1.222222  3.295509e-01\n",
      "Residual              24.0    1.840000    0.076667          NaN           NaN\n"
     ]
    }
   ],
   "source": [
    "# 태아(fetus) 3명의 머리둘레는 차이가 있어 보이나\n",
    "# 이것이 관측자와 상호작용이 있는 것인지 분석을 통해 알아 보겠다.\n",
    "# 분산분석으로 상관관계 확인: statmodels 라이브러리를 사용해 계산\n",
    "\n",
    "#### 일원분산분석 C(fetus)\n",
    "# 귀무가설 : 태아별  머리둘레의 크기는 차이가 없다.\n",
    "# 대립가설 : 태아별  머리둘레의 크기는 차이가 있다.\n",
    "\n",
    "#### 일원분산분석 C(observer)\n",
    "# 귀무가설 : 관찰자별 태아측정 머리둘레의 크기는 차이가 없다.\n",
    "# 대립가설 :  관찰자별 태아측정  머리둘레의 크기는 차이가 있다.\n",
    "\n",
    "#### 이원분산분석 C(fetus):C(observer)\n",
    "# 귀무가설 : 태아별 관측자별 그룹의 태아 머리둘레의 크기는 차이가 없다.\n",
    "# 대립가설 : 태아별 관측자별 그룹의 태아 머리둘레의 크기는 차이가 있다.\n",
    "\n",
    "formula = 'head_size ~ C(fetus) + C(observer) + C(fetus):C(observer)'\n",
    "lm = smf.ols(formula, df).fit()  # 선형회귀를 이용\n",
    "print(sm.stats.anova_lm(lm))"
   ]
  },
  {
   "cell_type": "code",
   "execution_count": null,
   "id": "35847a0b",
   "metadata": {
    "id": "35847a0b"
   },
   "outputs": [],
   "source": [
    "# 해설\n",
    "\n",
    "#### 일원분산분석      C(fetus) p value=.051039e-27   귀무가설 기각\n",
    "# 귀무가설 : 태아별  머리둘레의 크기는 차이가 없다.\n",
    "# 대립가설 : 태아별  머리둘레의 크기는 차이가 있다.\n",
    "\n",
    "#### 일원분산분석   C(observer) p value=.6.497055e-03  귀무가설 기각\n",
    "# 귀무가설 : 관찰자별 태아측정 머리둘레의 크기는 차이가 없다.\n",
    "# 대립가설 :  관찰자별 태아측정  머리둘레의 크기는 차이가 있다.\n",
    "\n",
    "####이원분산분석   C(fetus):C(observer) p value= 3.295509e-01  귀무가설 채택\n",
    "# 귀무가설 : 태아별 관측자별 그룹의 태아 머리둘레의 크기는 차이가 없다.\n",
    "# 대립가설 : 태아별 관측자별 그룹의 태아 머리둘레의 크기는 차이가 있다\n",
    "\n",
    "        # p-value 가 0.05 보다 크다. 따라서 귀무가설을 기각할 수 없고,\n",
    "        # 측정자와 태아의 머리 둘레값에는 연관성이 없다고 할 수 있다.\n",
    "        # 측정하는 사람이 달라도 머리 둘레값은 일정하다는 얘기.\n",
    "\n",
    "# 해설 : 초음파로 측정하는 태아의 머리 둘레값은 믿을 수 있다고 판단할 수 있다."
   ]
  }
 ],
 "metadata": {
  "colab": {
   "provenance": []
  },
  "kernelspec": {
   "display_name": "Python 3 (ipykernel)",
   "language": "python",
   "name": "python3"
  },
  "language_info": {
   "codemirror_mode": {
    "name": "ipython",
    "version": 3
   },
   "file_extension": ".py",
   "mimetype": "text/x-python",
   "name": "python",
   "nbconvert_exporter": "python",
   "pygments_lexer": "ipython3",
   "version": "3.12.7"
  }
 },
 "nbformat": 4,
 "nbformat_minor": 5
}
