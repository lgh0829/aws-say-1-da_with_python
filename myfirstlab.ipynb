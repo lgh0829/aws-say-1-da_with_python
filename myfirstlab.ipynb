{
 "cells": [
  {
   "cell_type": "code",
   "execution_count": 1,
   "id": "452a9fe5-1727-4434-af83-f9213ebfdbc3",
   "metadata": {
    "collapsed": true,
    "jupyter": {
     "outputs_hidden": true
    }
   },
   "outputs": [
    {
     "name": "stdout",
     "output_type": "stream",
     "text": [
      "Hello world!\n"
     ]
    }
   ],
   "source": [
    "print(\"Hello world!\")"
   ]
  },
  {
   "cell_type": "markdown",
   "id": "f47d84d6-7f4f-4f50-a803-9f67cbbcd188",
   "metadata": {},
   "source": [
    "# markdown"
   ]
  },
  {
   "cell_type": "code",
   "execution_count": null,
   "id": "ec39d003-c7c6-4817-b682-8ad4f3d41b24",
   "metadata": {},
   "outputs": [],
   "source": [
    "my"
   ]
  }
 ],
 "metadata": {
  "kernelspec": {
   "display_name": "Python 3 (ipykernel)",
   "language": "python",
   "name": "python3"
  },
  "language_info": {
   "codemirror_mode": {
    "name": "ipython",
    "version": 3
   },
   "file_extension": ".py",
   "mimetype": "text/x-python",
   "name": "python",
   "nbconvert_exporter": "python",
   "pygments_lexer": "ipython3",
   "version": "3.12.7"
  }
 },
 "nbformat": 4,
 "nbformat_minor": 5
}
