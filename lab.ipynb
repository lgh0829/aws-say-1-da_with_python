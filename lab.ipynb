{
 "cells": [
  {
   "cell_type": "markdown",
   "id": "e79392fb-e5e4-4bba-9079-a01df0ee3861",
   "metadata": {},
   "source": [
    "# lab1\n",
    "\n",
    "data = [ \"서울\",\"부산\",\"대구\",\"인천\"   ] \n",
    " \n",
    "위 리스트의 마지막에 \"천안\" 을 추가하고, 출력하세요. \n",
    "위 리스트의 2번째에 \"경기\" 을 추가하고, 출력하세요.   \n",
    "위 리스트의 첫번째 요소를 삭제하고, 출력하세요. . \n",
    "위 리스트에서 \"대구\"를 삭제하고, 출력하세요. \n",
    "위 리스트를 내림순(큰값이 먼저)으로 정렬하고, 출력하세요.  \n",
    "위 리스트를 오름차순(작은값이 먼저) 정렬하고, 출력하세요.  \n",
    "위 리스트에서 \"경기\"이라는 문자열은 몇번째 위치하는가? "
   ]
  },
  {
   "cell_type": "code",
   "execution_count": 14,
   "id": "6d9f705f-8863-4350-b9f2-a6390a01e7e7",
   "metadata": {},
   "outputs": [
    {
     "name": "stdout",
     "output_type": "stream",
     "text": [
      "['서울', '부산', '대구', '인천', '천안']\n",
      "['서울', '경기', '부산', '대구', '인천', '천안']\n",
      "['경기', '부산', '대구', '인천', '천안']\n",
      "['경기', '부산', '인천', '천안']\n",
      "['천안', '인천', '부산', '경기']\n",
      "['경기', '부산', '인천', '천안']\n",
      "0\n"
     ]
    }
   ],
   "source": [
    "data = [\"서울\",\"부산\",\"대구\",\"인천\"]\n",
    "data.append(\"천안\")\n",
    "print(data)\n",
    "\n",
    "data.insert(1, \"경기\")\n",
    "print(data)\n",
    "\n",
    "del data[0]\n",
    "print(data)\n",
    "\n",
    "data.remove(\"대구\")\n",
    "print(data)\n",
    "\n",
    "data.sort(reverse=True)\n",
    "print(data)\n",
    "\n",
    "data.sort()\n",
    "print(data)\n",
    "\n",
    "print(data.index(\"경기\"))"
   ]
  },
  {
   "cell_type": "markdown",
   "id": "4cdefc16-6a3d-4b5e-9bb2-1ba6c2fad058",
   "metadata": {},
   "source": [
    "# lab2 - 1\n",
    "\n",
    "game = {\"가위\":1,\n",
    "        \"바위\":2,\n",
    "        \"보\"  : 3 }  \n",
    "\n",
    "위와 같은 딕셔너리가 있습니다. \n",
    "사용자로 부터 \"가위, 바위,  보\" 중 하나를 입력받고, 그 값을 key로 \n",
    "딕셔너리에서 value를 조회하여 출력합니다.   "
   ]
  },
  {
   "cell_type": "code",
   "execution_count": 20,
   "id": "c490ab0e-a09e-4ad8-8566-90f6e8efa96c",
   "metadata": {},
   "outputs": [
    {
     "name": "stdin",
     "output_type": "stream",
     "text": [
      "'가위, 바위,  보' 중 하나를 입력하세요: 보\n"
     ]
    },
    {
     "name": "stdout",
     "output_type": "stream",
     "text": [
      "3\n"
     ]
    }
   ],
   "source": [
    "game = {\"가위\":1,\n",
    "        \"바위\":2,\n",
    "        \"보\"  : 3 }\n",
    "\n",
    "user = input(\"'가위, 바위,  보' 중 하나를 입력하세요:\")\n",
    "print(game[user])\n",
    "\n"
   ]
  },
  {
   "cell_type": "markdown",
   "id": "bf409bde-3cb7-410d-a5c8-724a92e95423",
   "metadata": {},
   "source": [
    "# lab2 - 2\n",
    "\n",
    "사용자로 부터 이름, 주소를 입력받고, \n",
    "user라는 딕셔너리에 저장합니다. \n",
    "예를 들어, 이름을 홍길동 입력, 주소를 서울 입력했으면 \n",
    "user = {\"name\" : \"홍길동\", \"address\" : \"서울\" } \n",
    "의 딕셔너리를 만들고, 그 정보를 출력합니다. "
   ]
  },
  {
   "cell_type": "code",
   "execution_count": 21,
   "id": "fa719fec-8110-4d08-957d-a1e50283625f",
   "metadata": {},
   "outputs": [
    {
     "name": "stdin",
     "output_type": "stream",
     "text": [
      "이름을 입력하세요: 이금희\n",
      "주소를 입력하세요: 관악구\n"
     ]
    },
    {
     "name": "stdout",
     "output_type": "stream",
     "text": [
      "{'name': '이금희', 'address': '관악구'}\n"
     ]
    }
   ],
   "source": [
    "name = input(\"이름을 입력하세요:\")\n",
    "address = input(\"주소를 입력하세요:\")\n",
    "\n",
    "user = {\"name\":name,\n",
    "        \"address\":address}\n",
    "\n",
    "print(user)"
   ]
  },
  {
   "cell_type": "markdown",
   "id": "d27c40ea-56be-40e1-aa69-472608203cc5",
   "metadata": {},
   "source": [
    "# practice 1\n",
    "\n",
    "구구단 출력 (2~9단까지 출력)"
   ]
  },
  {
   "cell_type": "code",
   "execution_count": 13,
   "id": "59b1b109-1cfa-4044-b9fe-8a4ea94e9a7d",
   "metadata": {},
   "outputs": [
    {
     "name": "stdout",
     "output_type": "stream",
     "text": [
      "[2 단]\n",
      "2 * 2 = 4\n",
      "2 * 3 = 6\n",
      "2 * 4 = 8\n",
      "2 * 5 = 10\n",
      "2 * 6 = 12\n",
      "2 * 7 = 14\n",
      "2 * 8 = 16\n",
      "2 * 9 = 18\n",
      "==========\n",
      "[3 단]\n",
      "3 * 2 = 6\n",
      "3 * 3 = 9\n",
      "3 * 4 = 12\n",
      "3 * 5 = 15\n",
      "3 * 6 = 18\n",
      "3 * 7 = 21\n",
      "3 * 8 = 24\n",
      "3 * 9 = 27\n",
      "==========\n",
      "[4 단]\n",
      "4 * 2 = 8\n",
      "4 * 3 = 12\n",
      "4 * 4 = 16\n",
      "4 * 5 = 20\n",
      "4 * 6 = 24\n",
      "4 * 7 = 28\n",
      "4 * 8 = 32\n",
      "4 * 9 = 36\n",
      "==========\n",
      "[5 단]\n",
      "5 * 2 = 10\n",
      "5 * 3 = 15\n",
      "5 * 4 = 20\n",
      "5 * 5 = 25\n",
      "5 * 6 = 30\n",
      "5 * 7 = 35\n",
      "5 * 8 = 40\n",
      "5 * 9 = 45\n",
      "==========\n",
      "[6 단]\n",
      "6 * 2 = 12\n",
      "6 * 3 = 18\n",
      "6 * 4 = 24\n",
      "6 * 5 = 30\n",
      "6 * 6 = 36\n",
      "6 * 7 = 42\n",
      "6 * 8 = 48\n",
      "6 * 9 = 54\n",
      "==========\n",
      "[7 단]\n",
      "7 * 2 = 14\n",
      "7 * 3 = 21\n",
      "7 * 4 = 28\n",
      "7 * 5 = 35\n",
      "7 * 6 = 42\n",
      "7 * 7 = 49\n",
      "7 * 8 = 56\n",
      "7 * 9 = 63\n",
      "==========\n",
      "[8 단]\n",
      "8 * 2 = 16\n",
      "8 * 3 = 24\n",
      "8 * 4 = 32\n",
      "8 * 5 = 40\n",
      "8 * 6 = 48\n",
      "8 * 7 = 56\n",
      "8 * 8 = 64\n",
      "8 * 9 = 72\n",
      "==========\n",
      "[9 단]\n",
      "9 * 2 = 18\n",
      "9 * 3 = 27\n",
      "9 * 4 = 36\n",
      "9 * 5 = 45\n",
      "9 * 6 = 54\n",
      "9 * 7 = 63\n",
      "9 * 8 = 72\n",
      "9 * 9 = 81\n",
      "==========\n",
      "[2단]\n",
      "2 * 2 = 4\n",
      "2 * 3 = 6\n",
      "2 * 4 = 8\n",
      "2 * 5 = 10\n",
      "2 * 6 = 12\n",
      "2 * 7 = 14\n",
      "2 * 8 = 16\n",
      "2 * 9 = 18\n",
      "==========\n",
      "[3단]\n",
      "3 * 2 = 6\n",
      "3 * 3 = 9\n",
      "3 * 4 = 12\n",
      "3 * 5 = 15\n",
      "3 * 6 = 18\n",
      "3 * 7 = 21\n",
      "3 * 8 = 24\n",
      "3 * 9 = 27\n",
      "==========\n",
      "[4단]\n",
      "4 * 2 = 8\n",
      "4 * 3 = 12\n",
      "4 * 4 = 16\n",
      "4 * 5 = 20\n",
      "4 * 6 = 24\n",
      "4 * 7 = 28\n",
      "4 * 8 = 32\n",
      "4 * 9 = 36\n",
      "==========\n",
      "[5단]\n",
      "5 * 2 = 10\n",
      "5 * 3 = 15\n",
      "5 * 4 = 20\n",
      "5 * 5 = 25\n",
      "5 * 6 = 30\n",
      "5 * 7 = 35\n",
      "5 * 8 = 40\n",
      "5 * 9 = 45\n",
      "==========\n",
      "[6단]\n",
      "6 * 2 = 12\n",
      "6 * 3 = 18\n",
      "6 * 4 = 24\n",
      "6 * 5 = 30\n",
      "6 * 6 = 36\n",
      "6 * 7 = 42\n",
      "6 * 8 = 48\n",
      "6 * 9 = 54\n",
      "==========\n",
      "[7단]\n",
      "7 * 2 = 14\n",
      "7 * 3 = 21\n",
      "7 * 4 = 28\n",
      "7 * 5 = 35\n",
      "7 * 6 = 42\n",
      "7 * 7 = 49\n",
      "7 * 8 = 56\n",
      "7 * 9 = 63\n",
      "==========\n",
      "[8단]\n",
      "8 * 2 = 16\n",
      "8 * 3 = 24\n",
      "8 * 4 = 32\n",
      "8 * 5 = 40\n",
      "8 * 6 = 48\n",
      "8 * 7 = 56\n",
      "8 * 8 = 64\n",
      "8 * 9 = 72\n",
      "==========\n",
      "[9단]\n",
      "9 * 2 = 18\n",
      "9 * 3 = 27\n",
      "9 * 4 = 36\n",
      "9 * 5 = 45\n",
      "9 * 6 = 54\n",
      "9 * 7 = 63\n",
      "9 * 8 = 72\n",
      "9 * 9 = 81\n",
      "==========\n"
     ]
    }
   ],
   "source": [
    "# 방법1\n",
    "for i in range(2,10):\n",
    "    print(\"[%d 단]\" %i)\n",
    "    for j in range(2,10):\n",
    "        print(\"%d * %d = %d\" %(i, j, i*j))\n",
    "    print(\"==========\")\n",
    "\n",
    "# 방법2\n",
    "for i in range(2,10):\n",
    "    print(f\"[{i}단]\")\n",
    "    for j in range(2,10):\n",
    "        print(f\"{i} * {j} = {i*j}\")\n",
    "    print(\"==========\")\n"
   ]
  },
  {
   "cell_type": "markdown",
   "id": "31d27335-e4ae-4da6-8129-f2559be5c87c",
   "metadata": {},
   "source": [
    "# practice 2\n",
    "\n",
    "숫자 하나 입력 받음, 그 숫자의 구구단 출력"
   ]
  },
  {
   "cell_type": "code",
   "execution_count": 21,
   "id": "1dd589d6-26cb-4340-9262-565900e47552",
   "metadata": {},
   "outputs": [
    {
     "name": "stdin",
     "output_type": "stream",
     "text": [
      "몇 단을 출력하시겠습니까? 3\n"
     ]
    },
    {
     "name": "stdout",
     "output_type": "stream",
     "text": [
      "구구단 3단 출력\n",
      "3 * 1 = 3\n",
      "3 * 2 = 6\n",
      "3 * 3 = 9\n",
      "3 * 4 = 12\n",
      "3 * 5 = 15\n",
      "3 * 6 = 18\n",
      "3 * 7 = 21\n",
      "3 * 8 = 24\n",
      "3 * 9 = 27\n"
     ]
    }
   ],
   "source": [
    "def gugudan(n):\n",
    "    print(f\"구구단 {n}단 출력\")\n",
    "\n",
    "    for i in range(1,10):\n",
    "        print(f\"{n} * {i} = {n*i}\")\n",
    "\n",
    "n = input(\"몇 단을 출력하시겠습니까?\")\n",
    "gugudan(int(n))"
   ]
  },
  {
   "cell_type": "markdown",
   "id": "7d0cf999-b1b0-417d-a028-3dfae8590e02",
   "metadata": {},
   "source": [
    "# practice 3\n",
    "\n",
    ">>다음과 같은 클래스를 생성하세요\n",
    "\n",
    "클래스이름 : Car\n",
    "동작(함수) : 1) run()   -   \"Car달림 \" 출력\n",
    "--------------------------------------------\n",
    "클래스이름 : Sonata\n",
    "상위클래스 : Car\n",
    "동작(함수) : 1) run()   -   \"Sonata 달림 \" 출력\n",
    "--------------------------------------------\n",
    "클래스이름 : Genesis\n",
    "상위클래스 : Car\n",
    "동작(함수) : 1) run()   -   \"Genesis 달림 \" 출력\n",
    "--------------------------------------------\n",
    "\n",
    ">>다음과 같은 함수를 생성하세요\n",
    "함수이름 : drive(c)\n",
    "처리내용 : c.run()\n",
    "\n",
    "\n",
    "--------------------------------------------\n",
    ">>다음과 같은 코드를 작성하여 실행하세요\n",
    "\n",
    "c1 = Car()\n",
    "c2 = Sonata()\n",
    "c3 = Genesis()\n",
    "drive(c1)\n",
    "drive(c2)\n",
    "drive(c3)"
   ]
  },
  {
   "cell_type": "code",
   "execution_count": 34,
   "id": "04f54823-ed78-4cc9-8d65-992ae489ebdc",
   "metadata": {},
   "outputs": [],
   "source": [
    "class Car():\n",
    "    def run(self):\n",
    "        print(\"Car달림\")\n",
    "\n",
    "class Sonata(Car):\n",
    "    def run(self):\n",
    "        print(\"Sonata 달림\")\n",
    "\n",
    "class Genesis(Car):\n",
    "    def run(self):\n",
    "        print(\"Genesis 달림\")\n",
    "\n",
    "# 동적 바인딩, 객체에 기능을 바인딩함\n",
    "def drive(c):\n",
    "    c.run()"
   ]
  },
  {
   "cell_type": "code",
   "execution_count": 35,
   "id": "80c39c23-7a25-4054-8017-7900451f7224",
   "metadata": {},
   "outputs": [
    {
     "name": "stdout",
     "output_type": "stream",
     "text": [
      "Car달림\n",
      "Sonata 달림\n",
      "Genesis 달림\n"
     ]
    }
   ],
   "source": [
    "c1 = Car()\n",
    "c2 = Sonata()\n",
    "c3 = Genesis()\n",
    "drive(c1)\n",
    "drive(c2)\n",
    "drive(c3)"
   ]
  },
  {
   "cell_type": "markdown",
   "id": "fecf12f8-dd7c-4628-bcb6-1160d6ca68c8",
   "metadata": {},
   "source": [
    "# lab3\n",
    "\n",
    "\n",
    "price = { \"피자\" : 10000 ,  \"김치볶음밥\" : 5000, \"짜장면\" : 4500, \"김밥\" : 2000 }\n",
    "order = { \"피자\" : 3 ,  \"김치볶음밥\" : 2,  \"김밥\" : 5 }  \n",
    "\n",
    "위와 같이 제품의 가격 정보가 있는 딕셔너리와\n",
    "                 주문 정보가 있는 딕셔너리가 있다.  \n",
    "총 주문 가격을 출력하세요. \n",
    "\n",
    " \n",
    "주문한 모든 제품 명을 출력하세요. \n",
    "주문한 음식은 총 몇인분 인지 출력하세요. \n",
    "\n",
    "주문한 음식 중에 짜장면이 있는지 출력하세요. \n"
   ]
  },
  {
   "cell_type": "code",
   "execution_count": 43,
   "id": "e442086b-e76f-484f-a2eb-8e7d4e1d6b90",
   "metadata": {},
   "outputs": [
    {
     "name": "stdout",
     "output_type": "stream",
     "text": [
      "총 주문 가격: 21500\n",
      "피자\n",
      "김치볶음밥\n",
      "김밥\n",
      "주문 개수: 10\n",
      "주문목록에 짜장면이 없습니다\n"
     ]
    }
   ],
   "source": [
    "price = { \"피자\" : 10000 ,  \"김치볶음밥\" : 5000, \"짜장면\" : 4500, \"김밥\" : 2000 }\n",
    "order = { \"피자\" : 3 ,  \"김치볶음밥\" : 2,  \"김밥\" : 5 } \n",
    "\n",
    "# 총 주문 가격\n",
    "sum = 0\n",
    "for i in price:\n",
    "    sum += price[i];\n",
    "print(f\"총 주문 가격: {sum}\")\n",
    "\n",
    "# 주문한 모든 제품 명을 출력\n",
    "for i in order:\n",
    "    print(i)\n",
    "\n",
    "# 총 몇 인분 주문했는지 출력\n",
    "num = 0\n",
    "for i in order:\n",
    "    num += order[i];\n",
    "print(f\"주문 개수: {num}\")\n",
    "\n",
    "# 주문목록에 짜장면이 있는지 출력\n",
    "if \"짜장면\" in order:\n",
    "    print(\"주문목록에 짜장면이 있습니다\")\n",
    "else:\n",
    "    print(\"주문목록에 짜장면이 없습니다\")\n"
   ]
  },
  {
   "cell_type": "markdown",
   "id": "5b42e240-bf41-4b78-9e5b-2f6044732db5",
   "metadata": {},
   "source": [
    "# lab4\n",
    "\n",
    "\n",
    "1)\n",
    "data = [10, 100, 70,99 ,22 ] \n",
    "for 문을 이용하여 data 합과 평균을 구하세요. \n",
    "\n",
    "\n",
    "2)\n",
    "data = [10, 333, 6 ,99 ,22 ] \n",
    "for 문을 이용하여 data 합을 구하세요. \n",
    "단, 3의 배수인 숫자만 합을 구합니다.\n",
    "\n",
    " \n",
    "3)\n",
    "score = [\"홍길동\",  {  \"tel\" : \"111-2222\", \"addr\": \"서울\"} , \n",
    "             \"김영희\",  {  \"tel\" : \"222-3333\",  \"addr\":\"부산\" }  ] \n",
    "for 문을 이용하여 \n",
    "각 사람의 이름과 연락처를 출력하세요.   \n"
   ]
  },
  {
   "cell_type": "code",
   "execution_count": 46,
   "id": "fe06eb5c-5a07-4007-b8b5-c9ad8af95421",
   "metadata": {},
   "outputs": [
    {
     "name": "stdout",
     "output_type": "stream",
     "text": [
      "합: 301, 평균: 60.2\n"
     ]
    }
   ],
   "source": [
    "# 1)\n",
    "data = [10, 100, 70,99 ,22 ]\n",
    "sum = 0;\n",
    "\n",
    "for i in data:\n",
    "    sum += i\n",
    "\n",
    "print(f\"합: {sum}, 평균: {sum/len(data)}\")\n"
   ]
  },
  {
   "cell_type": "code",
   "execution_count": 47,
   "id": "5ba995f3-1e8d-40cb-971a-b17d63577e64",
   "metadata": {},
   "outputs": [
    {
     "name": "stdout",
     "output_type": "stream",
     "text": [
      "합: 438\n"
     ]
    }
   ],
   "source": [
    "#2)\n",
    "data = [10, 333, 6 ,99 ,22 ]\n",
    "sum = 0\n",
    "\n",
    "for i in data:\n",
    "    if i%3 == 0:\n",
    "        sum += i\n",
    "\n",
    "print(f\"합: {sum}\")"
   ]
  },
  {
   "cell_type": "code",
   "execution_count": 65,
   "id": "06cd9498-9fde-4d10-9e87-0a41638b96f5",
   "metadata": {},
   "outputs": [
    {
     "name": "stdout",
     "output_type": "stream",
     "text": [
      "홍길동의 연락처: 111-2222\n",
      "김영희의 연락처: 222-3333\n"
     ]
    }
   ],
   "source": [
    "#3)\n",
    "score = [\"홍길동\",  {  \"tel\" : \"111-2222\", \"addr\": \"서울\"} , \n",
    "             \"김영희\",  {  \"tel\" : \"222-3333\",  \"addr\":\"부산\" }  ]\n",
    "\n",
    "for i in range(0,len(score),2):\n",
    "    print(f\"{score[i]}의 연락처: {score[i+1]['tel']}\")\n",
    "\n",
    "    "
   ]
  },
  {
   "cell_type": "markdown",
   "id": "5c59c7c2-6ef8-44d2-8921-615b09826f2d",
   "metadata": {},
   "source": [
    "# lab5\n",
    "\n",
    "<클래스 만들기 문제 >   \n",
    "=========================================== \n",
    "클래스이름 : calculator\n",
    "속성(변수) : 결과 저장할 변수 result. 초기값 0.0 \n",
    "             계산기 이름을 저장할 name.    \n",
    "  \n",
    "동작(함수) : \n",
    "  1) 함수이름 : add   \n",
    "     매개인자 몇 개 든 다 받을수 있다.      \n",
    "     처리 내용: 계산기객체의 result값을 매개인자로 더한후,result에저장\n",
    "  2) 함수이름 : subtract \n",
    "     매개인자 한 개       \n",
    "     처리 내용: 계산기객체의 result값을 매개인자로 뺀 후, result에저장 \n",
    "  3) 함수이름 : multiply\n",
    "     매개인자 한 개       \n",
    "     처리 내용: 계산기객체의 result값을 매개인자로 곱한후,result에저장\n",
    "  4) 함수이름 : divide\n",
    "     매개인자 한 개       \n",
    "     처리 내용: 계산기객체의 result값을 매개인자로 나누어 result에저장\n",
    "\n",
    "name이 \"똑똑한계산기\"인 calculator 객체를 하나 생성한다. \n",
    "계산기 객체의 함수들을 이용하여, 5를 더하고 10을 곱하고 2를 빼고, \n",
    "3으로 나눈 후, \n",
    "결과를 출력하세요. "
   ]
  },
  {
   "cell_type": "code",
   "execution_count": 75,
   "id": "ad9d8c32-5bff-4bf2-9367-c11e3321f71b",
   "metadata": {},
   "outputs": [
    {
     "name": "stdout",
     "output_type": "stream",
     "text": [
      "48\n"
     ]
    }
   ],
   "source": [
    "class calculator:\n",
    "    result = 0\n",
    "    \n",
    "    def __init__ (self, name=\"\"):\n",
    "        self.name = name\n",
    "\n",
    "    def add(self, *num):\n",
    "        for i in num:\n",
    "            self.result += i\n",
    "        \n",
    "    def subtract(self, num):\n",
    "        self.result -= num\n",
    "        \n",
    "    def multiply(self, rnum):\n",
    "        self.result *= num\n",
    "        \n",
    "    def divide(self, num):\n",
    "        self.result /= num\n",
    "\n",
    "cal = calculator(\"똑똑한계산기\")\n",
    "cal.add(5)\n",
    "cal.multiply(10)\n",
    "cal.subtract(2)\n",
    "\n",
    "print(cal.result)"
   ]
  },
  {
   "cell_type": "code",
   "execution_count": null,
   "id": "e65b16bf-0bb2-4426-a8bc-775dea759897",
   "metadata": {},
   "outputs": [],
   "source": []
  }
 ],
 "metadata": {
  "kernelspec": {
   "display_name": "Python 3 (ipykernel)",
   "language": "python",
   "name": "python3"
  },
  "language_info": {
   "codemirror_mode": {
    "name": "ipython",
    "version": 3
   },
   "file_extension": ".py",
   "mimetype": "text/x-python",
   "name": "python",
   "nbconvert_exporter": "python",
   "pygments_lexer": "ipython3",
   "version": "3.12.7"
  }
 },
 "nbformat": 4,
 "nbformat_minor": 5
}
