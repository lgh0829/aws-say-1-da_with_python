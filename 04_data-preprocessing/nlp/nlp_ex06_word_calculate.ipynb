{
 "cells": [
  {
   "cell_type": "code",
   "execution_count": 33,
   "metadata": {},
   "outputs": [
    {
     "name": "stdout",
     "output_type": "stream",
     "text": [
      "('엄마', 0.9293983578681946)\n",
      "[('엄마', 0.9293983578681946), ('어디가', 0.7918757796287537)]\n",
      "0.9293985\n",
      "0.15161611\n",
      "아빠 + 여자 – 남자: [('엄마', 0.8039979338645935)]\n",
      "서울 + 일본 - 한국: [('도쿄', 0.6773518919944763)]\n",
      "오른쪽 + 남자 - 왼쪽: [('여자', 0.7413994669914246)]\n",
      "서울 + 맛집: [('강남', 0.6851244568824768)]\n",
      "유재석: [('강호동', 0.9053046703338623)]\n"
     ]
    }
   ],
   "source": [
    "from gensim.models import Word2Vec\n",
    "model = Word2Vec.load (\"w2v/wiki.model\")\n",
    "\n",
    "result = model.wv.most_similar ( \"아빠\"  )  \n",
    "print(result[0])   #('엄마', 0.9293983578681946)\n",
    "result = model.wv.most_similar (  \"아빠\" , topn = 2  )  \n",
    "print(result) # [('엄마', 0.9293983578681946), ('어디가', 0.7918757796287537)]\n",
    "\n",
    "result =model.wv.similarity(  \"아빠\" , '엄마'  )  # 유사도 \n",
    "print(result) # 0.9293985 \n",
    "result =model.wv.similarity(  \"신발\" , '엄마'  ) # 유사도\n",
    "print(result) # 0.15161611 \n",
    "\n",
    "\n",
    "# 아빠 + 여자 – 남자\n",
    "result =model.wv.most_similar(positive =[\"아빠\"  , \"여자\"], negative =[\"남자\"] , topn=1  )  # [('엄마', 0.8039979338645935)]\n",
    "print(f\"아빠 + 여자 – 남자: {result}\")\n",
    "\n",
    "# 서울 + 일본 - 한국\n",
    "result = model.wv.most_similar(positive = [\"서울\", \"일본\"], negative = [\"한국\"], topn=1)\n",
    "print(f\"서울 + 일본 - 한국: {result}\")\n",
    "\n",
    "# 오른쪽 + 남자 - 왼쪽\n",
    "result = model.wv.most_similar(positive = [\"오른쪽\", \"남자\"], negative = [\"왼쪽\"], topn=1)\n",
    "print(f\"오른쪽 + 남자 - 왼쪽: {result}\")\n",
    "\n",
    "# 서울 + 맛집\n",
    "result = model.wv.most_similar(positive = [\"서울\", \"맛집\"], topn=1)\n",
    "print(f\"서울 + 맛집: {result}\")\n",
    "\n",
    "# 유재석\n",
    "result =model.wv.most_similar( positive=[\"유재석\"], topn=1 )\n",
    "print(f\"유재석: {result}\")"
   ]
  },
  {
   "cell_type": "code",
   "execution_count": null,
   "metadata": {},
   "outputs": [],
   "source": []
  }
 ],
 "metadata": {
  "kernelspec": {
   "display_name": "Python 3 (ipykernel)",
   "language": "python",
   "name": "python3"
  },
  "language_info": {
   "codemirror_mode": {
    "name": "ipython",
    "version": 3
   },
   "file_extension": ".py",
   "mimetype": "text/x-python",
   "name": "python",
   "nbconvert_exporter": "python",
   "pygments_lexer": "ipython3",
   "version": "3.12.7"
  }
 },
 "nbformat": 4,
 "nbformat_minor": 4
}
