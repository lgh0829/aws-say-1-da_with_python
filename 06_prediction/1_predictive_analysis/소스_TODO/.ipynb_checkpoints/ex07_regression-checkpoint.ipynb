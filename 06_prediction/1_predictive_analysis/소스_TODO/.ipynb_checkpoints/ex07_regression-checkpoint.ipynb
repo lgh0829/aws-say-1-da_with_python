{
 "cells": [
  {
   "cell_type": "markdown",
   "metadata": {},
   "source": [
    "# 선형회귀 "
   ]
  },
  {
   "cell_type": "markdown",
   "metadata": {},
   "source": [
    "###  선형회귀모델 생성 "
   ]
  },
  {
   "cell_type": "code",
   "execution_count": 1,
   "metadata": {},
   "outputs": [],
   "source": [
    "from sklearn.linear_model import LinearRegression\n",
    "model = LinearRegression(fit_intercept=True)\n",
    "\n",
    "# model = LinearRegression(fit_intercept=True)\n",
    "#fit_intercept 인수는 모형에 상수항이 있는가 없는가를 결정하는 인수이다. 디폴트 값이 True이고\n",
    "# 만약 상수항이 없으면 fit_intercept=False로 설정한다."
   ]
  },
  {
   "cell_type": "markdown",
   "metadata": {},
   "source": [
    "### 데이터 준비 "
   ]
  },
  {
   "cell_type": "code",
   "execution_count": 2,
   "metadata": {},
   "outputs": [],
   "source": [
    "x = [[10],[5],[9],[7]]       #공부시간 10시간   5시간, 9시간, 7시간\n",
    "y = [[100],[50],[90],[77]]   #시험점수 100점    50점,  90점   77점"
   ]
  },
  {
   "cell_type": "markdown",
   "metadata": {
    "id": "gnZkgb1oyIb8"
   },
   "source": [
    "### 학습 "
   ]
  },
  {
   "cell_type": "code",
   "execution_count": 4,
   "metadata": {
    "id": "eRhv5ByHyCwp",
    "outputId": "551c061d-a2c4-41a1-ef71-05c70ff4960d"
   },
   "outputs": [],
   "source": [
    "model = model.fit(x, y)\n"
   ]
  },
  {
   "cell_type": "markdown",
   "metadata": {},
   "source": [
    "### 예측"
   ]
  },
  {
   "cell_type": "code",
   "execution_count": 5,
   "metadata": {},
   "outputs": [
    {
     "name": "stdout",
     "output_type": "stream",
     "text": [
      "[[72.01694915]]\n"
     ]
    }
   ],
   "source": [
    "result =model.predict([[7]])\n",
    "print( result )"
   ]
  },
  {
   "cell_type": "markdown",
   "metadata": {},
   "source": [
    "### 평가"
   ]
  },
  {
   "cell_type": "code",
   "execution_count": 8,
   "metadata": {},
   "outputs": [
    {
     "name": "stdout",
     "output_type": "stream",
     "text": [
      "가중치: [[9.6440678]]\n",
      "상수항: [4.50847458]\n",
      "정확도: 0.9752042964761305\n"
     ]
    }
   ],
   "source": [
    "##########################################\n",
    "y_pred =  model.predict(x)\n",
    "print(f\"가중치: {model.coef_}\" )  #추정한 가중치 값  : W\n",
    "print( f\"상수항: {model.intercept_}\" )  #추정된 상수항 : b\n",
    "print ( f\"정확도: {model.score( x, y , )}\" ) # 실제 데이터에 대한 추정값의 정확도"
   ]
  },
  {
   "cell_type": "code",
   "execution_count": null,
   "metadata": {},
   "outputs": [],
   "source": []
  }
 ],
 "metadata": {
  "colab": {
   "provenance": []
  },
  "kernelspec": {
   "display_name": "Python 3 (ipykernel)",
   "language": "python",
   "name": "python3"
  },
  "language_info": {
   "codemirror_mode": {
    "name": "ipython",
    "version": 3
   },
   "file_extension": ".py",
   "mimetype": "text/x-python",
   "name": "python",
   "nbconvert_exporter": "python",
   "pygments_lexer": "ipython3",
   "version": "3.12.7"
  }
 },
 "nbformat": 4,
 "nbformat_minor": 4
}
