{
 "cells": [
  {
   "cell_type": "markdown",
   "id": "60863a5c",
   "metadata": {
    "id": "60863a5c"
   },
   "source": [
    "# 탐색적데이터분석"
   ]
  },
  {
   "cell_type": "markdown",
   "id": "ba9d1bb3-dd2a-48ad-b747-7dc64db0d889",
   "metadata": {},
   "source": [
    "### 데이터 준비"
   ]
  },
  {
   "cell_type": "code",
   "execution_count": 1,
   "id": "9db08dcc-652a-47c9-bbd7-2d97526fc941",
   "metadata": {
    "scrolled": true
   },
   "outputs": [
    {
     "data": {
      "text/html": [
       "<div>\n",
       "<style scoped>\n",
       "    .dataframe tbody tr th:only-of-type {\n",
       "        vertical-align: middle;\n",
       "    }\n",
       "\n",
       "    .dataframe tbody tr th {\n",
       "        vertical-align: top;\n",
       "    }\n",
       "\n",
       "    .dataframe thead th {\n",
       "        text-align: right;\n",
       "    }\n",
       "</style>\n",
       "<table border=\"1\" class=\"dataframe\">\n",
       "  <thead>\n",
       "    <tr style=\"text-align: right;\">\n",
       "      <th></th>\n",
       "      <th>sepal.length</th>\n",
       "      <th>sepal.width</th>\n",
       "      <th>petal.length</th>\n",
       "      <th>petal.width</th>\n",
       "      <th>variety</th>\n",
       "    </tr>\n",
       "  </thead>\n",
       "  <tbody>\n",
       "    <tr>\n",
       "      <th>145</th>\n",
       "      <td>6.7</td>\n",
       "      <td>3.0</td>\n",
       "      <td>5.2</td>\n",
       "      <td>2.3</td>\n",
       "      <td>Virginica</td>\n",
       "    </tr>\n",
       "    <tr>\n",
       "      <th>146</th>\n",
       "      <td>6.3</td>\n",
       "      <td>2.5</td>\n",
       "      <td>5.0</td>\n",
       "      <td>1.9</td>\n",
       "      <td>Virginica</td>\n",
       "    </tr>\n",
       "    <tr>\n",
       "      <th>147</th>\n",
       "      <td>6.5</td>\n",
       "      <td>3.0</td>\n",
       "      <td>5.2</td>\n",
       "      <td>2.0</td>\n",
       "      <td>Virginica</td>\n",
       "    </tr>\n",
       "    <tr>\n",
       "      <th>148</th>\n",
       "      <td>6.2</td>\n",
       "      <td>3.4</td>\n",
       "      <td>5.4</td>\n",
       "      <td>2.3</td>\n",
       "      <td>Virginica</td>\n",
       "    </tr>\n",
       "    <tr>\n",
       "      <th>149</th>\n",
       "      <td>5.9</td>\n",
       "      <td>3.0</td>\n",
       "      <td>5.1</td>\n",
       "      <td>1.8</td>\n",
       "      <td>Virginica</td>\n",
       "    </tr>\n",
       "  </tbody>\n",
       "</table>\n",
       "</div>"
      ],
      "text/plain": [
       "     sepal.length  sepal.width  petal.length  petal.width    variety\n",
       "145           6.7          3.0           5.2          2.3  Virginica\n",
       "146           6.3          2.5           5.0          1.9  Virginica\n",
       "147           6.5          3.0           5.2          2.0  Virginica\n",
       "148           6.2          3.4           5.4          2.3  Virginica\n",
       "149           5.9          3.0           5.1          1.8  Virginica"
      ]
     },
     "execution_count": 1,
     "metadata": {},
     "output_type": "execute_result"
    }
   ],
   "source": [
    "import pandas as pd\n",
    "\n",
    "iris = pd.read_csv(\"iris.csv\") #현재 폴더에 iris.csv 파일을 읽습니다. \n",
    "iris.tail()  # 끝 5행"
   ]
  },
  {
   "cell_type": "code",
   "execution_count": 35,
   "id": "2939662c-48a0-40c5-a69d-888211d64f88",
   "metadata": {},
   "outputs": [
    {
     "data": {
      "text/html": [
       "<div>\n",
       "<style scoped>\n",
       "    .dataframe tbody tr th:only-of-type {\n",
       "        vertical-align: middle;\n",
       "    }\n",
       "\n",
       "    .dataframe tbody tr th {\n",
       "        vertical-align: top;\n",
       "    }\n",
       "\n",
       "    .dataframe thead th {\n",
       "        text-align: right;\n",
       "    }\n",
       "</style>\n",
       "<table border=\"1\" class=\"dataframe\">\n",
       "  <thead>\n",
       "    <tr style=\"text-align: right;\">\n",
       "      <th></th>\n",
       "      <th>sepal.length</th>\n",
       "      <th>sepal.width</th>\n",
       "      <th>petal.length</th>\n",
       "      <th>petal.width</th>\n",
       "      <th>variety</th>\n",
       "    </tr>\n",
       "  </thead>\n",
       "  <tbody>\n",
       "    <tr>\n",
       "      <th>0</th>\n",
       "      <td>5.1</td>\n",
       "      <td>3.5</td>\n",
       "      <td>1.4</td>\n",
       "      <td>0.2</td>\n",
       "      <td>Setosa</td>\n",
       "    </tr>\n",
       "    <tr>\n",
       "      <th>1</th>\n",
       "      <td>4.9</td>\n",
       "      <td>3.0</td>\n",
       "      <td>1.4</td>\n",
       "      <td>0.2</td>\n",
       "      <td>Setosa</td>\n",
       "    </tr>\n",
       "    <tr>\n",
       "      <th>2</th>\n",
       "      <td>4.7</td>\n",
       "      <td>3.2</td>\n",
       "      <td>1.3</td>\n",
       "      <td>0.2</td>\n",
       "      <td>Setosa</td>\n",
       "    </tr>\n",
       "    <tr>\n",
       "      <th>3</th>\n",
       "      <td>4.6</td>\n",
       "      <td>3.1</td>\n",
       "      <td>1.5</td>\n",
       "      <td>0.2</td>\n",
       "      <td>Setosa</td>\n",
       "    </tr>\n",
       "    <tr>\n",
       "      <th>4</th>\n",
       "      <td>5.0</td>\n",
       "      <td>3.6</td>\n",
       "      <td>1.4</td>\n",
       "      <td>0.2</td>\n",
       "      <td>Setosa</td>\n",
       "    </tr>\n",
       "  </tbody>\n",
       "</table>\n",
       "</div>"
      ],
      "text/plain": [
       "   sepal.length  sepal.width  petal.length  petal.width variety\n",
       "0           5.1          3.5           1.4          0.2  Setosa\n",
       "1           4.9          3.0           1.4          0.2  Setosa\n",
       "2           4.7          3.2           1.3          0.2  Setosa\n",
       "3           4.6          3.1           1.5          0.2  Setosa\n",
       "4           5.0          3.6           1.4          0.2  Setosa"
      ]
     },
     "execution_count": 35,
     "metadata": {},
     "output_type": "execute_result"
    }
   ],
   "source": [
    "iris.head() # 첫 5행 \n",
    "\n",
    "# 꽃받침 길이      꽃받침 폭       꽃잎 길이       꽃잎 폭         붓꽃품종\n",
    "# sepal.length\tsepal.width\t  petal.length\tpetal.width\t  variety"
   ]
  },
  {
   "cell_type": "markdown",
   "id": "e3a554d3-ab5f-43db-a142-2c652ae04b09",
   "metadata": {},
   "source": [
    "문제) 각 변수는 범주(순서여부)/수치(이산or연속) 인가?"
   ]
  },
  {
   "cell_type": "markdown",
   "id": "b8a75de2-5893-4bc7-8f4a-0b1b8a8cec84",
   "metadata": {},
   "source": [
    "#### 기술통계 탐색"
   ]
  },
  {
   "cell_type": "code",
   "execution_count": 6,
   "id": "d9d8b377-d9d7-43ca-86b2-2889f339dbca",
   "metadata": {},
   "outputs": [
    {
     "data": {
      "text/html": [
       "<div>\n",
       "<style scoped>\n",
       "    .dataframe tbody tr th:only-of-type {\n",
       "        vertical-align: middle;\n",
       "    }\n",
       "\n",
       "    .dataframe tbody tr th {\n",
       "        vertical-align: top;\n",
       "    }\n",
       "\n",
       "    .dataframe thead th {\n",
       "        text-align: right;\n",
       "    }\n",
       "</style>\n",
       "<table border=\"1\" class=\"dataframe\">\n",
       "  <thead>\n",
       "    <tr style=\"text-align: right;\">\n",
       "      <th></th>\n",
       "      <th>sepal.length</th>\n",
       "      <th>sepal.width</th>\n",
       "      <th>petal.length</th>\n",
       "      <th>petal.width</th>\n",
       "    </tr>\n",
       "  </thead>\n",
       "  <tbody>\n",
       "    <tr>\n",
       "      <th>count</th>\n",
       "      <td>150.000000</td>\n",
       "      <td>150.000000</td>\n",
       "      <td>150.000000</td>\n",
       "      <td>150.000000</td>\n",
       "    </tr>\n",
       "    <tr>\n",
       "      <th>mean</th>\n",
       "      <td>5.843333</td>\n",
       "      <td>3.057333</td>\n",
       "      <td>3.758000</td>\n",
       "      <td>1.199333</td>\n",
       "    </tr>\n",
       "    <tr>\n",
       "      <th>std</th>\n",
       "      <td>0.828066</td>\n",
       "      <td>0.435866</td>\n",
       "      <td>1.765298</td>\n",
       "      <td>0.762238</td>\n",
       "    </tr>\n",
       "    <tr>\n",
       "      <th>min</th>\n",
       "      <td>4.300000</td>\n",
       "      <td>2.000000</td>\n",
       "      <td>1.000000</td>\n",
       "      <td>0.100000</td>\n",
       "    </tr>\n",
       "    <tr>\n",
       "      <th>25%</th>\n",
       "      <td>5.100000</td>\n",
       "      <td>2.800000</td>\n",
       "      <td>1.600000</td>\n",
       "      <td>0.300000</td>\n",
       "    </tr>\n",
       "    <tr>\n",
       "      <th>50%</th>\n",
       "      <td>5.800000</td>\n",
       "      <td>3.000000</td>\n",
       "      <td>4.350000</td>\n",
       "      <td>1.300000</td>\n",
       "    </tr>\n",
       "    <tr>\n",
       "      <th>75%</th>\n",
       "      <td>6.400000</td>\n",
       "      <td>3.300000</td>\n",
       "      <td>5.100000</td>\n",
       "      <td>1.800000</td>\n",
       "    </tr>\n",
       "    <tr>\n",
       "      <th>max</th>\n",
       "      <td>7.900000</td>\n",
       "      <td>4.400000</td>\n",
       "      <td>6.900000</td>\n",
       "      <td>2.500000</td>\n",
       "    </tr>\n",
       "  </tbody>\n",
       "</table>\n",
       "</div>"
      ],
      "text/plain": [
       "       sepal.length  sepal.width  petal.length  petal.width\n",
       "count    150.000000   150.000000    150.000000   150.000000\n",
       "mean       5.843333     3.057333      3.758000     1.199333\n",
       "std        0.828066     0.435866      1.765298     0.762238\n",
       "min        4.300000     2.000000      1.000000     0.100000\n",
       "25%        5.100000     2.800000      1.600000     0.300000\n",
       "50%        5.800000     3.000000      4.350000     1.300000\n",
       "75%        6.400000     3.300000      5.100000     1.800000\n",
       "max        7.900000     4.400000      6.900000     2.500000"
      ]
     },
     "execution_count": 6,
     "metadata": {},
     "output_type": "execute_result"
    }
   ],
   "source": [
    "iris.describe() #(평균, 표준편차, 최소, 중앙값, 최대값 등 사분위 수 )"
   ]
  },
  {
   "cell_type": "markdown",
   "id": "05d1ab07-d150-4ac4-886c-a19b73aaf635",
   "metadata": {},
   "source": [
    "### 시각화 라이브러리 준비"
   ]
  },
  {
   "cell_type": "code",
   "execution_count": 23,
   "id": "8eba7c9c-6666-4a1b-9d79-38d75f6681d4",
   "metadata": {},
   "outputs": [],
   "source": [
    "pip install seaborn"
   ]
  },
  {
   "cell_type": "code",
   "execution_count": 25,
   "id": "2245c077-4c21-485b-abe1-cb3feca8b4e3",
   "metadata": {},
   "outputs": [],
   "source": [
    "import matplotlib\n",
    "from matplotlib import font_manager,rc\n",
    "#한글 폰트 등록\n",
    "#font_location = \"c:/Windows/fonts/malgun.ttf\"\n",
    "font_location = \"/System/Library/fonts/AppleSDGothicNeo.ttc\"  # Mac OS\n",
    "font_name = font_manager.FontProperties(fname=font_location).get_name()\n",
    "matplotlib.rc('font', family=font_name)\n",
    "\n",
    "import matplotlib.pyplot as plt\n",
    "%matplotlib inline\n",
    "\n",
    "import seaborn as sns"
   ]
  },
  {
   "cell_type": "markdown",
   "id": "9fe07984",
   "metadata": {
    "id": "9fe07984"
   },
   "source": [
    "#  분포 탐색\n",
    "1. 상자 그래프\n",
    "2. 히스토그램\n",
    "3. 막대그래프"
   ]
  },
  {
   "cell_type": "markdown",
   "id": "3de451a9",
   "metadata": {
    "id": "3de451a9"
   },
   "source": [
    "#### 상자 그래프\n",
    "(연속형 변수 분포)"
   ]
  },
  {
   "cell_type": "code",
   "execution_count": 30,
   "id": "ac84cfdd-51e4-4fd6-a1f1-eb3e0434371d",
   "metadata": {
    "scrolled": true
   },
   "outputs": [
    {
     "data": {
      "text/plain": [
       "{'whiskers': [<matplotlib.lines.Line2D at 0x16c603250>,\n",
       "  <matplotlib.lines.Line2D at 0x16c603a00>],\n",
       " 'caps': [<matplotlib.lines.Line2D at 0x16c6006a0>,\n",
       "  <matplotlib.lines.Line2D at 0x16c601c60>],\n",
       " 'boxes': [<matplotlib.lines.Line2D at 0x16c603010>],\n",
       " 'medians': [<matplotlib.lines.Line2D at 0x16c6020e0>],\n",
       " 'fliers': [<matplotlib.lines.Line2D at 0x16c6036a0>],\n",
       " 'means': []}"
      ]
     },
     "execution_count": 30,
     "metadata": {},
     "output_type": "execute_result"
    },
    {
     "data": {
      "image/png": "[encoded data removed]",
      "text/plain": [
       "<Figure size 640x480 with 1 Axes>"
      ]
     },
     "metadata": {},
     "output_type": "display_data"
    }
   ],
   "source": [
    "plt.boxplot(iris[[\"sepal.length\"]]  )   # 꽃받침 길이 분포 "
   ]
  },
  {
   "cell_type": "code",
   "execution_count": null,
   "id": "ebb270c1-128f-43f2-99b0-f752165b55ca",
   "metadata": {},
   "outputs": [],
   "source": [
    "# 문제) 꽃잎 폭의 box plot 을 시각화 하세요 \n",
    "\n",
    "\n",
    "\n",
    "\n"
   ]
  },
  {
   "cell_type": "code",
   "execution_count": 37,
   "id": "3f156fc1-c9d4-489c-ae12-a0d3b649d001",
   "metadata": {},
   "outputs": [
    {
     "data": {
      "image/png": "[encoded data removed]",
      "text/plain": [
       "<Figure size 640x480 with 1 Axes>"
      ]
     },
     "metadata": {},
     "output_type": "display_data"
    }
   ],
   "source": [
    "#붓꽃 품종별 꽃받침길이 분포\n",
    "\n",
    "import seaborn as sns\n",
    "sns.boxplot(x=\"variety\", y=\"sepal.length\"  ,data=iris , hue =\"variety\" )\n",
    "\n",
    "plt.title(\" 붓꽃 품종별 꽃받침길이 분포 \")\n",
    "plt.xlabel(\"붓꽃 품종\")\n",
    "plt.ylabel(\"꽃받침길이\")\n",
    "plt.show()"
   ]
  },
  {
   "cell_type": "code",
   "execution_count": 41,
   "id": "d82af0c6-1dd8-4603-9303-7597dfb904d9",
   "metadata": {},
   "outputs": [
    {
     "data": {
      "image/png": "[encoded data removed]",
      "text/plain": [
       "<Figure size 640x480 with 1 Axes>"
      ]
     },
     "metadata": {},
     "output_type": "display_data"
    }
   ],
   "source": [
    "#문제  붓꽃 품종별 꽃잎 폭의 box plot 을 시각화 하세요 \n",
    "\n",
    "\n",
    "import seaborn as sns\n",
    "sns.boxplot(x=\"variety\", y=\"sepal.width\"  ,data=iris , hue =\"variety\" )\n",
    "\n",
    "plt.title(\" 붓꽃 품종별 꽃받침폭 분포 \")\n",
    "plt.xlabel(\"붓꽃 품종\")\n",
    "plt.ylabel(\"꽃받침폭\")\n",
    "plt.show()\n",
    "\n",
    "\n",
    "#문제  붓꽃 품종별 꽃잎길이 분포\n",
    "\n",
    "\n",
    "\n",
    "\n",
    "\n",
    "\n"
   ]
  },
  {
   "cell_type": "markdown",
   "id": "5a621e7c",
   "metadata": {
    "id": "5a621e7c"
   },
   "source": [
    "#### 히스토그램\n",
    "(연속형 변수 분포)\n",
    "\n",
    "https://wikidocs.net/92112 "
   ]
  },
  {
   "cell_type": "code",
   "execution_count": 43,
   "id": "d650fa39",
   "metadata": {
    "id": "d650fa39",
    "scrolled": true
   },
   "outputs": [
    {
     "data": {
      "text/plain": [
       "Text(0.5, 1.0, ' 전체 붓꽃 꽃받침폭 분포 ')"
      ]
     },
     "execution_count": 43,
     "metadata": {},
     "output_type": "execute_result"
    },
    {
     "data": {
      "image/png": "[encoded data removed]",
      "text/plain": [
       "<Figure size 640x480 with 1 Axes>"
      ]
     },
     "metadata": {},
     "output_type": "display_data"
    }
   ],
   "source": [
    "#전체 붓꽃 꽃받침폭 분포 히스토그램\n",
    "\n",
    "plt.hist(iris[[\"sepal.width\"]], bins=20,  alpha = 0.7, histtype='stepfilled', )\n",
    "plt.ylabel(\"빈도\")\n",
    "plt.xlabel(\"꽃받침폭\")\n",
    "plt.title (\" 전체 붓꽃 꽃받침폭 분포 \")\n"
   ]
  },
  {
   "cell_type": "code",
   "execution_count": 45,
   "id": "aa37b031-6612-4f6e-a7f1-f84bb67f6077",
   "metadata": {},
   "outputs": [
    {
     "data": {
      "text/plain": [
       "Text(0.5, 1.0, '붓꽃 품종별 꽃받침폭 분포 ')"
      ]
     },
     "execution_count": 45,
     "metadata": {},
     "output_type": "execute_result"
    },
    {
     "data": {
      "image/png": "[encoded data removed]",
      "text/plain": [
       "<Figure size 640x480 with 1 Axes>"
      ]
     },
     "metadata": {},
     "output_type": "display_data"
    }
   ],
   "source": [
    "#전체 붓꽃 품종별 꽃받침폭 분포 히스토그램\n",
    "\n",
    "plt.hist(iris.loc[(iris.variety == \"Versicolor\"), [\"sepal.width\"] ],\n",
    "      bins=20, alpha = 0.2, histtype='stepfilled', label=\"Versicolor\")\n",
    "\n",
    "plt.hist(iris.loc[(iris.variety == \"Setosa\"), [\"sepal.width\"] ],\n",
    "      bins=20, alpha = 0.2, histtype='stepfilled', color=\"red\", label=\"Setosa\")\n",
    "\n",
    "plt.hist(iris.loc[(iris.variety == \"Virginica\"), [\"sepal.width\"] ],\n",
    "      bins=20, alpha = 0.2, histtype='stepfilled', label=\"Virginica\")\n",
    "\n",
    "plt.ylabel(\"빈도\") ;   \n",
    "plt.xlabel(\"꽃받침폭\")\n",
    "plt.legend(prop={'size': 12}, title = '붓꽃 품종')\n",
    "\n",
    "plt.title (\"붓꽃 품종별 꽃받침폭 분포 \")"
   ]
  },
  {
   "cell_type": "code",
   "execution_count": null,
   "id": "296e9cb6",
   "metadata": {
    "id": "296e9cb6"
   },
   "outputs": [],
   "source": [
    "import pandas as pd\n",
    "\n",
    "# 범주형 변수\n",
    "blood = ['A', 'A', 'A', 'B', 'B', 'AB', 'O']\n",
    "pd.Categorical(blood).#TODO()"
   ]
  },
  {
   "cell_type": "code",
   "execution_count": null,
   "id": "3ef446b4",
   "metadata": {
    "id": "3ef446b4"
   },
   "outputs": [],
   "source": [
    "# 수치형 (이산형) 변수\n",
    "x = [1, 1, 1, 2, 3, 5, 5, 7, 8, 9]\n",
    "import pandas as pd\n",
    "pd.Series(x).#TODO()"
   ]
  },
  {
   "cell_type": "code",
   "execution_count": null,
   "id": "84c5cc97",
   "metadata": {
    "id": "84c5cc97"
   },
   "outputs": [],
   "source": [
    "# 수치형 (연속형) 변수\n",
    "weight = [47.2, 68.2, 55.3, 80.1, 47.5, 50.8, 71.1, 71.9, 81.9, 90.003]\n",
    "hist, edges = np.#TODO(weight, 4)\n",
    "print(edges)\n",
    "print(hist)"
   ]
  },
  {
   "cell_type": "code",
   "execution_count": null,
   "id": "be29cd1f",
   "metadata": {
    "id": "be29cd1f"
   },
   "outputs": [],
   "source": [
    "# 다음과 같은 빈도표\n",
    "#. 47.2      ~  57.90075 : 4개\n",
    "#. 57.90075  ~  68.6015  : 1개\n",
    "#. 68.6015   ~  79.30225 : 2개\n",
    "#. 79.30225  ~  90.003   : 3개"
   ]
  },
  {
   "cell_type": "markdown",
   "id": "b1654786",
   "metadata": {
    "id": "b1654786"
   },
   "source": [
    "#### 막대그래프  \n",
    "(범주형 변수, 이산형 변수  분포)\n",
    "\n",
    "\n",
    "https://wikidocs.net/92095 참고"
   ]
  },
  {
   "cell_type": "code",
   "execution_count": 63,
   "id": "ddcde857",
   "metadata": {
    "id": "ddcde857"
   },
   "outputs": [
    {
     "data": {
      "text/html": [
       "<div>\n",
       "<style scoped>\n",
       "    .dataframe tbody tr th:only-of-type {\n",
       "        vertical-align: middle;\n",
       "    }\n",
       "\n",
       "    .dataframe tbody tr th {\n",
       "        vertical-align: top;\n",
       "    }\n",
       "\n",
       "    .dataframe thead th {\n",
       "        text-align: right;\n",
       "    }\n",
       "</style>\n",
       "<table border=\"1\" class=\"dataframe\">\n",
       "  <thead>\n",
       "    <tr style=\"text-align: right;\">\n",
       "      <th></th>\n",
       "      <th>english</th>\n",
       "      <th>math</th>\n",
       "      <th>class</th>\n",
       "    </tr>\n",
       "  </thead>\n",
       "  <tbody>\n",
       "    <tr>\n",
       "      <th>0</th>\n",
       "      <td>100</td>\n",
       "      <td>100</td>\n",
       "      <td>1</td>\n",
       "    </tr>\n",
       "    <tr>\n",
       "      <th>1</th>\n",
       "      <td>90</td>\n",
       "      <td>90</td>\n",
       "      <td>1</td>\n",
       "    </tr>\n",
       "    <tr>\n",
       "      <th>2</th>\n",
       "      <td>80</td>\n",
       "      <td>80</td>\n",
       "      <td>1</td>\n",
       "    </tr>\n",
       "    <tr>\n",
       "      <th>3</th>\n",
       "      <td>70</td>\n",
       "      <td>20</td>\n",
       "      <td>1</td>\n",
       "    </tr>\n",
       "    <tr>\n",
       "      <th>4</th>\n",
       "      <td>20</td>\n",
       "      <td>90</td>\n",
       "      <td>2</td>\n",
       "    </tr>\n",
       "    <tr>\n",
       "      <th>5</th>\n",
       "      <td>90</td>\n",
       "      <td>100</td>\n",
       "      <td>2</td>\n",
       "    </tr>\n",
       "    <tr>\n",
       "      <th>6</th>\n",
       "      <td>80</td>\n",
       "      <td>80</td>\n",
       "      <td>2</td>\n",
       "    </tr>\n",
       "  </tbody>\n",
       "</table>\n",
       "</div>"
      ],
      "text/plain": [
       "   english  math  class\n",
       "0      100   100      1\n",
       "1       90    90      1\n",
       "2       80    80      1\n",
       "3       70    20      1\n",
       "4       20    90      2\n",
       "5       90   100      2\n",
       "6       80    80      2"
      ]
     },
     "execution_count": 63,
     "metadata": {},
     "output_type": "execute_result"
    }
   ],
   "source": [
    "import pandas as pd\n",
    "\n",
    "students = pd.read_csv(\"students.csv\")\n",
    "students"
   ]
  },
  {
   "cell_type": "code",
   "execution_count": 65,
   "id": "c38d5ca3",
   "metadata": {
    "id": "c38d5ca3",
    "scrolled": true
   },
   "outputs": [
    {
     "name": "stdout",
     "output_type": "stream",
     "text": [
      "class\n",
      "1    85.000000\n",
      "2    63.333333\n",
      "Name: english, dtype: float64\n"
     ]
    }
   ],
   "source": [
    "import matplotlib.pyplot as plt\n",
    "import numpy as np\n",
    "\n",
    "data = students[\"english\"].groupby(students['class'])\n",
    "\n",
    "data_avg = data.mean()\n",
    "print( data_avg   )  # 반별 영어 점수 평균"
   ]
  },
  {
   "cell_type": "code",
   "execution_count": 67,
   "id": "e37c72b5",
   "metadata": {
    "id": "e37c72b5",
    "scrolled": true
   },
   "outputs": [
    {
     "data": {
      "image/png": "[encoded data removed]",
      "text/plain": [
       "<Figure size 640x480 with 1 Axes>"
      ]
     },
     "metadata": {},
     "output_type": "display_data"
    }
   ],
   "source": [
    "plt.title(\"반별 영어 점수 평균 \")\n",
    "plt.bar( data_avg.index, data_avg)\n",
    "plt.show()"
   ]
  },
  {
   "cell_type": "code",
   "execution_count": null,
   "id": "5b8f810b-9ee9-46f6-bd95-0fe02217e5f5",
   "metadata": {},
   "outputs": [],
   "source": []
  }
 ],
 "metadata": {
  "colab": {
   "provenance": []
  },
  "kernelspec": {
   "display_name": "CS-3600",
   "language": "python",
   "name": "cs-3600"
  },
  "language_info": {
   "codemirror_mode": {
    "name": "ipython",
    "version": 3
   },
   "file_extension": ".py",
   "mimetype": "text/x-python",
   "name": "python",
   "nbconvert_exporter": "python",
   "pygments_lexer": "ipython3",
   "version": "3.10.16"
  }
 },
 "nbformat": 4,
 "nbformat_minor": 5
}
