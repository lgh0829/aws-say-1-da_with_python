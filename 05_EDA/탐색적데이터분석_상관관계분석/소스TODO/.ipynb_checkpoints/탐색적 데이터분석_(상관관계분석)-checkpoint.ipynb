{
 "cells": [
  {
   "cell_type": "markdown",
   "id": "76c48c50",
   "metadata": {
    "id": "76c48c50"
   },
   "source": [
    "### 관계시각화"
   ]
  },
  {
   "cell_type": "markdown",
   "id": "e6f4b7ee",
   "metadata": {
    "id": "e6f4b7ee"
   },
   "source": [
    "#### 산점도 그래프"
   ]
  },
  {
   "cell_type": "code",
   "execution_count": null,
   "id": "6cfca290",
   "metadata": {
    "id": "6cfca290"
   },
   "outputs": [],
   "source": [
    "import matplotlib\n",
    "from matplotlib import font_manager,rc\n",
    "import matplotlib.pyplot as plt\n",
    "%matplotlib inline\n",
    "\n",
    "#  #한글 폰트 등록\n",
    "#font_location = \"c:/Windows/fonts/malgun.ttf\" # Windows\n",
    "font_location = \"/System/Library/fonts/AppleSDGothicNeo.ttc\"  # Mac OS\n",
    "font_name = font_manager.FontProperties(fname=font_location).get_name()\n",
    "matplotlib.rc('font', family=font_name)\n",
    "\n",
    "import warnings\n",
    "warnings.filterwarnings(action='ignore')"
   ]
  },
  {
   "cell_type": "code",
   "execution_count": null,
   "id": "d063c76e",
   "metadata": {
    "id": "d063c76e",
    "outputId": "ab71797d-032d-4637-8220-4787445b6a5c"
   },
   "outputs": [
    {
     "data": {
      "text/html": [
       "<div>\n",
       "<style scoped>\n",
       "    .dataframe tbody tr th:only-of-type {\n",
       "        vertical-align: middle;\n",
       "    }\n",
       "\n",
       "    .dataframe tbody tr th {\n",
       "        vertical-align: top;\n",
       "    }\n",
       "\n",
       "    .dataframe thead th {\n",
       "        text-align: right;\n",
       "    }\n",
       "</style>\n",
       "<table border=\"1\" class=\"dataframe\">\n",
       "  <thead>\n",
       "    <tr style=\"text-align: right;\">\n",
       "      <th></th>\n",
       "      <th>english</th>\n",
       "      <th>math</th>\n",
       "      <th>class</th>\n",
       "    </tr>\n",
       "  </thead>\n",
       "  <tbody>\n",
       "    <tr>\n",
       "      <th>0</th>\n",
       "      <td>100</td>\n",
       "      <td>999</td>\n",
       "      <td>1</td>\n",
       "    </tr>\n",
       "    <tr>\n",
       "      <th>1</th>\n",
       "      <td>90</td>\n",
       "      <td>90</td>\n",
       "      <td>1</td>\n",
       "    </tr>\n",
       "    <tr>\n",
       "      <th>2</th>\n",
       "      <td>80</td>\n",
       "      <td>80</td>\n",
       "      <td>1</td>\n",
       "    </tr>\n",
       "    <tr>\n",
       "      <th>3</th>\n",
       "      <td>70</td>\n",
       "      <td>20</td>\n",
       "      <td>1</td>\n",
       "    </tr>\n",
       "    <tr>\n",
       "      <th>4</th>\n",
       "      <td>20</td>\n",
       "      <td>90</td>\n",
       "      <td>2</td>\n",
       "    </tr>\n",
       "  </tbody>\n",
       "</table>\n",
       "</div>"
      ],
      "text/plain": [
       "   english  math class\n",
       "0      100   999     1\n",
       "1       90    90     1\n",
       "2       80    80     1\n",
       "3       70    20     1\n",
       "4       20    90     2"
      ]
     },
     "execution_count": 2,
     "metadata": {},
     "output_type": "execute_result"
    }
   ],
   "source": [
    "# 데이터 준비\n",
    "import pandas as pd\n",
    "\n",
    "students = pd.#TODO(\"students.csv\")\n",
    "students.#TODO"
   ]
  },
  {
   "cell_type": "code",
   "execution_count": null,
   "id": "ddcff19d",
   "metadata": {
    "id": "ddcff19d"
   },
   "outputs": [],
   "source": [
    "plt.#TODO( students[\"english\"], students[\"math\"], 'bo')\n",
    "plt.xlabel('english')\n",
    "plt.ylabel('math')\n",
    "plt.#TODO(\" 영어접수와 수학점수 산점도 그래프\")\n",
    "plt.show()"
   ]
  },
  {
   "cell_type": "code",
   "execution_count": null,
   "id": "5c5456ee",
   "metadata": {
    "id": "5c5456ee"
   },
   "outputs": [],
   "source": [
    "import seaborn as sns\n",
    "# 데이터 준비\n",
    "iris = sns.#TODO(\"iris\")  # seaborn 팩키지의 샘플 데이터\n",
    "iris.head()"
   ]
  },
  {
   "cell_type": "code",
   "execution_count": null,
   "id": "ee3458e5",
   "metadata": {
    "id": "ee3458e5",
    "scrolled": true
   },
   "outputs": [],
   "source": [
    "plt.#TODO( #TODO[\"sepal_width\"], iris[\"petal_width\"], '^')\n",
    "plt.xlabel('sepal_width')\n",
    "plt.ylabel('petal_width')\n",
    "plt.title(\"붓꽃의 sepal_width와 petal_width 산점도 그래프\")\n",
    "plt.#TODO()"
   ]
  },
  {
   "cell_type": "code",
   "execution_count": null,
   "id": "26030769",
   "metadata": {
    "id": "26030769",
    "scrolled": true
   },
   "outputs": [],
   "source": [
    "sns.#TODO(iris)\n",
    "plt.#TODO()"
   ]
  },
  {
   "cell_type": "code",
   "execution_count": null,
   "id": "32bcc3d9",
   "metadata": {
    "id": "32bcc3d9",
    "scrolled": true
   },
   "outputs": [],
   "source": [
    "sns.#TODO(#TODO, #TODO=\"species\")\n",
    "plt.show()"
   ]
  },
  {
   "cell_type": "code",
   "execution_count": null,
   "id": "9295ff0b",
   "metadata": {
    "id": "9295ff0b",
    "scrolled": true
   },
   "outputs": [],
   "source": [
    "sns.#TODO(#TODO, #TODO=[\"sepal_width\", \"sepal_length\"])\n",
    "plt.#TODO()"
   ]
  },
  {
   "cell_type": "code",
   "execution_count": null,
   "id": "8e8a6d88",
   "metadata": {
    "id": "8e8a6d88",
    "scrolled": true
   },
   "outputs": [],
   "source": [
    "sns.#TODO(#TODO, #TODO=[\"sepal_width\", \"sepal_length\"],\n",
    "             #TODO=[\"petal_width\", \"petal_length\"])\n",
    "plt.show()"
   ]
  },
  {
   "cell_type": "markdown",
   "id": "4e82be7f",
   "metadata": {
    "id": "4e82be7f"
   },
   "source": [
    "### 피어슨 상관계수"
   ]
  },
  {
   "cell_type": "code",
   "execution_count": null,
   "id": "dd233654",
   "metadata": {
    "id": "dd233654",
    "scrolled": true
   },
   "outputs": [],
   "source": [
    "students.loc[:, (\"english\" ,\"math\" ) ].#TODO(#TODO='pearson')"
   ]
  },
  {
   "cell_type": "code",
   "execution_count": null,
   "id": "5777f5cc",
   "metadata": {
    "id": "5777f5cc",
    "scrolled": true
   },
   "outputs": [],
   "source": [
    "sns.#TODO(data = #TODO, annot=True,\n",
    "            fmt = '.2f', linewidths=.5, #TODO='Blues')"
   ]
  },
  {
   "cell_type": "code",
   "execution_count": null,
   "id": "ff7b8fc8",
   "metadata": {
    "id": "ff7b8fc8",
    "scrolled": true
   },
   "outputs": [],
   "source": [
    "sns.#TODO(data = #TODO, annot=True,\n",
    "            fmt = '.2f', linewidths=.5, cmap='Blues')\n"
   ]
  }
 ],
 "metadata": {
  "colab": {
   "provenance": []
  },
  "kernelspec": {
   "display_name": "CS-3600",
   "language": "python",
   "name": "cs-3600"
  },
  "language_info": {
   "codemirror_mode": {
    "name": "ipython",
    "version": 3
   },
   "file_extension": ".py",
   "mimetype": "text/x-python",
   "name": "python",
   "nbconvert_exporter": "python",
   "pygments_lexer": "ipython3",
   "version": "3.10.16"
  }
 },
 "nbformat": 4,
 "nbformat_minor": 5
}
